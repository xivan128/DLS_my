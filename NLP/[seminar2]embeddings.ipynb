{
  "nbformat": 4,
  "nbformat_minor": 0,
  "metadata": {
    "colab": {
      "name": "[seminar2]embeddings.ipynb",
      "provenance": [],
      "collapsed_sections": [],
      "include_colab_link": true
    },
    "kernelspec": {
      "display_name": "Python 3",
      "language": "python",
      "name": "python3"
    },
    "language_info": {
      "codemirror_mode": {
        "name": "ipython",
        "version": 3
      },
      "file_extension": ".py",
      "mimetype": "text/x-python",
      "name": "python",
      "nbconvert_exporter": "python",
      "pygments_lexer": "ipython3",
      "version": "3.7.4"
    },
    "toc": {
      "base_numbering": 1,
      "nav_menu": {},
      "number_sections": true,
      "sideBar": true,
      "skip_h1_title": false,
      "title_cell": "Table of Contents",
      "title_sidebar": "Contents",
      "toc_cell": false,
      "toc_position": {},
      "toc_section_display": true,
      "toc_window_display": false
    },
    "varInspector": {
      "cols": {
        "lenName": 16,
        "lenType": 16,
        "lenVar": 40
      },
      "kernels_config": {
        "python": {
          "delete_cmd_postfix": "",
          "delete_cmd_prefix": "del ",
          "library": "var_list.py",
          "varRefreshCmd": "print(var_dic_list())"
        },
        "r": {
          "delete_cmd_postfix": ") ",
          "delete_cmd_prefix": "rm(",
          "library": "var_list.r",
          "varRefreshCmd": "cat(var_dic_list()) "
        }
      },
      "types_to_exclude": [
        "module",
        "function",
        "builtin_function_or_method",
        "instance",
        "_Feature"
      ],
      "window_display": false
    }
  },
  "cells": [
    {
      "cell_type": "markdown",
      "metadata": {
        "id": "view-in-github",
        "colab_type": "text"
      },
      "source": [
        "<a href=\"https://colab.research.google.com/github/xivan128/DLS_my/blob/master/NLP/%5Bseminar2%5Dembeddings.ipynb\" target=\"_parent\"><img src=\"https://colab.research.google.com/assets/colab-badge.svg\" alt=\"Open In Colab\"/></a>"
      ]
    },
    {
      "cell_type": "markdown",
      "metadata": {
        "colab_type": "text",
        "id": "-DOaQhWqbSVY"
      },
      "source": [
        "<img src=\"https://s8.hostingkartinok.com/uploads/images/2018/08/308b49fcfbc619d629fe4604bceb67ac.jpg\" width=500, height=450>\n",
        "<h3 style=\"text-align: center;\"><b>Физтех-Школа Прикладной математики и информатики (ФПМИ) МФТИ</b></h3>"
      ]
    },
    {
      "cell_type": "markdown",
      "metadata": {
        "colab_type": "text",
        "id": "o0mOUchLPMAR"
      },
      "source": [
        "---"
      ]
    },
    {
      "cell_type": "markdown",
      "metadata": {
        "colab_type": "text",
        "id": "xPszMQhYbSVb"
      },
      "source": [
        "<h2 style=\"text-align: center;\"><b>Word embeddings</b></h2>"
      ]
    },
    {
      "cell_type": "markdown",
      "metadata": {
        "colab_type": "text",
        "id": "d8r43Kl9_r3t"
      },
      "source": [
        "Libraries we will need today (actually 2 first of them you'll need afterwards, too)"
      ]
    },
    {
      "cell_type": "code",
      "metadata": {
        "id": "Q9KXp3vv8oHh",
        "colab_type": "code",
        "outputId": "e113ceb0-ba25-4486-8d80-cf54e0566235",
        "colab": {
          "base_uri": "https://localhost:8080/",
          "height": 1000
        }
      },
      "source": [
        "!pip install --upgrade nltk gensim bokeh"
      ],
      "execution_count": 1,
      "outputs": [
        {
          "output_type": "stream",
          "text": [
            "Collecting nltk\n",
            "\u001b[?25l  Downloading https://files.pythonhosted.org/packages/f6/1d/d925cfb4f324ede997f6d47bea4d9babba51b49e87a767c170b77005889d/nltk-3.4.5.zip (1.5MB)\n",
            "\u001b[K     |████████████████████████████████| 1.5MB 3.1MB/s \n",
            "\u001b[?25hCollecting gensim\n",
            "\u001b[?25l  Downloading https://files.pythonhosted.org/packages/d1/dd/112bd4258cee11e0baaaba064060eb156475a42362e59e3ff28e7ca2d29d/gensim-3.8.1-cp36-cp36m-manylinux1_x86_64.whl (24.2MB)\n",
            "\u001b[K     |████████████████████████████████| 24.2MB 1.3MB/s \n",
            "\u001b[?25hCollecting bokeh\n",
            "\u001b[?25l  Downloading https://files.pythonhosted.org/packages/45/83/20bd995c4d79f8947fb2c9b80fa729157300d252a63c412d0f5a4915ff07/bokeh-2.0.1.tar.gz (8.6MB)\n",
            "\u001b[K     |████████████████████████████████| 8.6MB 46.1MB/s \n",
            "\u001b[?25hRequirement already satisfied, skipping upgrade: six in /usr/local/lib/python3.6/dist-packages (from nltk) (1.12.0)\n",
            "Requirement already satisfied, skipping upgrade: numpy>=1.11.3 in /usr/local/lib/python3.6/dist-packages (from gensim) (1.18.2)\n",
            "Requirement already satisfied, skipping upgrade: scipy>=0.18.1 in /usr/local/lib/python3.6/dist-packages (from gensim) (1.4.1)\n",
            "Requirement already satisfied, skipping upgrade: smart-open>=1.8.1 in /usr/local/lib/python3.6/dist-packages (from gensim) (1.10.0)\n",
            "Requirement already satisfied, skipping upgrade: PyYAML>=3.10 in /usr/local/lib/python3.6/dist-packages (from bokeh) (3.13)\n",
            "Requirement already satisfied, skipping upgrade: python-dateutil>=2.1 in /usr/local/lib/python3.6/dist-packages (from bokeh) (2.8.1)\n",
            "Requirement already satisfied, skipping upgrade: Jinja2>=2.7 in /usr/local/lib/python3.6/dist-packages (from bokeh) (2.11.1)\n",
            "Requirement already satisfied, skipping upgrade: pillow>=4.0 in /usr/local/lib/python3.6/dist-packages (from bokeh) (7.0.0)\n",
            "Requirement already satisfied, skipping upgrade: packaging>=16.8 in /usr/local/lib/python3.6/dist-packages (from bokeh) (20.3)\n",
            "Collecting tornado>=5\n",
            "\u001b[?25l  Downloading https://files.pythonhosted.org/packages/95/84/119a46d494f008969bf0c775cb2c6b3579d3c4cc1bb1b41a022aa93ee242/tornado-6.0.4.tar.gz (496kB)\n",
            "\u001b[K     |████████████████████████████████| 501kB 42.4MB/s \n",
            "\u001b[?25hCollecting typing_extensions>=3.7.4\n",
            "  Downloading https://files.pythonhosted.org/packages/0c/0e/3f026d0645d699e7320b59952146d56ad7c374e9cd72cd16e7c74e657a0f/typing_extensions-3.7.4.2-py3-none-any.whl\n",
            "Requirement already satisfied, skipping upgrade: requests in /usr/local/lib/python3.6/dist-packages (from smart-open>=1.8.1->gensim) (2.21.0)\n",
            "Requirement already satisfied, skipping upgrade: boto3 in /usr/local/lib/python3.6/dist-packages (from smart-open>=1.8.1->gensim) (1.12.33)\n",
            "Requirement already satisfied, skipping upgrade: google-cloud-storage in /usr/local/lib/python3.6/dist-packages (from smart-open>=1.8.1->gensim) (1.18.1)\n",
            "Requirement already satisfied, skipping upgrade: MarkupSafe>=0.23 in /usr/local/lib/python3.6/dist-packages (from Jinja2>=2.7->bokeh) (1.1.1)\n",
            "Requirement already satisfied, skipping upgrade: pyparsing>=2.0.2 in /usr/local/lib/python3.6/dist-packages (from packaging>=16.8->bokeh) (2.4.6)\n",
            "Requirement already satisfied, skipping upgrade: certifi>=2017.4.17 in /usr/local/lib/python3.6/dist-packages (from requests->smart-open>=1.8.1->gensim) (2019.11.28)\n",
            "Requirement already satisfied, skipping upgrade: urllib3<1.25,>=1.21.1 in /usr/local/lib/python3.6/dist-packages (from requests->smart-open>=1.8.1->gensim) (1.24.3)\n",
            "Requirement already satisfied, skipping upgrade: chardet<3.1.0,>=3.0.2 in /usr/local/lib/python3.6/dist-packages (from requests->smart-open>=1.8.1->gensim) (3.0.4)\n",
            "Requirement already satisfied, skipping upgrade: idna<2.9,>=2.5 in /usr/local/lib/python3.6/dist-packages (from requests->smart-open>=1.8.1->gensim) (2.8)\n",
            "Requirement already satisfied, skipping upgrade: s3transfer<0.4.0,>=0.3.0 in /usr/local/lib/python3.6/dist-packages (from boto3->smart-open>=1.8.1->gensim) (0.3.3)\n",
            "Requirement already satisfied, skipping upgrade: jmespath<1.0.0,>=0.7.1 in /usr/local/lib/python3.6/dist-packages (from boto3->smart-open>=1.8.1->gensim) (0.9.5)\n",
            "Requirement already satisfied, skipping upgrade: botocore<1.16.0,>=1.15.33 in /usr/local/lib/python3.6/dist-packages (from boto3->smart-open>=1.8.1->gensim) (1.15.33)\n",
            "Requirement already satisfied, skipping upgrade: google-auth>=1.2.0 in /usr/local/lib/python3.6/dist-packages (from google-cloud-storage->smart-open>=1.8.1->gensim) (1.7.2)\n",
            "Requirement already satisfied, skipping upgrade: google-resumable-media<0.5.0dev,>=0.3.1 in /usr/local/lib/python3.6/dist-packages (from google-cloud-storage->smart-open>=1.8.1->gensim) (0.4.1)\n",
            "Requirement already satisfied, skipping upgrade: google-cloud-core<2.0dev,>=1.0.0 in /usr/local/lib/python3.6/dist-packages (from google-cloud-storage->smart-open>=1.8.1->gensim) (1.0.3)\n",
            "Requirement already satisfied, skipping upgrade: docutils<0.16,>=0.10 in /usr/local/lib/python3.6/dist-packages (from botocore<1.16.0,>=1.15.33->boto3->smart-open>=1.8.1->gensim) (0.15.2)\n",
            "Requirement already satisfied, skipping upgrade: pyasn1-modules>=0.2.1 in /usr/local/lib/python3.6/dist-packages (from google-auth>=1.2.0->google-cloud-storage->smart-open>=1.8.1->gensim) (0.2.8)\n",
            "Requirement already satisfied, skipping upgrade: rsa<4.1,>=3.1.4 in /usr/local/lib/python3.6/dist-packages (from google-auth>=1.2.0->google-cloud-storage->smart-open>=1.8.1->gensim) (4.0)\n",
            "Requirement already satisfied, skipping upgrade: setuptools>=40.3.0 in /usr/local/lib/python3.6/dist-packages (from google-auth>=1.2.0->google-cloud-storage->smart-open>=1.8.1->gensim) (46.0.0)\n",
            "Requirement already satisfied, skipping upgrade: cachetools<3.2,>=2.0.0 in /usr/local/lib/python3.6/dist-packages (from google-auth>=1.2.0->google-cloud-storage->smart-open>=1.8.1->gensim) (3.1.1)\n",
            "Requirement already satisfied, skipping upgrade: google-api-core<2.0.0dev,>=1.14.0 in /usr/local/lib/python3.6/dist-packages (from google-cloud-core<2.0dev,>=1.0.0->google-cloud-storage->smart-open>=1.8.1->gensim) (1.16.0)\n",
            "Requirement already satisfied, skipping upgrade: pyasn1<0.5.0,>=0.4.6 in /usr/local/lib/python3.6/dist-packages (from pyasn1-modules>=0.2.1->google-auth>=1.2.0->google-cloud-storage->smart-open>=1.8.1->gensim) (0.4.8)\n",
            "Requirement already satisfied, skipping upgrade: protobuf>=3.4.0 in /usr/local/lib/python3.6/dist-packages (from google-api-core<2.0.0dev,>=1.14.0->google-cloud-core<2.0dev,>=1.0.0->google-cloud-storage->smart-open>=1.8.1->gensim) (3.10.0)\n",
            "Requirement already satisfied, skipping upgrade: googleapis-common-protos<2.0dev,>=1.6.0 in /usr/local/lib/python3.6/dist-packages (from google-api-core<2.0.0dev,>=1.14.0->google-cloud-core<2.0dev,>=1.0.0->google-cloud-storage->smart-open>=1.8.1->gensim) (1.51.0)\n",
            "Requirement already satisfied, skipping upgrade: pytz in /usr/local/lib/python3.6/dist-packages (from google-api-core<2.0.0dev,>=1.14.0->google-cloud-core<2.0dev,>=1.0.0->google-cloud-storage->smart-open>=1.8.1->gensim) (2018.9)\n",
            "Building wheels for collected packages: nltk, bokeh, tornado\n",
            "  Building wheel for nltk (setup.py) ... \u001b[?25l\u001b[?25hdone\n",
            "  Created wheel for nltk: filename=nltk-3.4.5-cp36-none-any.whl size=1449908 sha256=3342930cba734981c09bf0dd19c01c514a1ded4dedd7f23acad806dfc87e26e4\n",
            "  Stored in directory: /root/.cache/pip/wheels/96/86/f6/68ab24c23f207c0077381a5e3904b2815136b879538a24b483\n",
            "  Building wheel for bokeh (setup.py) ... \u001b[?25l\u001b[?25hdone\n",
            "  Created wheel for bokeh: filename=bokeh-2.0.1-cp36-none-any.whl size=9080030 sha256=7eb0e9b6c4e730ba0c9cbd12b3b918b33c3c1b325076ac6e4263115cf7d0ba17\n",
            "  Stored in directory: /root/.cache/pip/wheels/de/64/d0/e7f70919e19f57a6efceb65cc4edaa0449e707bcdb6e7e61ad\n",
            "  Building wheel for tornado (setup.py) ... \u001b[?25l\u001b[?25hdone\n",
            "  Created wheel for tornado: filename=tornado-6.0.4-cp36-cp36m-linux_x86_64.whl size=427630 sha256=c73394cae3c7f28698d5d98df04f3ee1448e478a26d067a4e41b3e22a87fee56\n",
            "  Stored in directory: /root/.cache/pip/wheels/93/84/2f/409c7b2bb3afc3aa727f7ee8787975e0793f74d1165f4d0104\n",
            "Successfully built nltk bokeh tornado\n",
            "\u001b[31mERROR: google-colab 1.0.0 has requirement tornado~=4.5.0, but you'll have tornado 6.0.4 which is incompatible.\u001b[0m\n",
            "\u001b[31mERROR: chainer 6.5.0 has requirement typing-extensions<=3.6.6, but you'll have typing-extensions 3.7.4.2 which is incompatible.\u001b[0m\n",
            "Installing collected packages: nltk, gensim, tornado, typing-extensions, bokeh\n",
            "  Found existing installation: nltk 3.2.5\n",
            "    Uninstalling nltk-3.2.5:\n",
            "      Successfully uninstalled nltk-3.2.5\n",
            "  Found existing installation: gensim 3.6.0\n",
            "    Uninstalling gensim-3.6.0:\n",
            "      Successfully uninstalled gensim-3.6.0\n",
            "  Found existing installation: tornado 4.5.3\n",
            "    Uninstalling tornado-4.5.3:\n",
            "      Successfully uninstalled tornado-4.5.3\n",
            "  Found existing installation: typing-extensions 3.6.6\n",
            "    Uninstalling typing-extensions-3.6.6:\n",
            "      Successfully uninstalled typing-extensions-3.6.6\n",
            "  Found existing installation: bokeh 1.4.0\n",
            "    Uninstalling bokeh-1.4.0:\n",
            "      Successfully uninstalled bokeh-1.4.0\n",
            "Successfully installed bokeh-2.0.1 gensim-3.8.1 nltk-3.4.5 tornado-6.0.4 typing-extensions-3.7.4.2\n"
          ],
          "name": "stdout"
        },
        {
          "output_type": "display_data",
          "data": {
            "application/vnd.colab-display-data+json": {
              "pip_warning": {
                "packages": [
                  "tornado"
                ]
              }
            }
          },
          "metadata": {
            "tags": []
          }
        }
      ]
    },
    {
      "cell_type": "markdown",
      "metadata": {
        "colab_type": "text",
        "id": "kZTnWfoEbryt"
      },
      "source": [
        "**NLTK** (Natural Language Toolkit) -- a library with many features to work with natural language (e.g. lemmatization, tokenization, etc.)\n",
        "\n",
        "https://www.nltk.org\n",
        "\n",
        "We wull use it for tokenization for now."
      ]
    },
    {
      "cell_type": "code",
      "metadata": {
        "id": "lC0crq6V8urf",
        "colab_type": "code",
        "outputId": "5e0bc069-ef7f-4b68-8a40-27c0e104bc92",
        "colab": {
          "base_uri": "https://localhost:8080/",
          "height": 410
        }
      },
      "source": [
        "!wget -O quora.txt https://www.dropbox.com/s/obaitrix9jyu84r/quora.txt?dl=1"
      ],
      "execution_count": 2,
      "outputs": [
        {
          "output_type": "stream",
          "text": [
            "--2020-04-05 13:36:17--  https://www.dropbox.com/s/obaitrix9jyu84r/quora.txt?dl=1\n",
            "Resolving www.dropbox.com (www.dropbox.com)... 162.125.8.1, 2620:100:6018:1::a27d:301\n",
            "Connecting to www.dropbox.com (www.dropbox.com)|162.125.8.1|:443... connected.\n",
            "HTTP request sent, awaiting response... 301 Moved Permanently\n",
            "Location: /s/dl/obaitrix9jyu84r/quora.txt [following]\n",
            "--2020-04-05 13:36:18--  https://www.dropbox.com/s/dl/obaitrix9jyu84r/quora.txt\n",
            "Reusing existing connection to www.dropbox.com:443.\n",
            "HTTP request sent, awaiting response... 302 Found\n",
            "Location: https://uc5b455084956adfbfdae59216ed.dl.dropboxusercontent.com/cd/0/get/A1RUwhj4HBz5zwmFDXKYc9eS1rromUxS38gSo4VmmylhDEGu0zRUnowdTKo8vAZvu9kKvVZBX90p7nVtffFR-lWt5FjgAwFGaaSDo7vmsrfPKQ/file?dl=1# [following]\n",
            "--2020-04-05 13:36:18--  https://uc5b455084956adfbfdae59216ed.dl.dropboxusercontent.com/cd/0/get/A1RUwhj4HBz5zwmFDXKYc9eS1rromUxS38gSo4VmmylhDEGu0zRUnowdTKo8vAZvu9kKvVZBX90p7nVtffFR-lWt5FjgAwFGaaSDo7vmsrfPKQ/file?dl=1\n",
            "Resolving uc5b455084956adfbfdae59216ed.dl.dropboxusercontent.com (uc5b455084956adfbfdae59216ed.dl.dropboxusercontent.com)... 162.125.8.6, 2620:100:601b:6::a27d:806\n",
            "Connecting to uc5b455084956adfbfdae59216ed.dl.dropboxusercontent.com (uc5b455084956adfbfdae59216ed.dl.dropboxusercontent.com)|162.125.8.6|:443... connected.\n",
            "HTTP request sent, awaiting response... 200 OK\n",
            "Length: 33813903 (32M) [application/binary]\n",
            "Saving to: ‘quora.txt’\n",
            "\n",
            "quora.txt           100%[===================>]  32.25M  56.3MB/s    in 0.6s    \n",
            "\n",
            "2020-04-05 13:36:19 (56.3 MB/s) - ‘quora.txt’ saved [33813903/33813903]\n",
            "\n"
          ],
          "name": "stdout"
        }
      ]
    },
    {
      "cell_type": "code",
      "metadata": {
        "colab_type": "code",
        "id": "U7vuP82fbdpx",
        "outputId": "6d231a34-69b0-4269-d1e2-8718c3d4a3da",
        "colab": {
          "base_uri": "https://localhost:8080/",
          "height": 35
        }
      },
      "source": [
        "from nltk.tokenize import WordPunctTokenizer\n",
        "tokenizer = WordPunctTokenizer()\n",
        "\n",
        "quora = list(open(\"./quora.txt\"))\n",
        "# look at 10th question from the dataset\n",
        "print(tokenizer.tokenize(quora[13]))"
      ],
      "execution_count": 4,
      "outputs": [
        {
          "output_type": "stream",
          "text": [
            "['Is', 'Windows', 'the', 'only', 'OS', 'that', 'is', 'not', 'based', 'on', 'UNIX', 'or', 'Linux', '?']\n"
          ],
          "name": "stdout"
        }
      ]
    },
    {
      "cell_type": "markdown",
      "metadata": {
        "colab_type": "text",
        "id": "Q72RDmVkBCC3"
      },
      "source": [
        "Let's tokenize all the texts from quora.txt file and get array of arrays of tokens:"
      ]
    },
    {
      "cell_type": "code",
      "metadata": {
        "colab_type": "code",
        "id": "3Z6xzhsPc1jZ",
        "colab": {}
      },
      "source": [
        "quora_tokenized = [tokenizer.tokenize(line.lower()) for line in quora]"
      ],
      "execution_count": 0,
      "outputs": []
    },
    {
      "cell_type": "markdown",
      "metadata": {
        "colab_type": "text",
        "id": "6aHSIIThdSIF"
      },
      "source": [
        "There are many different models to train to get word embeddings (Word2Vec, GloVe, FastText, etc). For now let's try to train word2vec.\n",
        "\n",
        "Library **gensim** will help us with that -- it provides models for Word2Vec training and further vectors' investigation"
      ]
    },
    {
      "cell_type": "code",
      "metadata": {
        "colab_type": "code",
        "id": "iwPQDCXWdBrW",
        "colab": {}
      },
      "source": [
        "from gensim.models import Word2Vec\n",
        "# define a model (just like torch model) with parameters\n",
        "# and train it on our data\n",
        "model = Word2Vec(quora_tokenized, # data for model to train on\n",
        "                 size=32,         # embedding vector size\n",
        "                 min_count=5,     # consider words that occured at least 5 times\n",
        "                 window=3).wv     # define context as a 3-word window around the target word"
      ],
      "execution_count": 0,
      "outputs": []
    },
    {
      "cell_type": "markdown",
      "metadata": {
        "colab_type": "text",
        "id": "YfzWThklBiJo"
      },
      "source": [
        "Now we have trained model and can play with it:"
      ]
    },
    {
      "cell_type": "code",
      "metadata": {
        "colab_type": "code",
        "id": "7xirOxjPdKAd",
        "outputId": "f0f7c8b5-7fec-4857-c430-bc949fadad73",
        "colab": {
          "base_uri": "https://localhost:8080/",
          "height": 147
        }
      },
      "source": [
        "# we can get a vector for any word in our vocabulary\n",
        "model.get_vector('tv')"
      ],
      "execution_count": 7,
      "outputs": [
        {
          "output_type": "execute_result",
          "data": {
            "text/plain": [
              "array([ 0.78430593, -0.11037091, -4.253414  ,  3.2690594 ,  0.25448832,\n",
              "        0.23905472,  0.23267211,  1.2535465 ,  1.8208604 ,  4.7701726 ,\n",
              "       -2.156661  , -1.4598137 ,  0.7330678 ,  1.4347212 , -2.0395124 ,\n",
              "       -2.153161  , -0.3946055 , -0.6728859 , -1.159524  , -4.8800983 ,\n",
              "       -1.0288959 ,  0.2862545 , -1.4378166 , -0.6976194 ,  0.3228323 ,\n",
              "        2.4649682 ,  1.5751253 ,  1.954539  , -1.7779335 ,  0.2970708 ,\n",
              "        0.09240846, -2.8341513 ], dtype=float32)"
            ]
          },
          "metadata": {
            "tags": []
          },
          "execution_count": 7
        }
      ]
    },
    {
      "cell_type": "code",
      "metadata": {
        "colab_type": "code",
        "id": "IFy6mJsXdhXE",
        "outputId": "3fbc9091-f157-40a1-95ac-ac0d0901eee6",
        "colab": {
          "base_uri": "https://localhost:8080/",
          "height": 203
        }
      },
      "source": [
        "# and get words that have most similar vectors to vector of the given word\n",
        "model.most_similar('tv')"
      ],
      "execution_count": 8,
      "outputs": [
        {
          "output_type": "execute_result",
          "data": {
            "text/plain": [
              "[('television', 0.896950364112854),\n",
              " ('dvd', 0.7978984117507935),\n",
              " ('netflix', 0.7860727310180664),\n",
              " ('anime', 0.7747682332992554),\n",
              " ('video', 0.7476654052734375),\n",
              " ('4k', 0.7336165904998779),\n",
              " ('ps4', 0.7326556444168091),\n",
              " ('game', 0.7166074514389038),\n",
              " ('games', 0.7069363594055176),\n",
              " ('animated', 0.7043005228042603)]"
            ]
          },
          "metadata": {
            "tags": []
          },
          "execution_count": 8
        }
      ]
    },
    {
      "cell_type": "markdown",
      "metadata": {
        "colab_type": "text",
        "id": "k-CSminTez1z"
      },
      "source": [
        "Nice!\n",
        "\n",
        "But actually for big tasks as text classifications or something like we would like to have better vectors. If we started training them by ourselves, we would need a LARGE text corpus and LARGE amount of memory and time. But as we are poor students by now, and need to do our homework till the next week, we don't have it all by now.\n",
        "\n",
        "That is why there are pre-trained models or even pre-computed word vectors collections!"
      ]
    },
    {
      "cell_type": "code",
      "metadata": {
        "colab_type": "code",
        "id": "xoUBV_UMfRIu",
        "outputId": "eded85ba-5d90-4282-c656-71909dd2b0f8",
        "colab": {
          "base_uri": "https://localhost:8080/",
          "height": 35
        }
      },
      "source": [
        "import gensim.downloader as api\n",
        "model = api.load('glove-twitter-25') # list of available models: https://github.com/RaRe-Technologies/gensim-data#models"
      ],
      "execution_count": 9,
      "outputs": [
        {
          "output_type": "stream",
          "text": [
            "[==================================================] 100.0% 104.8/104.8MB downloaded\n"
          ],
          "name": "stdout"
        }
      ]
    },
    {
      "cell_type": "code",
      "metadata": {
        "colab_type": "code",
        "id": "Z30sJahPf2Y2",
        "outputId": "11b460a9-cf49-4a80-b80c-b5bceb670289",
        "colab": {
          "base_uri": "https://localhost:8080/",
          "height": 203
        }
      },
      "source": [
        "# who is a person who has money and related to coding, but is really stupid?\n",
        "# (it's how a model trained on text corpus thinks, not me)\n",
        "model.most_similar(positive=[\"coder\", \"money\"], negative=[\"brain\"])"
      ],
      "execution_count": 10,
      "outputs": [
        {
          "output_type": "execute_result",
          "data": {
            "text/plain": [
              "[('realtor', 0.8265186548233032),\n",
              " ('gfx', 0.8249695897102356),\n",
              " ('caterers', 0.798202395439148),\n",
              " ('beatmaker', 0.7936854362487793),\n",
              " ('recruiter', 0.7892400622367859),\n",
              " ('sfi', 0.784467339515686),\n",
              " ('sosh', 0.7840631604194641),\n",
              " ('promoter', 0.7838252186775208),\n",
              " ('smallbusiness', 0.7786215543746948),\n",
              " ('promoters', 0.7764680981636047)]"
            ]
          },
          "metadata": {
            "tags": []
          },
          "execution_count": 10
        }
      ]
    },
    {
      "cell_type": "markdown",
      "metadata": {
        "colab_type": "text",
        "id": "2aJOipoChANV"
      },
      "source": [
        "Also using gensim we can load pre-trained vectors from vectors file. We can for example load pre-trained google word2vec vectors:\n",
        "\n",
        "http://mccormickml.com/2016/04/12/googles-pretrained-word2vec-model-in-python/"
      ]
    },
    {
      "cell_type": "code",
      "metadata": {
        "colab_type": "code",
        "id": "PwH86KytheiP",
        "colab": {}
      },
      "source": [
        "# from gensim.models import KeyedVectors\n",
        "# model = KeyedVectors.load_word2vec_format('./GoogleNews-vectors-negative300.bin', binary=True) "
      ],
      "execution_count": 0,
      "outputs": []
    },
    {
      "cell_type": "markdown",
      "metadata": {
        "colab_type": "text",
        "id": "ntBcysEnh-DP"
      },
      "source": [
        "## Visualization"
      ]
    },
    {
      "cell_type": "markdown",
      "metadata": {
        "colab_type": "text",
        "id": "cvVwJWM2CGHW"
      },
      "source": [
        "So let's visualize our embeddings on 2-d space. \n",
        "\n",
        "What we need is:\n",
        "1. get embeddings for a batch of words from the gensim model\n",
        "2. reduce dimensionality of those embeddings from 100-dim to 2-dim vectors\n",
        "3. normalize those vectors\n",
        "4. draw it on a plane!\n",
        "\n",
        "So let's do that:"
      ]
    },
    {
      "cell_type": "code",
      "metadata": {
        "colab_type": "code",
        "id": "aMn9AdhxhrOn",
        "outputId": "cdf678b1-2307-47de-cf72-fd8ef4b4d977",
        "colab": {
          "base_uri": "https://localhost:8080/",
          "height": 55
        }
      },
      "source": [
        "# let's get some most popular words from model:\n",
        "n_words = 1000\n",
        "words = sorted(model.vocab.keys(), \n",
        "               key=lambda word: model.vocab[word].count, # sort by number of word occurencies\n",
        "               reverse=True)[:n_words]\n",
        "\n",
        "print(words[::10])"
      ],
      "execution_count": 14,
      "outputs": [
        {
          "output_type": "stream",
          "text": [
            "['<user>', 'i', ')', 'no', 'la', 'o', '>', 'are', 'we', '♥', '_', 'now', '~', 'people', \"'re\", '>>', '[', 'q', 'je', 'never', 'please', 'c', 'hahaha', 'لا', 'then', 'itu', 'had', 'ah', 'esta', 'does', 'apa', 'les', 'work', 'god', 'ha', 'their', 'в', '\\\\', 'gue', '＾', 'justin', 'thing', 'hope', 'nigga', 'udah', 'same', 'voy', 'find', 'اللي', 'face', 'text', 'kau', 'very', 'may', 'pretty', 'already', 'qué', 'día', 'money', 'name', 'hari', 'wow', 'black', 'vamos', 'nao', 'head', 'trying', 'lot', 'ان', 'mad', 'playing', '✌', 'own', 'friday', 'estar', 'yet', 'une', 'mana', 'لي', 'car', 'once', 'nem', 'summer', 'fan', 'tudo', 'sexy', 'sea', 'excited', 'far', 'lost', 'sei', 'sabe', 'picture', 'dice', 'km', 'fast', 'moi', 'anda', 'noche', 'relationship']\n"
          ],
          "name": "stdout"
        }
      ]
    },
    {
      "cell_type": "code",
      "metadata": {
        "colab_type": "code",
        "id": "FStm52npiL3d",
        "colab": {}
      },
      "source": [
        "# get embeddings for those words\n",
        "word_vectors = [model.get_vector(word) for word in words]"
      ],
      "execution_count": 0,
      "outputs": []
    },
    {
      "cell_type": "markdown",
      "metadata": {
        "colab_type": "text",
        "id": "Z0M2b2Weim4k"
      },
      "source": [
        "For vectors visualization we need to reduce dimensionality of vectors to 2 (or 3). We'll use **PCA** for that\n",
        "\n",
        "https://scikit-learn.org/stable/modules/generated/sklearn.decomposition.PCA.html"
      ]
    },
    {
      "cell_type": "code",
      "metadata": {
        "colab_type": "code",
        "id": "p3F9_sQmiaPx",
        "colab": {}
      },
      "source": [
        "from sklearn.decomposition import PCA\n",
        "pca = PCA(n_components=2)\n",
        "pca.fit(word_vectors)\n",
        "word_vectors_pca = pca.transform(word_vectors)"
      ],
      "execution_count": 0,
      "outputs": []
    },
    {
      "cell_type": "markdown",
      "metadata": {
        "colab_type": "text",
        "id": "UXC_Tzz9kkGL"
      },
      "source": [
        "Also let's normalize vectors we got from PCA for better visibility\n",
        "\n",
        "We already did normalization by hand in one of the first homeworks in our course, but for now let's use sklearn api:\n",
        "\n",
        "https://scikit-learn.org/stable/modules/generated/sklearn.preprocessing.StandardScaler.html"
      ]
    },
    {
      "cell_type": "code",
      "metadata": {
        "colab_type": "code",
        "id": "7AgGtiMQibR3",
        "colab": {}
      },
      "source": [
        "from sklearn.preprocessing import StandardScaler\n",
        "ss = StandardScaler().fit(word_vectors_pca)\n",
        "word_vectors_pca = ss.transform(word_vectors_pca)"
      ],
      "execution_count": 0,
      "outputs": []
    },
    {
      "cell_type": "markdown",
      "metadata": {
        "colab_type": "text",
        "id": "dd1aScI_DNSP"
      },
      "source": [
        "Finally we are to draw an (interactive!) space of embeddings, using function below:"
      ]
    },
    {
      "cell_type": "code",
      "metadata": {
        "colab_type": "code",
        "id": "5YL3o6g2jsql",
        "outputId": "fa43db8b-4051-432d-ce25-4c71cad5fb96",
        "colab": {
          "base_uri": "https://localhost:8080/",
          "height": 434
        }
      },
      "source": [
        "import bokeh.models as bm, bokeh.plotting as pl\n",
        "from bokeh.io import output_notebook\n",
        "output_notebook()\n",
        "\n",
        "def draw_vectors(x, y, radius=10, alpha=0.25, color='blue',\n",
        "                 width=600, height=400, show=True, **kwargs):\n",
        "    if isinstance(color, str): color = [color] * len(x)\n",
        "    data_source = bm.ColumnDataSource({ 'x' : x, 'y' : y, 'color': color, **kwargs })\n",
        "\n",
        "    fig = pl.figure(active_scroll='wheel_zoom', width=width, height=height)\n",
        "    fig.scatter('x', 'y', size=radius, color='color', alpha=alpha, source=data_source)\n",
        "\n",
        "    fig.add_tools(bm.HoverTool(tooltips=[(key, \"@\" + key) for key in kwargs.keys()]))\n",
        "    if show: pl.show(fig)\n",
        "    return fig\n",
        "\n",
        "\n",
        "draw_vectors(word_vectors_pca[:, 0], word_vectors_pca[:, 1], token=words)"
      ],
      "execution_count": 24,
      "outputs": [
        {
          "output_type": "display_data",
          "data": {
            "application/javascript": [
              "\n",
              "(function(root) {\n",
              "  function now() {\n",
              "    return new Date();\n",
              "  }\n",
              "\n",
              "  var force = true;\n",
              "\n",
              "  if (typeof root._bokeh_onload_callbacks === \"undefined\" || force === true) {\n",
              "    root._bokeh_onload_callbacks = [];\n",
              "    root._bokeh_is_loading = undefined;\n",
              "  }\n",
              "\n",
              "  var JS_MIME_TYPE = 'application/javascript';\n",
              "  var HTML_MIME_TYPE = 'text/html';\n",
              "  var EXEC_MIME_TYPE = 'application/vnd.bokehjs_exec.v0+json';\n",
              "  var CLASS_NAME = 'output_bokeh rendered_html';\n",
              "\n",
              "  /**\n",
              "   * Render data to the DOM node\n",
              "   */\n",
              "  function render(props, node) {\n",
              "    var script = document.createElement(\"script\");\n",
              "    node.appendChild(script);\n",
              "  }\n",
              "\n",
              "  /**\n",
              "   * Handle when an output is cleared or removed\n",
              "   */\n",
              "  function handleClearOutput(event, handle) {\n",
              "    var cell = handle.cell;\n",
              "\n",
              "    var id = cell.output_area._bokeh_element_id;\n",
              "    var server_id = cell.output_area._bokeh_server_id;\n",
              "    // Clean up Bokeh references\n",
              "    if (id != null && id in Bokeh.index) {\n",
              "      Bokeh.index[id].model.document.clear();\n",
              "      delete Bokeh.index[id];\n",
              "    }\n",
              "\n",
              "    if (server_id !== undefined) {\n",
              "      // Clean up Bokeh references\n",
              "      var cmd = \"from bokeh.io.state import curstate; print(curstate().uuid_to_server['\" + server_id + \"'].get_sessions()[0].document.roots[0]._id)\";\n",
              "      cell.notebook.kernel.execute(cmd, {\n",
              "        iopub: {\n",
              "          output: function(msg) {\n",
              "            var id = msg.content.text.trim();\n",
              "            if (id in Bokeh.index) {\n",
              "              Bokeh.index[id].model.document.clear();\n",
              "              delete Bokeh.index[id];\n",
              "            }\n",
              "          }\n",
              "        }\n",
              "      });\n",
              "      // Destroy server and session\n",
              "      var cmd = \"import bokeh.io.notebook as ion; ion.destroy_server('\" + server_id + \"')\";\n",
              "      cell.notebook.kernel.execute(cmd);\n",
              "    }\n",
              "  }\n",
              "\n",
              "  /**\n",
              "   * Handle when a new output is added\n",
              "   */\n",
              "  function handleAddOutput(event, handle) {\n",
              "    var output_area = handle.output_area;\n",
              "    var output = handle.output;\n",
              "\n",
              "    // limit handleAddOutput to display_data with EXEC_MIME_TYPE content only\n",
              "    if ((output.output_type != \"display_data\") || (!output.data.hasOwnProperty(EXEC_MIME_TYPE))) {\n",
              "      return\n",
              "    }\n",
              "\n",
              "    var toinsert = output_area.element.find(\".\" + CLASS_NAME.split(' ')[0]);\n",
              "\n",
              "    if (output.metadata[EXEC_MIME_TYPE][\"id\"] !== undefined) {\n",
              "      toinsert[toinsert.length - 1].firstChild.textContent = output.data[JS_MIME_TYPE];\n",
              "      // store reference to embed id on output_area\n",
              "      output_area._bokeh_element_id = output.metadata[EXEC_MIME_TYPE][\"id\"];\n",
              "    }\n",
              "    if (output.metadata[EXEC_MIME_TYPE][\"server_id\"] !== undefined) {\n",
              "      var bk_div = document.createElement(\"div\");\n",
              "      bk_div.innerHTML = output.data[HTML_MIME_TYPE];\n",
              "      var script_attrs = bk_div.children[0].attributes;\n",
              "      for (var i = 0; i < script_attrs.length; i++) {\n",
              "        toinsert[toinsert.length - 1].firstChild.setAttribute(script_attrs[i].name, script_attrs[i].value);\n",
              "        toinsert[toinsert.length - 1].firstChild.textContent = bk_div.children[0].textContent\n",
              "      }\n",
              "      // store reference to server id on output_area\n",
              "      output_area._bokeh_server_id = output.metadata[EXEC_MIME_TYPE][\"server_id\"];\n",
              "    }\n",
              "  }\n",
              "\n",
              "  function register_renderer(events, OutputArea) {\n",
              "\n",
              "    function append_mime(data, metadata, element) {\n",
              "      // create a DOM node to render to\n",
              "      var toinsert = this.create_output_subarea(\n",
              "        metadata,\n",
              "        CLASS_NAME,\n",
              "        EXEC_MIME_TYPE\n",
              "      );\n",
              "      this.keyboard_manager.register_events(toinsert);\n",
              "      // Render to node\n",
              "      var props = {data: data, metadata: metadata[EXEC_MIME_TYPE]};\n",
              "      render(props, toinsert[toinsert.length - 1]);\n",
              "      element.append(toinsert);\n",
              "      return toinsert\n",
              "    }\n",
              "\n",
              "    /* Handle when an output is cleared or removed */\n",
              "    events.on('clear_output.CodeCell', handleClearOutput);\n",
              "    events.on('delete.Cell', handleClearOutput);\n",
              "\n",
              "    /* Handle when a new output is added */\n",
              "    events.on('output_added.OutputArea', handleAddOutput);\n",
              "\n",
              "    /**\n",
              "     * Register the mime type and append_mime function with output_area\n",
              "     */\n",
              "    OutputArea.prototype.register_mime_type(EXEC_MIME_TYPE, append_mime, {\n",
              "      /* Is output safe? */\n",
              "      safe: true,\n",
              "      /* Index of renderer in `output_area.display_order` */\n",
              "      index: 0\n",
              "    });\n",
              "  }\n",
              "\n",
              "  // register the mime type if in Jupyter Notebook environment and previously unregistered\n",
              "  if (root.Jupyter !== undefined) {\n",
              "    var events = require('base/js/events');\n",
              "    var OutputArea = require('notebook/js/outputarea').OutputArea;\n",
              "\n",
              "    if (OutputArea.prototype.mime_types().indexOf(EXEC_MIME_TYPE) == -1) {\n",
              "      register_renderer(events, OutputArea);\n",
              "    }\n",
              "  }\n",
              "\n",
              "  \n",
              "  if (typeof (root._bokeh_timeout) === \"undefined\" || force === true) {\n",
              "    root._bokeh_timeout = Date.now() + 5000;\n",
              "    root._bokeh_failed_load = false;\n",
              "  }\n",
              "\n",
              "  var NB_LOAD_WARNING = {'data': {'text/html':\n",
              "     \"<div style='background-color: #fdd'>\\n\"+\n",
              "     \"<p>\\n\"+\n",
              "     \"BokehJS does not appear to have successfully loaded. If loading BokehJS from CDN, this \\n\"+\n",
              "     \"may be due to a slow or bad network connection. Possible fixes:\\n\"+\n",
              "     \"</p>\\n\"+\n",
              "     \"<ul>\\n\"+\n",
              "     \"<li>re-rerun `output_notebook()` to attempt to load from CDN again, or</li>\\n\"+\n",
              "     \"<li>use INLINE resources instead, as so:</li>\\n\"+\n",
              "     \"</ul>\\n\"+\n",
              "     \"<code>\\n\"+\n",
              "     \"from bokeh.resources import INLINE\\n\"+\n",
              "     \"output_notebook(resources=INLINE)\\n\"+\n",
              "     \"</code>\\n\"+\n",
              "     \"</div>\"}};\n",
              "\n",
              "  function display_loaded() {\n",
              "    var el = document.getElementById(null);\n",
              "    if (el != null) {\n",
              "      el.textContent = \"BokehJS is loading...\";\n",
              "    }\n",
              "    if (root.Bokeh !== undefined) {\n",
              "      if (el != null) {\n",
              "        el.textContent = \"BokehJS \" + root.Bokeh.version + \" successfully loaded.\";\n",
              "      }\n",
              "    } else if (Date.now() < root._bokeh_timeout) {\n",
              "      setTimeout(display_loaded, 100)\n",
              "    }\n",
              "  }\n",
              "\n",
              "\n",
              "  function run_callbacks() {\n",
              "    try {\n",
              "      root._bokeh_onload_callbacks.forEach(function(callback) {\n",
              "        if (callback != null)\n",
              "          callback();\n",
              "      });\n",
              "    } finally {\n",
              "      delete root._bokeh_onload_callbacks\n",
              "    }\n",
              "    console.debug(\"Bokeh: all callbacks have finished\");\n",
              "  }\n",
              "\n",
              "  function load_libs(css_urls, js_urls, callback) {\n",
              "    if (css_urls == null) css_urls = [];\n",
              "    if (js_urls == null) js_urls = [];\n",
              "\n",
              "    root._bokeh_onload_callbacks.push(callback);\n",
              "    if (root._bokeh_is_loading > 0) {\n",
              "      console.debug(\"Bokeh: BokehJS is being loaded, scheduling callback at\", now());\n",
              "      return null;\n",
              "    }\n",
              "    if (js_urls == null || js_urls.length === 0) {\n",
              "      run_callbacks();\n",
              "      return null;\n",
              "    }\n",
              "    console.debug(\"Bokeh: BokehJS not loaded, scheduling load and callback at\", now());\n",
              "    root._bokeh_is_loading = css_urls.length + js_urls.length;\n",
              "\n",
              "    function on_load() {\n",
              "      root._bokeh_is_loading--;\n",
              "      if (root._bokeh_is_loading === 0) {\n",
              "        console.debug(\"Bokeh: all BokehJS libraries/stylesheets loaded\");\n",
              "        run_callbacks()\n",
              "      }\n",
              "    }\n",
              "\n",
              "    function on_error() {\n",
              "      console.error(\"failed to load \" + url);\n",
              "    }\n",
              "\n",
              "    for (var i = 0; i < css_urls.length; i++) {\n",
              "      var url = css_urls[i];\n",
              "      const element = document.createElement(\"link\");\n",
              "      element.onload = on_load;\n",
              "      element.onerror = on_error;\n",
              "      element.rel = \"stylesheet\";\n",
              "      element.type = \"text/css\";\n",
              "      element.href = url;\n",
              "      console.debug(\"Bokeh: injecting link tag for BokehJS stylesheet: \", url);\n",
              "      document.body.appendChild(element);\n",
              "    }\n",
              "\n",
              "    const hashes = {\"https://cdn.bokeh.org/bokeh/release/bokeh-2.0.1.min.js\": \"JpP8FXbgAZLkfur7LiK3j9AGBhHNIvF742meBJrjO2ShJDhCG2I1uVvW+0DUtrmc\", \"https://cdn.bokeh.org/bokeh/release/bokeh-widgets-2.0.1.min.js\": \"xZlADit0Q04ISQEdKg2k3L4W9AwQBAuDs9nJL9fM/WwzL1tEU9VPNezOFX0nLEAz\", \"https://cdn.bokeh.org/bokeh/release/bokeh-tables-2.0.1.min.js\": \"4BuPRZkdMKSnj3zoxiNrQ86XgNw0rYmBOxe7nshquXwwcauupgBF2DHLVG1WuZlV\", \"https://cdn.bokeh.org/bokeh/release/bokeh-gl-2.0.1.min.js\": \"Dv1SQ87hmDqK6S5OhBf0bCuwAEvL5QYL0PuR/F1SPVhCS/r/abjkbpKDYL2zeM19\"};\n",
              "\n",
              "    for (var i = 0; i < js_urls.length; i++) {\n",
              "      var url = js_urls[i];\n",
              "      var element = document.createElement('script');\n",
              "      element.onload = on_load;\n",
              "      element.onerror = on_error;\n",
              "      element.async = false;\n",
              "      element.src = url;\n",
              "      if (url in hashes) {\n",
              "        element.crossOrigin = \"anonymous\";\n",
              "        element.integrity = \"sha384-\" + hashes[url];\n",
              "      }\n",
              "      console.debug(\"Bokeh: injecting script tag for BokehJS library: \", url);\n",
              "      document.head.appendChild(element);\n",
              "    }\n",
              "  };\n",
              "\n",
              "  function inject_raw_css(css) {\n",
              "    const element = document.createElement(\"style\");\n",
              "    element.appendChild(document.createTextNode(css));\n",
              "    document.body.appendChild(element);\n",
              "  }\n",
              "\n",
              "  \n",
              "  var js_urls = [\"https://cdn.bokeh.org/bokeh/release/bokeh-2.0.1.min.js\", \"https://cdn.bokeh.org/bokeh/release/bokeh-widgets-2.0.1.min.js\", \"https://cdn.bokeh.org/bokeh/release/bokeh-tables-2.0.1.min.js\", \"https://cdn.bokeh.org/bokeh/release/bokeh-gl-2.0.1.min.js\"];\n",
              "  var css_urls = [];\n",
              "  \n",
              "\n",
              "  var inline_js = [\n",
              "    function(Bokeh) {\n",
              "      Bokeh.set_log_level(\"info\");\n",
              "    },\n",
              "    function(Bokeh) {\n",
              "    \n",
              "    \n",
              "    }\n",
              "  ];\n",
              "\n",
              "  function run_inline_js() {\n",
              "    \n",
              "    if (root.Bokeh !== undefined || force === true) {\n",
              "      \n",
              "    for (var i = 0; i < inline_js.length; i++) {\n",
              "      inline_js[i].call(root, root.Bokeh);\n",
              "    }\n",
              "    } else if (Date.now() < root._bokeh_timeout) {\n",
              "      setTimeout(run_inline_js, 100);\n",
              "    } else if (!root._bokeh_failed_load) {\n",
              "      console.log(\"Bokeh: BokehJS failed to load within specified timeout.\");\n",
              "      root._bokeh_failed_load = true;\n",
              "    } else if (force !== true) {\n",
              "      var cell = $(document.getElementById(null)).parents('.cell').data().cell;\n",
              "      cell.output_area.append_execute_result(NB_LOAD_WARNING)\n",
              "    }\n",
              "\n",
              "  }\n",
              "\n",
              "  if (root._bokeh_is_loading === 0) {\n",
              "    console.debug(\"Bokeh: BokehJS loaded, going straight to plotting\");\n",
              "    run_inline_js();\n",
              "  } else {\n",
              "    load_libs(css_urls, js_urls, function() {\n",
              "      console.debug(\"Bokeh: BokehJS plotting callback run at\", now());\n",
              "      run_inline_js();\n",
              "    });\n",
              "  }\n",
              "}(window));"
            ],
            "application/vnd.bokehjs_load.v0+json": "\n(function(root) {\n  function now() {\n    return new Date();\n  }\n\n  var force = true;\n\n  if (typeof root._bokeh_onload_callbacks === \"undefined\" || force === true) {\n    root._bokeh_onload_callbacks = [];\n    root._bokeh_is_loading = undefined;\n  }\n\n  \n\n  \n  if (typeof (root._bokeh_timeout) === \"undefined\" || force === true) {\n    root._bokeh_timeout = Date.now() + 5000;\n    root._bokeh_failed_load = false;\n  }\n\n  var NB_LOAD_WARNING = {'data': {'text/html':\n     \"<div style='background-color: #fdd'>\\n\"+\n     \"<p>\\n\"+\n     \"BokehJS does not appear to have successfully loaded. If loading BokehJS from CDN, this \\n\"+\n     \"may be due to a slow or bad network connection. Possible fixes:\\n\"+\n     \"</p>\\n\"+\n     \"<ul>\\n\"+\n     \"<li>re-rerun `output_notebook()` to attempt to load from CDN again, or</li>\\n\"+\n     \"<li>use INLINE resources instead, as so:</li>\\n\"+\n     \"</ul>\\n\"+\n     \"<code>\\n\"+\n     \"from bokeh.resources import INLINE\\n\"+\n     \"output_notebook(resources=INLINE)\\n\"+\n     \"</code>\\n\"+\n     \"</div>\"}};\n\n  function display_loaded() {\n    var el = document.getElementById(null);\n    if (el != null) {\n      el.textContent = \"BokehJS is loading...\";\n    }\n    if (root.Bokeh !== undefined) {\n      if (el != null) {\n        el.textContent = \"BokehJS \" + root.Bokeh.version + \" successfully loaded.\";\n      }\n    } else if (Date.now() < root._bokeh_timeout) {\n      setTimeout(display_loaded, 100)\n    }\n  }\n\n\n  function run_callbacks() {\n    try {\n      root._bokeh_onload_callbacks.forEach(function(callback) {\n        if (callback != null)\n          callback();\n      });\n    } finally {\n      delete root._bokeh_onload_callbacks\n    }\n    console.debug(\"Bokeh: all callbacks have finished\");\n  }\n\n  function load_libs(css_urls, js_urls, callback) {\n    if (css_urls == null) css_urls = [];\n    if (js_urls == null) js_urls = [];\n\n    root._bokeh_onload_callbacks.push(callback);\n    if (root._bokeh_is_loading > 0) {\n      console.debug(\"Bokeh: BokehJS is being loaded, scheduling callback at\", now());\n      return null;\n    }\n    if (js_urls == null || js_urls.length === 0) {\n      run_callbacks();\n      return null;\n    }\n    console.debug(\"Bokeh: BokehJS not loaded, scheduling load and callback at\", now());\n    root._bokeh_is_loading = css_urls.length + js_urls.length;\n\n    function on_load() {\n      root._bokeh_is_loading--;\n      if (root._bokeh_is_loading === 0) {\n        console.debug(\"Bokeh: all BokehJS libraries/stylesheets loaded\");\n        run_callbacks()\n      }\n    }\n\n    function on_error() {\n      console.error(\"failed to load \" + url);\n    }\n\n    for (var i = 0; i < css_urls.length; i++) {\n      var url = css_urls[i];\n      const element = document.createElement(\"link\");\n      element.onload = on_load;\n      element.onerror = on_error;\n      element.rel = \"stylesheet\";\n      element.type = \"text/css\";\n      element.href = url;\n      console.debug(\"Bokeh: injecting link tag for BokehJS stylesheet: \", url);\n      document.body.appendChild(element);\n    }\n\n    const hashes = {\"https://cdn.bokeh.org/bokeh/release/bokeh-2.0.1.min.js\": \"JpP8FXbgAZLkfur7LiK3j9AGBhHNIvF742meBJrjO2ShJDhCG2I1uVvW+0DUtrmc\", \"https://cdn.bokeh.org/bokeh/release/bokeh-widgets-2.0.1.min.js\": \"xZlADit0Q04ISQEdKg2k3L4W9AwQBAuDs9nJL9fM/WwzL1tEU9VPNezOFX0nLEAz\", \"https://cdn.bokeh.org/bokeh/release/bokeh-tables-2.0.1.min.js\": \"4BuPRZkdMKSnj3zoxiNrQ86XgNw0rYmBOxe7nshquXwwcauupgBF2DHLVG1WuZlV\", \"https://cdn.bokeh.org/bokeh/release/bokeh-gl-2.0.1.min.js\": \"Dv1SQ87hmDqK6S5OhBf0bCuwAEvL5QYL0PuR/F1SPVhCS/r/abjkbpKDYL2zeM19\"};\n\n    for (var i = 0; i < js_urls.length; i++) {\n      var url = js_urls[i];\n      var element = document.createElement('script');\n      element.onload = on_load;\n      element.onerror = on_error;\n      element.async = false;\n      element.src = url;\n      if (url in hashes) {\n        element.crossOrigin = \"anonymous\";\n        element.integrity = \"sha384-\" + hashes[url];\n      }\n      console.debug(\"Bokeh: injecting script tag for BokehJS library: \", url);\n      document.head.appendChild(element);\n    }\n  };\n\n  function inject_raw_css(css) {\n    const element = document.createElement(\"style\");\n    element.appendChild(document.createTextNode(css));\n    document.body.appendChild(element);\n  }\n\n  \n  var js_urls = [\"https://cdn.bokeh.org/bokeh/release/bokeh-2.0.1.min.js\", \"https://cdn.bokeh.org/bokeh/release/bokeh-widgets-2.0.1.min.js\", \"https://cdn.bokeh.org/bokeh/release/bokeh-tables-2.0.1.min.js\", \"https://cdn.bokeh.org/bokeh/release/bokeh-gl-2.0.1.min.js\"];\n  var css_urls = [];\n  \n\n  var inline_js = [\n    function(Bokeh) {\n      Bokeh.set_log_level(\"info\");\n    },\n    function(Bokeh) {\n    \n    \n    }\n  ];\n\n  function run_inline_js() {\n    \n    if (root.Bokeh !== undefined || force === true) {\n      \n    for (var i = 0; i < inline_js.length; i++) {\n      inline_js[i].call(root, root.Bokeh);\n    }\n    } else if (Date.now() < root._bokeh_timeout) {\n      setTimeout(run_inline_js, 100);\n    } else if (!root._bokeh_failed_load) {\n      console.log(\"Bokeh: BokehJS failed to load within specified timeout.\");\n      root._bokeh_failed_load = true;\n    } else if (force !== true) {\n      var cell = $(document.getElementById(null)).parents('.cell').data().cell;\n      cell.output_area.append_execute_result(NB_LOAD_WARNING)\n    }\n\n  }\n\n  if (root._bokeh_is_loading === 0) {\n    console.debug(\"Bokeh: BokehJS loaded, going straight to plotting\");\n    run_inline_js();\n  } else {\n    load_libs(css_urls, js_urls, function() {\n      console.debug(\"Bokeh: BokehJS plotting callback run at\", now());\n      run_inline_js();\n    });\n  }\n}(window));"
          },
          "metadata": {
            "tags": []
          }
        },
        {
          "output_type": "display_data",
          "data": {
            "text/html": [
              "\n",
              "\n",
              "\n",
              "\n",
              "\n",
              "\n",
              "  <div class=\"bk-root\" id=\"cd4641df-c242-4861-932d-18b461547eef\" data-root-id=\"1223\"></div>\n"
            ]
          },
          "metadata": {
            "tags": []
          }
        },
        {
          "output_type": "display_data",
          "data": {
            "application/javascript": [
              "(function(root) {\n",
              "  function embed_document(root) {\n",
              "    \n",
              "  var docs_json = {\"85dd3321-6fec-40ef-a1f4-45539849a927\":{\"roots\":{\"references\":[{\"attributes\":{\"below\":[{\"id\":\"1232\"}],\"center\":[{\"id\":\"1235\"},{\"id\":\"1239\"}],\"left\":[{\"id\":\"1236\"}],\"plot_height\":400,\"renderers\":[{\"id\":\"1257\"}],\"title\":{\"id\":\"1279\"},\"toolbar\":{\"id\":\"1247\"},\"x_range\":{\"id\":\"1224\"},\"x_scale\":{\"id\":\"1228\"},\"y_range\":{\"id\":\"1226\"},\"y_scale\":{\"id\":\"1230\"}},\"id\":\"1223\",\"subtype\":\"Figure\",\"type\":\"Plot\"},{\"attributes\":{},\"id\":\"1245\",\"type\":\"HelpTool\"},{\"attributes\":{\"bottom_units\":\"screen\",\"fill_alpha\":0.5,\"fill_color\":\"lightgrey\",\"left_units\":\"screen\",\"level\":\"overlay\",\"line_alpha\":1.0,\"line_color\":\"black\",\"line_dash\":[4,4],\"line_width\":2,\"render_mode\":\"css\",\"right_units\":\"screen\",\"top_units\":\"screen\"},\"id\":\"1246\",\"type\":\"BoxAnnotation\"},{\"attributes\":{},\"id\":\"1243\",\"type\":\"SaveTool\"},{\"attributes\":{},\"id\":\"1244\",\"type\":\"ResetTool\"},{\"attributes\":{},\"id\":\"1240\",\"type\":\"PanTool\"},{\"attributes\":{\"source\":{\"id\":\"1222\"}},\"id\":\"1258\",\"type\":\"CDSView\"},{\"attributes\":{},\"id\":\"1228\",\"type\":\"LinearScale\"},{\"attributes\":{},\"id\":\"1286\",\"type\":\"UnionRenderers\"},{\"attributes\":{\"callback\":null,\"tooltips\":[[\"token\",\"@token\"]]},\"id\":\"1259\",\"type\":\"HoverTool\"},{\"attributes\":{},\"id\":\"1285\",\"type\":\"Selection\"},{\"attributes\":{},\"id\":\"1226\",\"type\":\"DataRange1d\"},{\"attributes\":{\"data\":{\"color\":[\"blue\",\"blue\",\"blue\",\"blue\",\"blue\",\"blue\",\"blue\",\"blue\",\"blue\",\"blue\",\"blue\",\"blue\",\"blue\",\"blue\",\"blue\",\"blue\",\"blue\",\"blue\",\"blue\",\"blue\",\"blue\",\"blue\",\"blue\",\"blue\",\"blue\",\"blue\",\"blue\",\"blue\",\"blue\",\"blue\",\"blue\",\"blue\",\"blue\",\"blue\",\"blue\",\"blue\",\"blue\",\"blue\",\"blue\",\"blue\",\"blue\",\"blue\",\"blue\",\"blue\",\"blue\",\"blue\",\"blue\",\"blue\",\"blue\",\"blue\",\"blue\",\"blue\",\"blue\",\"blue\",\"blue\",\"blue\",\"blue\",\"blue\",\"blue\",\"blue\",\"blue\",\"blue\",\"blue\",\"blue\",\"blue\",\"blue\",\"blue\",\"blue\",\"blue\",\"blue\",\"blue\",\"blue\",\"blue\",\"blue\",\"blue\",\"blue\",\"blue\",\"blue\",\"blue\",\"blue\",\"blue\",\"blue\",\"blue\",\"blue\",\"blue\",\"blue\",\"blue\",\"blue\",\"blue\",\"blue\",\"blue\",\"blue\",\"blue\",\"blue\",\"blue\",\"blue\",\"blue\",\"blue\",\"blue\",\"blue\",\"blue\",\"blue\",\"blue\",\"blue\",\"blue\",\"blue\",\"blue\",\"blue\",\"blue\",\"blue\",\"blue\",\"blue\",\"blue\",\"blue\",\"blue\",\"blue\",\"blue\",\"blue\",\"blue\",\"blue\",\"blue\",\"blue\",\"blue\",\"blue\",\"blue\",\"blue\",\"blue\",\"blue\",\"blue\",\"blue\",\"blue\",\"blue\",\"blue\",\"blue\",\"blue\",\"blue\",\"blue\",\"blue\",\"blue\",\"blue\",\"blue\",\"blue\",\"blue\",\"blue\",\"blue\",\"blue\",\"blue\",\"blue\",\"blue\",\"blue\",\"blue\",\"blue\",\"blue\",\"blue\",\"blue\",\"blue\",\"blue\",\"blue\",\"blue\",\"blue\",\"blue\",\"blue\",\"blue\",\"blue\",\"blue\",\"blue\",\"blue\",\"blue\",\"blue\",\"blue\",\"blue\",\"blue\",\"blue\",\"blue\",\"blue\",\"blue\",\"blue\",\"blue\",\"blue\",\"blue\",\"blue\",\"blue\",\"blue\",\"blue\",\"blue\",\"blue\",\"blue\",\"blue\",\"blue\",\"blue\",\"blue\",\"blue\",\"blue\",\"blue\",\"blue\",\"blue\",\"blue\",\"blue\",\"blue\",\"blue\",\"blue\",\"blue\",\"blue\",\"blue\",\"blue\",\"blue\",\"blue\",\"blue\",\"blue\",\"blue\",\"blue\",\"blue\",\"blue\",\"blue\",\"blue\",\"blue\",\"blue\",\"blue\",\"blue\",\"blue\",\"blue\",\"blue\",\"blue\",\"blue\",\"blue\",\"blue\",\"blue\",\"blue\",\"blue\",\"blue\",\"blue\",\"blue\",\"blue\",\"blue\",\"blue\",\"blue\",\"blue\",\"blue\",\"blue\",\"blue\",\"blue\",\"blue\",\"blue\",\"blue\",\"blue\",\"blue\",\"blue\",\"blue\",\"blue\",\"blue\",\"blue\",\"blue\",\"blue\",\"blue\",\"blue\",\"blue\",\"blue\",\"blue\",\"blue\",\"blue\",\"blue\",\"blue\",\"blue\",\"blue\",\"blue\",\"blue\",\"blue\",\"blue\",\"blue\",\"blue\",\"blue\",\"blue\",\"blue\",\"blue\",\"blue\",\"blue\",\"blue\",\"blue\",\"blue\",\"blue\",\"blue\",\"blue\",\"blue\",\"blue\",\"blue\",\"blue\",\"blue\",\"blue\",\"blue\",\"blue\",\"blue\",\"blue\",\"blue\",\"blue\",\"blue\",\"blue\",\"blue\",\"blue\",\"blue\",\"blue\",\"blue\",\"blue\",\"blue\",\"blue\",\"blue\",\"blue\",\"blue\",\"blue\",\"blue\",\"blue\",\"blue\",\"blue\",\"blue\",\"blue\",\"blue\",\"blue\",\"blue\",\"blue\",\"blue\",\"blue\",\"blue\",\"blue\",\"blue\",\"blue\",\"blue\",\"blue\",\"blue\",\"blue\",\"blue\",\"blue\",\"blue\",\"blue\",\"blue\",\"blue\",\"blue\",\"blue\",\"blue\",\"blue\",\"blue\",\"blue\",\"blue\",\"blue\",\"blue\",\"blue\",\"blue\",\"blue\",\"blue\",\"blue\",\"blue\",\"blue\",\"blue\",\"blue\",\"blue\",\"blue\",\"blue\",\"blue\",\"blue\",\"blue\",\"blue\",\"blue\",\"blue\",\"blue\",\"blue\",\"blue\",\"blue\",\"blue\",\"blue\",\"blue\",\"blue\",\"blue\",\"blue\",\"blue\",\"blue\",\"blue\",\"blue\",\"blue\",\"blue\",\"blue\",\"blue\",\"blue\",\"blue\",\"blue\",\"blue\",\"blue\",\"blue\",\"blue\",\"blue\",\"blue\",\"blue\",\"blue\",\"blue\",\"blue\",\"blue\",\"blue\",\"blue\",\"blue\",\"blue\",\"blue\",\"blue\",\"blue\",\"blue\",\"blue\",\"blue\",\"blue\",\"blue\",\"blue\",\"blue\",\"blue\",\"blue\",\"blue\",\"blue\",\"blue\",\"blue\",\"blue\",\"blue\",\"blue\",\"blue\",\"blue\",\"blue\",\"blue\",\"blue\",\"blue\",\"blue\",\"blue\",\"blue\",\"blue\",\"blue\",\"blue\",\"blue\",\"blue\",\"blue\",\"blue\",\"blue\",\"blue\",\"blue\",\"blue\",\"blue\",\"blue\",\"blue\",\"blue\",\"blue\",\"blue\",\"blue\",\"blue\",\"blue\",\"blue\",\"blue\",\"blue\",\"blue\",\"blue\",\"blue\",\"blue\",\"blue\",\"blue\",\"blue\",\"blue\",\"blue\",\"blue\",\"blue\",\"blue\",\"blue\",\"blue\",\"blue\",\"blue\",\"blue\",\"blue\",\"blue\",\"blue\",\"blue\",\"blue\",\"blue\",\"blue\",\"blue\",\"blue\",\"blue\",\"blue\",\"blue\",\"blue\",\"blue\",\"blue\",\"blue\",\"blue\",\"blue\",\"blue\",\"blue\",\"blue\",\"blue\",\"blue\",\"blue\",\"blue\",\"blue\",\"blue\",\"blue\",\"blue\",\"blue\",\"blue\",\"blue\",\"blue\",\"blue\",\"blue\",\"blue\",\"blue\",\"blue\",\"blue\",\"blue\",\"blue\",\"blue\",\"blue\",\"blue\",\"blue\",\"blue\",\"blue\",\"blue\",\"blue\",\"blue\",\"blue\",\"blue\",\"blue\",\"blue\",\"blue\",\"blue\",\"blue\",\"blue\",\"blue\",\"blue\",\"blue\",\"blue\",\"blue\",\"blue\",\"blue\",\"blue\",\"blue\",\"blue\",\"blue\",\"blue\",\"blue\",\"blue\",\"blue\",\"blue\",\"blue\",\"blue\",\"blue\",\"blue\",\"blue\",\"blue\",\"blue\",\"blue\",\"blue\",\"blue\",\"blue\",\"blue\",\"blue\",\"blue\",\"blue\",\"blue\",\"blue\",\"blue\",\"blue\",\"blue\",\"blue\",\"blue\",\"blue\",\"blue\",\"blue\",\"blue\",\"blue\",\"blue\",\"blue\",\"blue\",\"blue\",\"blue\",\"blue\",\"blue\",\"blue\",\"blue\",\"blue\",\"blue\",\"blue\",\"blue\",\"blue\",\"blue\",\"blue\",\"blue\",\"blue\",\"blue\",\"blue\",\"blue\",\"blue\",\"blue\",\"blue\",\"blue\",\"blue\",\"blue\",\"blue\",\"blue\",\"blue\",\"blue\",\"blue\",\"blue\",\"blue\",\"blue\",\"blue\",\"blue\",\"blue\",\"blue\",\"blue\",\"blue\",\"blue\",\"blue\",\"blue\",\"blue\",\"blue\",\"blue\",\"blue\",\"blue\",\"blue\",\"blue\",\"blue\",\"blue\",\"blue\",\"blue\",\"blue\",\"blue\",\"blue\",\"blue\",\"blue\",\"blue\",\"blue\",\"blue\",\"blue\",\"blue\",\"blue\",\"blue\",\"blue\",\"blue\",\"blue\",\"blue\",\"blue\",\"blue\",\"blue\",\"blue\",\"blue\",\"blue\",\"blue\",\"blue\",\"blue\",\"blue\",\"blue\",\"blue\",\"blue\",\"blue\",\"blue\",\"blue\",\"blue\",\"blue\",\"blue\",\"blue\",\"blue\",\"blue\",\"blue\",\"blue\",\"blue\",\"blue\",\"blue\",\"blue\",\"blue\",\"blue\",\"blue\",\"blue\",\"blue\",\"blue\",\"blue\",\"blue\",\"blue\",\"blue\",\"blue\",\"blue\",\"blue\",\"blue\",\"blue\",\"blue\",\"blue\",\"blue\",\"blue\",\"blue\",\"blue\",\"blue\",\"blue\",\"blue\",\"blue\",\"blue\",\"blue\",\"blue\",\"blue\",\"blue\",\"blue\",\"blue\",\"blue\",\"blue\",\"blue\",\"blue\",\"blue\",\"blue\",\"blue\",\"blue\",\"blue\",\"blue\",\"blue\",\"blue\",\"blue\",\"blue\",\"blue\",\"blue\",\"blue\",\"blue\",\"blue\",\"blue\",\"blue\",\"blue\",\"blue\",\"blue\",\"blue\",\"blue\",\"blue\",\"blue\",\"blue\",\"blue\",\"blue\",\"blue\",\"blue\",\"blue\",\"blue\",\"blue\",\"blue\",\"blue\",\"blue\",\"blue\",\"blue\",\"blue\",\"blue\",\"blue\",\"blue\",\"blue\",\"blue\",\"blue\",\"blue\",\"blue\",\"blue\",\"blue\",\"blue\",\"blue\",\"blue\",\"blue\",\"blue\",\"blue\",\"blue\",\"blue\",\"blue\",\"blue\",\"blue\",\"blue\",\"blue\",\"blue\",\"blue\",\"blue\",\"blue\",\"blue\",\"blue\",\"blue\",\"blue\",\"blue\",\"blue\",\"blue\",\"blue\",\"blue\",\"blue\",\"blue\",\"blue\",\"blue\",\"blue\",\"blue\",\"blue\",\"blue\",\"blue\",\"blue\",\"blue\",\"blue\",\"blue\",\"blue\",\"blue\",\"blue\",\"blue\",\"blue\",\"blue\",\"blue\",\"blue\",\"blue\",\"blue\",\"blue\",\"blue\",\"blue\",\"blue\",\"blue\",\"blue\",\"blue\",\"blue\",\"blue\",\"blue\",\"blue\",\"blue\",\"blue\",\"blue\",\"blue\",\"blue\",\"blue\",\"blue\",\"blue\",\"blue\",\"blue\",\"blue\",\"blue\",\"blue\",\"blue\",\"blue\",\"blue\",\"blue\",\"blue\",\"blue\",\"blue\",\"blue\",\"blue\",\"blue\",\"blue\",\"blue\",\"blue\",\"blue\",\"blue\",\"blue\",\"blue\",\"blue\",\"blue\",\"blue\",\"blue\",\"blue\",\"blue\",\"blue\",\"blue\",\"blue\",\"blue\",\"blue\",\"blue\",\"blue\",\"blue\",\"blue\",\"blue\",\"blue\",\"blue\",\"blue\",\"blue\",\"blue\",\"blue\",\"blue\",\"blue\",\"blue\",\"blue\",\"blue\",\"blue\",\"blue\",\"blue\",\"blue\",\"blue\",\"blue\",\"blue\",\"blue\",\"blue\",\"blue\",\"blue\",\"blue\",\"blue\",\"blue\",\"blue\",\"blue\",\"blue\",\"blue\",\"blue\",\"blue\",\"blue\",\"blue\",\"blue\",\"blue\",\"blue\",\"blue\",\"blue\",\"blue\",\"blue\",\"blue\",\"blue\",\"blue\",\"blue\",\"blue\",\"blue\",\"blue\",\"blue\",\"blue\",\"blue\",\"blue\",\"blue\",\"blue\",\"blue\",\"blue\",\"blue\",\"blue\",\"blue\",\"blue\",\"blue\",\"blue\",\"blue\",\"blue\",\"blue\",\"blue\",\"blue\",\"blue\",\"blue\",\"blue\",\"blue\",\"blue\",\"blue\",\"blue\",\"blue\",\"blue\",\"blue\",\"blue\",\"blue\",\"blue\",\"blue\",\"blue\",\"blue\",\"blue\",\"blue\",\"blue\",\"blue\",\"blue\",\"blue\",\"blue\",\"blue\",\"blue\",\"blue\",\"blue\",\"blue\",\"blue\",\"blue\",\"blue\",\"blue\",\"blue\",\"blue\",\"blue\",\"blue\",\"blue\",\"blue\",\"blue\",\"blue\",\"blue\",\"blue\",\"blue\",\"blue\",\"blue\",\"blue\",\"blue\",\"blue\",\"blue\",\"blue\",\"blue\",\"blue\",\"blue\",\"blue\",\"blue\",\"blue\",\"blue\",\"blue\",\"blue\",\"blue\",\"blue\",\"blue\",\"blue\",\"blue\",\"blue\",\"blue\",\"blue\",\"blue\",\"blue\",\"blue\",\"blue\",\"blue\",\"blue\",\"blue\",\"blue\",\"blue\",\"blue\",\"blue\",\"blue\"],\"token\":[\"<user>\",\".\",\":\",\"rt\",\",\",\"<repeat>\",\"<hashtag>\",\"<number>\",\"<url>\",\"!\",\"i\",\"a\",\"\\\"\",\"the\",\"?\",\"you\",\"to\",\"(\",\"<allcaps>\",\"<elong>\",\")\",\"me\",\"de\",\"<smile>\",\"\\uff01\",\"que\",\"and\",\"\\u3002\",\"-\",\"my\",\"no\",\"\\u3001\",\"is\",\"it\",\"\\u2026\",\"in\",\"n\",\"for\",\"/\",\"of\",\"la\",\"'s\",\"*\",\"do\",\"n't\",\"that\",\"on\",\"y\",\"'\",\"e\",\"o\",\"u\",\"en\",\"this\",\"el\",\"so\",\"be\",\"'m\",\"with\",\"just\",\">\",\"your\",\"^\",\"like\",\"have\",\"te\",\"at\",\"\\uff1f\",\"love\",\"se\",\"are\",\"<\",\"m\",\"r\",\"if\",\"all\",\"b\",\"\\u30fb\",\"not\",\"but\",\"we\",\"es\",\"ya\",\"&\",\"follow\",\"up\",\"what\",\"get\",\"lol\",\"un\",\"\\u2665\",\"lo\",\"when\",\"was\",\"\\u201c\",\"\\u201d\",\"one\",\"por\",\"si\",\"out\",\"_\",\"mi\",\"can\",\"<sadface>\",\"\\u0645\\u0646\",\"\\u2661\",\"\\u00b4\",\"he\",\"con\",\"they\",\"now\",\"go\",\"\\u060c\",\"para\",\"los\",\"know\",\"haha\",\"good\",\"tu\",\"back\",\"~\",\"about\",\"new\",\";\",\"as\",\"day\",\"how\",\"who\",\"will\",\"want\",\"people\",\"yo\",\"eu\",\"from\",\"di\",\"time\",\"<heart>\",\"s\",\"aku\",\"da\",\"'re\",\"<lolface>\",\"una\",\"got\",\"las\",\"more\",\"x\",\"she\",\"today\",\"\\uff08\",\">>\",\"k\",\"by\",\"or\",\"\\u0641\\u064a\",\"\\uff65\",\"too\",\"le\",\"\\u00e9\",\"|\",\"[\",\"\\uff09\",\"]\",\"see\",\"why\",\"yg\",\"ca\",\"como\",\"her\",\"\\u2014\",\"q\",\"need\",\"an\",\"na\",\"\\u7b11\",\"there\",\"\\u03c9\",\"happy\",\"im\",\"mas\",\"je\",\"life\",\"really\",\"make\",\"yang\",\"shit\",\"think\",\"t\",\"\\u2764\",\"n\\u00e3o\",\"never\",\"some\",\"\\uff5e\",\"oh\",\"\\u2605\",\"did\",\"would\",\"del\",\"`\",\"d\",\"please\",\"via\",\"much\",\"fuck\",\"al\",\"dia\",\"$\",\"\\u0648\",\"right\",\"best\",\"c\",\"going\",\"\\u0627\\u0644\\u0644\\u0647\",\"pero\",\"only\",\"has\",\"\\u266a\",\"'ll\",\"twitter\",\"=\",\"hahaha\",\"its\",\"nn\",\"\\uff40\",\"\\u00bf\",\"am\",\"say\",\"<neutralface>\",\"them\",\"here\",\"\\u0644\\u0627\",\"off\",\"still\",\"dan\",\"+\",\"night\",\"w\",\"ada\",\"someone\",\"even\",\"then\",\"\\u2606\",\"ni\",\"come\",\"com\",\"always\",\"man\",\"'ve\",\"been\",\"his\",\"itu\",\"\\u0639\\u0644\\u0649\",\"-_-\",\"\\u263a\",\"over\",\"um\",\"\\u0645\\u0627\",\"hate\",\"girl\",\"ai\",\"had\",\"pra\",\"todo\",\"mais\",\"feel\",\"let\",\"ini\",\"because\",\"\\uff9f\",\"thanks\",\"ah\",\"way\",\"ever\",\"look\",\"tweet\",\"followers\",\"should\",\"our\",\"xd\",\"aja\",\"esta\",\"school\",\"him\",\"ser\",\"take\",\"than\",\"video\",\"em\",\"last\",\"wanna\",\"does\",\"us\",\"miss\",\"l\",\"ga\",\"better\",\"well\",\"could\",\"\\u25bd\",\"%\",\"apa\",\"cuando\",\"team\",\"\\u2714\",\"@\",\"ok\",\"\\u061f\",\"\\u2022\",\"vida\",\"quiero\",\"les\",\"being\",\"real\",\"down\",\"kamu\",\"everyone\",\"gonna\",\"live\",\"tonight\",\"yes\",\"work\",\"ass\",\"retweet\",\"nada\",\"sama\",\"first\",\"<<\",\"photo\",\"tomorrow\",\"where\",\"god\",\"son\",\"ke\",\"ta\",\"f\",\"home\",\"lagi\",\"thank\",\"birthday\",\"\\u2588\",\"ha\",\"great\",\"lmao\",\"omg\",\"morning\",\"m\\u00e1s\",\"mau\",\"baby\",\"dont\",\"\\uff61\",\"their\",\"p\",\"things\",\"game\",\"pas\",\"bad\",\"year\",\"yeah\",\"su\",\"bitch\",\"\\u0432\",\"stop\",\"hoy\",\"something\",\"meu\",\"tak\",\"gak\",\"world\",\"amor\",\"h\",\"\\\\\",\"ver\",\"\\uff1b\",\"porque\",\"give\",\"these\",\"\\u0627\\u0644\\u0644\\u0647\\u0645\",\"were\",\"hay\",\"sleep\",\"gue\",\"every\",\"friends\",\"uma\",\"tell\",\"amo\",\"vou\",\"bien\",\"\\u00a1\",\"again\",\"\\uff3e\",\"\\uff0f\",\"done\",\"after\",\"todos\",\"girls\",\"guys\",\"getting\",\"big\",\"wait\",\"justin\",\"eh\",\"\\u2192\",\"kan\",\"kita\",\"jajaja\",\"wish\",\"said\",\"fucking\",\"show\",\"thing\",\"next\",\"voc\\u00ea\",\"nos\",\"little\",\"tengo\",\"keep\",\"person\",\"''\",\"\\u2200\",\"hope\",\"\\u0643\\u0644\",\"hey\",\"bisa\",\"free\",\"made\",\"foto\",\"va\",\"everything\",\"iya\",\"nigga\",\"eso\",\"et\",\"watch\",\"music\",\"week\",\"talk\",\"ne\",\"solo\",\"gente\",\"udah\",\"\\uff1a\",\"--\",\"\\uff3c\",\"mejor\",\"facebook\",\"ma\",\"v\",\"phone\",\"most\",\"same\",\"okay\",\"ik\",\"before\",\"minha\",\"days\",\"g\",\"ti\",\"damn\",\"nice\",\"voy\",\"vai\",\"call\",\"long\",\"tapi\",\"http\",\"sin\",\"nunca\",\"doing\",\"other\",\"find\",\"il\",\"sa\",\"sorry\",\"nya\",\"orang\",\"\\u00b0\",\"hard\",\"mean\",\"die\",\"\\u0627\\u0644\\u0644\\u064a\",\"tem\",\"soy\",\"este\",\"kalo\",\"s\\u00f3\",\"th\",\"win\",\"nothing\",\"into\",\"face\",\"cute\",\"'d\",\"gracias\",\"lah\",\"\\u0438\",\"any\",\"play\",\"\\u2190\",\"ko\",\"text\",\"\\u2323\",\"estoy\",\"tau\",\"ur\",\"buat\",\"#\",\"cause\",\"\\u044f\",\"put\",\"kau\",\"siempre\",\"juga\",\"casa\",\"\\u0623\\u0646\",\"help\",\"start\",\"feliz\",\"old\",\"ir\",\"very\",\"care\",\"bir\",\"makes\",\"song\",\"check\",\"watching\",\"ahora\",\"jadi\",\"os\",\"may\",\"friend\",\"beautiful\",\"heart\",\"ka\",\"vc\",\"mundo\",\"\\u043d\\u0430\",\"sure\",\"tan\",\"pretty\",\"aqui\",\"\\u043d\\u0435\",\"house\",\"\\u0631\\u062a\\u0648\\u064a\\u062a\",\"\\u064a\\u0627\",\"ja\",\"true\",\"muy\",\"away\",\"already\",\"actually\",\"believe\",\"try\",\"many\",\"ma\\u00f1ana\",\"mis\",\"lu\",\"those\",\"hot\",\"qu\\u00e9\",\"mal\",\"\\u0639\\u0646\",\"though\",\"ask\",\"amazing\",\"bed\",\"}\",\"two\",\"mom\",\"d\\u00eda\",\"ve\",\"dari\",\"gameinsight\",\"stay\",\"fun\",\"around\",\"van\",\"cont\",\"ready\",\"money\",\"bu\",\"funny\",\"cool\",\"hair\",\"\\u00e0\",\"tho\",\"{\",\"wo\",\"hi\",\"name\",\"tiene\",\"hahahaha\",\"pa\",\"algo\",\"gotta\",\"\\u0648\\u0644\\u0627\",\"boy\",\"another\",\"c'est\",\"hari\",\"jajajaja\",\"having\",\"cara\",\"jaja\",\"dm\",\"looking\",\"top\",\"android\",\"dah\",\"wow\",\"\\u2591\",\"eres\",\"ben\",\"must\",\"news\",\"met\",\"est\\u00e1\",\"nih\",\"family\",\"black\",\"thought\",\"nak\",\"super\",\"end\",\"hace\",\"remember\",\"ama\",\"party\",\"cant\",\"vamos\",\"anything\",\"anyone\",\"\\u0641\\u0648\\u0644\\u0648\",\"perfect\",\"guy\",\"vez\",\"christmas\",\"dos\",\"bueno\",\"nao\",\"years\",\"vote\",\"dormir\",\"bro\",\"else\",\"quien\",\"untuk\",\"jangan\",\"myself\",\"head\",\"mind\",\"gua\",\"talking\",\"while\",\"dat\",\"food\",\"\\u0434\",\"coming\",\"wkwk\",\"trying\",\"saya\",\"mucho\",\"without\",\"wrong\",\"\\u2019s\",\"baru\",\"__\",\"hehe\",\"hacer\",\"lot\",\"followed\",\"crazy\",\"hell\",\"feeling\",\"des\",\"kok\",\"j\",\"stats\",\"j'\",\"\\u0627\\u0646\",\"tweets\",\"non\",\"cosas\",\"era\",\"high\",\"niggas\",\"change\",\"movie\",\"xx\",\"mad\",\"sih\",\"sometimes\",\"deh\",\"allah\",\"through\",\"pour\",\"ela\",\"soon\",\"gone\",\"playing\",\"smile\",\"bukan\",\"tv\",\"fans\",\"hasta\",\"akan\",\"y'\",\"looks\",\"isso\",\"\\u270c\",\"tired\",\"boys\",\"might\",\"dong\",\"lg\",\"use\",\"maybe\",\"until\",\"menos\",\"own\",\"dengan\",\"eat\",\"ou\",\"weekend\",\"\\u02d8\",\"class\",\"ele\",\"harry\",\"iphone\",\"friday\",\"single\",\"ff\",\"awesome\",\"bout\",\"muito\",\"hoje\",\"\\u00ac\",\"dios\",\"such\",\"estar\",\"j\\u00e1\",\"quando\",\"esa\",\"making\",\"\\u2501\",\"times\",\"lmfao\",\"gw\",\"moment\",\"yet\",\"aw\",\"smh\",\"banget\",\"masih\",\"qui\",\"quem\",\"\\u2013\",\"leave\",\"du\",\"une\",\"guess\",\"hit\",\"\\u0441\",\"pm\",\"since\",\"pues\",\"est\",\"job\",\"\\uff89\",\"mana\",\"bom\",\"siapa\",\"suka\",\"bieber\",\"mention\",\"lebih\",\"favorite\",\"bitches\",\"forever\",\"\\u0644\\u064a\",\"final\",\"read\",\"alguien\",\"open\",\"yourself\",\"ese\",\"che\",\"sex\",\"yaa\",\"car\",\"direction\",\"tidak\",\"seu\",\"gets\",\"left\",\"re\",\"jam\",\"enough\",\"\\u0625\\u0644\\u0627\",\"once\",\"\\u2019\",\"part\",\"cada\",\"\\u5b9a\\u671f\",\"\\u0644\\u0643\",\"een\",\"seen\",\"kak\",\"as\\u00ed\",\"nem\",\"\\u0639\\u0645\\u0644\",\"white\",\"told\",\"says\",\"esto\",\"sad\",\"mo\",\"fue\",\"yah\",\"summer\",\"\\u0647\",\"\\u2b55\",\"\\u00bb\",\"thats\",\"\\u0645\\u0639\",\"posted\",\"wants\",\"agora\",\"together\",\"fan\",\"men\",\"hear\",\"full\",\"\\u2600\",\"sigo\",\"pq\",\"dulu\",\"plus\",\"foi\",\"tudo\",\"\\u0647\\u0648\",\"ill\",\"\\u3042\",\"thinking\",\"wtf\",\"pagi\",\"mama\",\"kalau\",\"hati\",\"sexy\",\"sayang\",\"baik\",\"semua\",\"hola\",\"went\",\"vos\",\"tanto\",\"finally\",\"fb\",\"sea\",\"stupid\",\"tus\",\"seriously\",\"hora\",\"min\",\"pic\",\"estas\",\"turn\",\"hours\",\"excited\",\"nah\",\"buy\",\"saying\",\"mah\",\"break\",\"needs\",\"ce\",\"room\",\"choice\",\"far\",\"dead\",\"quero\",\"saw\",\"kids\",\"lil\",\"whole\",\"puede\",\"fall\",\"sus\",\"lost\",\"asi\",\"word\",\"\\u2639\",\"also\",\"\\u0631\\u064a\\u062a\\u0648\\u064a\\u062a\",\"probably\",\"everybody\",\"tarde\",\"run\",\"sei\",\"follback\",\"forget\",\"sweet\",\"welcome\",\"selamat\",\"\\uff3f\",\"sur\",\"place\",\"gusta\",\"sabe\",\"androidgames\",\"tp\",\"tiempo\",\"\\u0628\\u0633\",\"sou\",\"tuh\",\"vs\",\"eyes\",\"\\u0627\\u0646\\u0627\",\"picture\",\"das\",\"meet\",\"anak\",\"persona\",\"essa\",\"bored\",\"following\",\"nadie\",\"nobody\",\"dice\",\"alone\",\"sick\",\"red\",\"city\",\"cinta\",\"\\u6708\",\"linda\",\"dream\",\"story\",\"km\",\"het\",\"waiting\",\"^_^\",\"mine\",\"\\u0447\\u0442\\u043e\",\"reason\",\"kk\",\"\\u0644\\u0648\",\"online\",\"fast\",\"udh\",\"wanted\",\"op\",\"others\",\"gay\",\"n\\u2019t\",\"used\",\"sem\",\"understand\",\"moi\",\"sm\",\"aint\",\"donde\",\"bem\",\"which\",\"ng\",\"followback\",\"punya\",\"late\",\"anda\",\"tidur\",\"puedo\",\"early\",\"nd\",\"personas\",\"banyak\",\"\\u2705\",\"\\u278a\",\"trust\",\"noche\",\"tl\",\"\\uff1e\",\"\\u00ab\",\"af\",\"move\",\"pro\",\"bring\",\"ku\",\"called\",\"relationship\",\"idk\",\"hurt\",\"st\",\"pernah\",\"pessoas\",\"hello\",\"uno\",\"unfollowers\",\"cry\"],\"x\":{\"__ndarray__\":\"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\",\"dtype\":\"float64\",\"shape\":[1000]},\"y\":{\"__ndarray__\":\"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\",\"dtype\":\"float64\",\"shape\":[1000]}},\"selected\":{\"id\":\"1285\"},\"selection_policy\":{\"id\":\"1286\"}},\"id\":\"1222\",\"type\":\"ColumnDataSource\"},{\"attributes\":{},\"id\":\"1233\",\"type\":\"BasicTicker\"},{\"attributes\":{\"data_source\":{\"id\":\"1222\"},\"glyph\":{\"id\":\"1255\"},\"hover_glyph\":null,\"muted_glyph\":null,\"nonselection_glyph\":{\"id\":\"1256\"},\"selection_glyph\":null,\"view\":{\"id\":\"1258\"}},\"id\":\"1257\",\"type\":\"GlyphRenderer\"},{\"attributes\":{},\"id\":\"1282\",\"type\":\"BasicTickFormatter\"},{\"attributes\":{\"active_drag\":\"auto\",\"active_inspect\":\"auto\",\"active_multi\":null,\"active_scroll\":{\"id\":\"1241\"},\"active_tap\":\"auto\",\"tools\":[{\"id\":\"1240\"},{\"id\":\"1241\"},{\"id\":\"1242\"},{\"id\":\"1243\"},{\"id\":\"1244\"},{\"id\":\"1245\"},{\"id\":\"1259\"}]},\"id\":\"1247\",\"type\":\"Toolbar\"},{\"attributes\":{\"text\":\"\"},\"id\":\"1279\",\"type\":\"Title\"},{\"attributes\":{},\"id\":\"1284\",\"type\":\"BasicTickFormatter\"},{\"attributes\":{\"overlay\":{\"id\":\"1246\"}},\"id\":\"1242\",\"type\":\"BoxZoomTool\"},{\"attributes\":{\"axis\":{\"id\":\"1236\"},\"dimension\":1,\"ticker\":null},\"id\":\"1239\",\"type\":\"Grid\"},{\"attributes\":{},\"id\":\"1241\",\"type\":\"WheelZoomTool\"},{\"attributes\":{},\"id\":\"1224\",\"type\":\"DataRange1d\"},{\"attributes\":{\"formatter\":{\"id\":\"1284\"},\"ticker\":{\"id\":\"1233\"}},\"id\":\"1232\",\"type\":\"LinearAxis\"},{\"attributes\":{},\"id\":\"1237\",\"type\":\"BasicTicker\"},{\"attributes\":{\"formatter\":{\"id\":\"1282\"},\"ticker\":{\"id\":\"1237\"}},\"id\":\"1236\",\"type\":\"LinearAxis\"},{\"attributes\":{\"fill_alpha\":{\"value\":0.25},\"fill_color\":{\"field\":\"color\"},\"line_alpha\":{\"value\":0.25},\"line_color\":{\"field\":\"color\"},\"size\":{\"units\":\"screen\",\"value\":10},\"x\":{\"field\":\"x\"},\"y\":{\"field\":\"y\"}},\"id\":\"1255\",\"type\":\"Scatter\"},{\"attributes\":{},\"id\":\"1230\",\"type\":\"LinearScale\"},{\"attributes\":{\"fill_alpha\":{\"value\":0.1},\"fill_color\":{\"field\":\"color\"},\"line_alpha\":{\"value\":0.1},\"line_color\":{\"field\":\"color\"},\"size\":{\"units\":\"screen\",\"value\":10},\"x\":{\"field\":\"x\"},\"y\":{\"field\":\"y\"}},\"id\":\"1256\",\"type\":\"Scatter\"},{\"attributes\":{\"axis\":{\"id\":\"1232\"},\"ticker\":null},\"id\":\"1235\",\"type\":\"Grid\"}],\"root_ids\":[\"1223\"]},\"title\":\"Bokeh Application\",\"version\":\"2.0.1\"}};\n",
              "  var render_items = [{\"docid\":\"85dd3321-6fec-40ef-a1f4-45539849a927\",\"root_ids\":[\"1223\"],\"roots\":{\"1223\":\"cd4641df-c242-4861-932d-18b461547eef\"}}];\n",
              "  root.Bokeh.embed.embed_items_notebook(docs_json, render_items);\n",
              "\n",
              "  }\n",
              "  if (root.Bokeh !== undefined) {\n",
              "    embed_document(root);\n",
              "  } else {\n",
              "    var attempts = 0;\n",
              "    var timer = setInterval(function(root) {\n",
              "      if (root.Bokeh !== undefined) {\n",
              "        clearInterval(timer);\n",
              "        embed_document(root);\n",
              "      } else {\n",
              "        attempts++;\n",
              "        if (attempts > 100) {\n",
              "          clearInterval(timer);\n",
              "          console.log(\"Bokeh: ERROR: Unable to run BokehJS code because BokehJS library is missing\");\n",
              "        }\n",
              "      }\n",
              "    }, 10, root)\n",
              "  }\n",
              "})(window);"
            ],
            "application/vnd.bokehjs_exec.v0+json": ""
          },
          "metadata": {
            "tags": [],
            "application/vnd.bokehjs_exec.v0+json": {
              "id": "1223"
            }
          }
        },
        {
          "output_type": "execute_result",
          "data": {
            "text/html": [
              "<div style=\"display: table;\"><div style=\"display: table-row;\"><div style=\"display: table-cell;\"><b title=\"bokeh.plotting.figure.Figure\">Figure</b>(</div><div style=\"display: table-cell;\">id&nbsp;=&nbsp;'1223', <span id=\"1343\" style=\"cursor: pointer;\">&hellip;)</span></div></div><div class=\"1342\" style=\"display: none;\"><div style=\"display: table-cell;\"></div><div style=\"display: table-cell;\">above&nbsp;=&nbsp;[],</div></div><div class=\"1342\" style=\"display: none;\"><div style=\"display: table-cell;\"></div><div style=\"display: table-cell;\">align&nbsp;=&nbsp;'start',</div></div><div class=\"1342\" style=\"display: none;\"><div style=\"display: table-cell;\"></div><div style=\"display: table-cell;\">aspect_ratio&nbsp;=&nbsp;None,</div></div><div class=\"1342\" style=\"display: none;\"><div style=\"display: table-cell;\"></div><div style=\"display: table-cell;\">aspect_scale&nbsp;=&nbsp;1,</div></div><div class=\"1342\" style=\"display: none;\"><div style=\"display: table-cell;\"></div><div style=\"display: table-cell;\">background&nbsp;=&nbsp;None,</div></div><div class=\"1342\" style=\"display: none;\"><div style=\"display: table-cell;\"></div><div style=\"display: table-cell;\">background_fill_alpha&nbsp;=&nbsp;1.0,</div></div><div class=\"1342\" style=\"display: none;\"><div style=\"display: table-cell;\"></div><div style=\"display: table-cell;\">background_fill_color&nbsp;=&nbsp;'#ffffff',</div></div><div class=\"1342\" style=\"display: none;\"><div style=\"display: table-cell;\"></div><div style=\"display: table-cell;\">below&nbsp;=&nbsp;[LinearAxis(id='1232', ...)],</div></div><div class=\"1342\" style=\"display: none;\"><div style=\"display: table-cell;\"></div><div style=\"display: table-cell;\">border_fill_alpha&nbsp;=&nbsp;1.0,</div></div><div class=\"1342\" style=\"display: none;\"><div style=\"display: table-cell;\"></div><div style=\"display: table-cell;\">border_fill_color&nbsp;=&nbsp;'#ffffff',</div></div><div class=\"1342\" style=\"display: none;\"><div style=\"display: table-cell;\"></div><div style=\"display: table-cell;\">center&nbsp;=&nbsp;[Grid(id='1235', ...), Grid(id='1239', ...)],</div></div><div class=\"1342\" style=\"display: none;\"><div style=\"display: table-cell;\"></div><div style=\"display: table-cell;\">css_classes&nbsp;=&nbsp;[],</div></div><div class=\"1342\" style=\"display: none;\"><div style=\"display: table-cell;\"></div><div style=\"display: table-cell;\">disabled&nbsp;=&nbsp;False,</div></div><div class=\"1342\" style=\"display: none;\"><div style=\"display: table-cell;\"></div><div style=\"display: table-cell;\">extra_x_ranges&nbsp;=&nbsp;{},</div></div><div class=\"1342\" style=\"display: none;\"><div style=\"display: table-cell;\"></div><div style=\"display: table-cell;\">extra_y_ranges&nbsp;=&nbsp;{},</div></div><div class=\"1342\" style=\"display: none;\"><div style=\"display: table-cell;\"></div><div style=\"display: table-cell;\">frame_height&nbsp;=&nbsp;None,</div></div><div class=\"1342\" style=\"display: none;\"><div style=\"display: table-cell;\"></div><div style=\"display: table-cell;\">frame_width&nbsp;=&nbsp;None,</div></div><div class=\"1342\" style=\"display: none;\"><div style=\"display: table-cell;\"></div><div style=\"display: table-cell;\">height&nbsp;=&nbsp;None,</div></div><div class=\"1342\" style=\"display: none;\"><div style=\"display: table-cell;\"></div><div style=\"display: table-cell;\">height_policy&nbsp;=&nbsp;'auto',</div></div><div class=\"1342\" style=\"display: none;\"><div style=\"display: table-cell;\"></div><div style=\"display: table-cell;\">hidpi&nbsp;=&nbsp;True,</div></div><div class=\"1342\" style=\"display: none;\"><div style=\"display: table-cell;\"></div><div style=\"display: table-cell;\">js_event_callbacks&nbsp;=&nbsp;{},</div></div><div class=\"1342\" style=\"display: none;\"><div style=\"display: table-cell;\"></div><div style=\"display: table-cell;\">js_property_callbacks&nbsp;=&nbsp;{},</div></div><div class=\"1342\" style=\"display: none;\"><div style=\"display: table-cell;\"></div><div style=\"display: table-cell;\">left&nbsp;=&nbsp;[LinearAxis(id='1236', ...)],</div></div><div class=\"1342\" style=\"display: none;\"><div style=\"display: table-cell;\"></div><div style=\"display: table-cell;\">lod_factor&nbsp;=&nbsp;10,</div></div><div class=\"1342\" style=\"display: none;\"><div style=\"display: table-cell;\"></div><div style=\"display: table-cell;\">lod_interval&nbsp;=&nbsp;300,</div></div><div class=\"1342\" style=\"display: none;\"><div style=\"display: table-cell;\"></div><div style=\"display: table-cell;\">lod_threshold&nbsp;=&nbsp;2000,</div></div><div class=\"1342\" style=\"display: none;\"><div style=\"display: table-cell;\"></div><div style=\"display: table-cell;\">lod_timeout&nbsp;=&nbsp;500,</div></div><div class=\"1342\" style=\"display: none;\"><div style=\"display: table-cell;\"></div><div style=\"display: table-cell;\">margin&nbsp;=&nbsp;(0, 0, 0, 0),</div></div><div class=\"1342\" style=\"display: none;\"><div style=\"display: table-cell;\"></div><div style=\"display: table-cell;\">match_aspect&nbsp;=&nbsp;False,</div></div><div class=\"1342\" style=\"display: none;\"><div style=\"display: table-cell;\"></div><div style=\"display: table-cell;\">max_height&nbsp;=&nbsp;None,</div></div><div class=\"1342\" style=\"display: none;\"><div style=\"display: table-cell;\"></div><div style=\"display: table-cell;\">max_width&nbsp;=&nbsp;None,</div></div><div class=\"1342\" style=\"display: none;\"><div style=\"display: table-cell;\"></div><div style=\"display: table-cell;\">min_border&nbsp;=&nbsp;5,</div></div><div class=\"1342\" style=\"display: none;\"><div style=\"display: table-cell;\"></div><div style=\"display: table-cell;\">min_border_bottom&nbsp;=&nbsp;None,</div></div><div class=\"1342\" style=\"display: none;\"><div style=\"display: table-cell;\"></div><div style=\"display: table-cell;\">min_border_left&nbsp;=&nbsp;None,</div></div><div class=\"1342\" style=\"display: none;\"><div style=\"display: table-cell;\"></div><div style=\"display: table-cell;\">min_border_right&nbsp;=&nbsp;None,</div></div><div class=\"1342\" style=\"display: none;\"><div style=\"display: table-cell;\"></div><div style=\"display: table-cell;\">min_border_top&nbsp;=&nbsp;None,</div></div><div class=\"1342\" style=\"display: none;\"><div style=\"display: table-cell;\"></div><div style=\"display: table-cell;\">min_height&nbsp;=&nbsp;None,</div></div><div class=\"1342\" style=\"display: none;\"><div style=\"display: table-cell;\"></div><div style=\"display: table-cell;\">min_width&nbsp;=&nbsp;None,</div></div><div class=\"1342\" style=\"display: none;\"><div style=\"display: table-cell;\"></div><div style=\"display: table-cell;\">name&nbsp;=&nbsp;None,</div></div><div class=\"1342\" style=\"display: none;\"><div style=\"display: table-cell;\"></div><div style=\"display: table-cell;\">outline_line_alpha&nbsp;=&nbsp;1.0,</div></div><div class=\"1342\" style=\"display: none;\"><div style=\"display: table-cell;\"></div><div style=\"display: table-cell;\">outline_line_cap&nbsp;=&nbsp;'butt',</div></div><div class=\"1342\" style=\"display: none;\"><div style=\"display: table-cell;\"></div><div style=\"display: table-cell;\">outline_line_color&nbsp;=&nbsp;'#e5e5e5',</div></div><div class=\"1342\" style=\"display: none;\"><div style=\"display: table-cell;\"></div><div style=\"display: table-cell;\">outline_line_dash&nbsp;=&nbsp;[],</div></div><div class=\"1342\" style=\"display: none;\"><div style=\"display: table-cell;\"></div><div style=\"display: table-cell;\">outline_line_dash_offset&nbsp;=&nbsp;0,</div></div><div class=\"1342\" style=\"display: none;\"><div style=\"display: table-cell;\"></div><div style=\"display: table-cell;\">outline_line_join&nbsp;=&nbsp;'bevel',</div></div><div class=\"1342\" style=\"display: none;\"><div style=\"display: table-cell;\"></div><div style=\"display: table-cell;\">outline_line_width&nbsp;=&nbsp;1,</div></div><div class=\"1342\" style=\"display: none;\"><div style=\"display: table-cell;\"></div><div style=\"display: table-cell;\">output_backend&nbsp;=&nbsp;'canvas',</div></div><div class=\"1342\" style=\"display: none;\"><div style=\"display: table-cell;\"></div><div style=\"display: table-cell;\">plot_height&nbsp;=&nbsp;400,</div></div><div class=\"1342\" style=\"display: none;\"><div style=\"display: table-cell;\"></div><div style=\"display: table-cell;\">plot_width&nbsp;=&nbsp;600,</div></div><div class=\"1342\" style=\"display: none;\"><div style=\"display: table-cell;\"></div><div style=\"display: table-cell;\">renderers&nbsp;=&nbsp;[GlyphRenderer(id='1257', ...)],</div></div><div class=\"1342\" style=\"display: none;\"><div style=\"display: table-cell;\"></div><div style=\"display: table-cell;\">reset_policy&nbsp;=&nbsp;'standard',</div></div><div class=\"1342\" style=\"display: none;\"><div style=\"display: table-cell;\"></div><div style=\"display: table-cell;\">right&nbsp;=&nbsp;[],</div></div><div class=\"1342\" style=\"display: none;\"><div style=\"display: table-cell;\"></div><div style=\"display: table-cell;\">sizing_mode&nbsp;=&nbsp;None,</div></div><div class=\"1342\" style=\"display: none;\"><div style=\"display: table-cell;\"></div><div style=\"display: table-cell;\">subscribed_events&nbsp;=&nbsp;[],</div></div><div class=\"1342\" style=\"display: none;\"><div style=\"display: table-cell;\"></div><div style=\"display: table-cell;\">tags&nbsp;=&nbsp;[],</div></div><div class=\"1342\" style=\"display: none;\"><div style=\"display: table-cell;\"></div><div style=\"display: table-cell;\">title&nbsp;=&nbsp;Title(id='1279', ...),</div></div><div class=\"1342\" style=\"display: none;\"><div style=\"display: table-cell;\"></div><div style=\"display: table-cell;\">title_location&nbsp;=&nbsp;'above',</div></div><div class=\"1342\" style=\"display: none;\"><div style=\"display: table-cell;\"></div><div style=\"display: table-cell;\">toolbar&nbsp;=&nbsp;Toolbar(id='1247', ...),</div></div><div class=\"1342\" style=\"display: none;\"><div style=\"display: table-cell;\"></div><div style=\"display: table-cell;\">toolbar_location&nbsp;=&nbsp;'right',</div></div><div class=\"1342\" style=\"display: none;\"><div style=\"display: table-cell;\"></div><div style=\"display: table-cell;\">toolbar_sticky&nbsp;=&nbsp;True,</div></div><div class=\"1342\" style=\"display: none;\"><div style=\"display: table-cell;\"></div><div style=\"display: table-cell;\">visible&nbsp;=&nbsp;True,</div></div><div class=\"1342\" style=\"display: none;\"><div style=\"display: table-cell;\"></div><div style=\"display: table-cell;\">width&nbsp;=&nbsp;None,</div></div><div class=\"1342\" style=\"display: none;\"><div style=\"display: table-cell;\"></div><div style=\"display: table-cell;\">width_policy&nbsp;=&nbsp;'auto',</div></div><div class=\"1342\" style=\"display: none;\"><div style=\"display: table-cell;\"></div><div style=\"display: table-cell;\">x_range&nbsp;=&nbsp;DataRange1d(id='1224', ...),</div></div><div class=\"1342\" style=\"display: none;\"><div style=\"display: table-cell;\"></div><div style=\"display: table-cell;\">x_scale&nbsp;=&nbsp;LinearScale(id='1228', ...),</div></div><div class=\"1342\" style=\"display: none;\"><div style=\"display: table-cell;\"></div><div style=\"display: table-cell;\">y_range&nbsp;=&nbsp;DataRange1d(id='1226', ...),</div></div><div class=\"1342\" style=\"display: none;\"><div style=\"display: table-cell;\"></div><div style=\"display: table-cell;\">y_scale&nbsp;=&nbsp;LinearScale(id='1230', ...))</div></div></div>\n",
              "<script>\n",
              "(function() {\n",
              "  var expanded = false;\n",
              "  var ellipsis = document.getElementById(\"1343\");\n",
              "  ellipsis.addEventListener(\"click\", function() {\n",
              "    var rows = document.getElementsByClassName(\"1342\");\n",
              "    for (var i = 0; i < rows.length; i++) {\n",
              "      var el = rows[i];\n",
              "      el.style.display = expanded ? \"none\" : \"table-row\";\n",
              "    }\n",
              "    ellipsis.innerHTML = expanded ? \"&hellip;)\" : \"&lsaquo;&lsaquo;&lsaquo;\";\n",
              "    expanded = !expanded;\n",
              "  });\n",
              "})();\n",
              "</script>\n"
            ],
            "text/plain": [
              "Figure(id='1223', ...)"
            ]
          },
          "metadata": {
            "tags": []
          },
          "execution_count": 24
        }
      ]
    },
    {
      "cell_type": "markdown",
      "metadata": {
        "colab_type": "text",
        "id": "Qv1hIhRoFcHC"
      },
      "source": [
        "Well, as we can see, this space does not look perfect, sometimes we see (it seems) different words grouped together.\n",
        "\n",
        "That happend mostly because our way to reduce dimensionality of vectors (PCA)  is not perfect. Let's try to use different algorithm for doing this: TSNE.\n",
        "\n",
        "TSNE is in some way creates embeddings itself, so we may hope that it will work better)"
      ]
    },
    {
      "cell_type": "markdown",
      "metadata": {
        "colab_type": "text",
        "id": "gHwUk0TBomVz"
      },
      "source": [
        "https://scikit-learn.org/stable/modules/generated/sklearn.manifold.TSNE.html\n",
        "\n",
        "https://distill.pub/2016/misread-tsne/"
      ]
    },
    {
      "cell_type": "code",
      "metadata": {
        "colab_type": "code",
        "id": "qpSg31n_nlHO",
        "colab": {
          "base_uri": "https://localhost:8080/",
          "height": 185
        },
        "outputId": "a2bc74cd-7928-4093-940b-7119616b38e4"
      },
      "source": [
        "from sklearn.manifold import TSNE\n",
        "\n",
        "tsne = TSNE(n_components=2, verbose=50)\n",
        "tsne.fit(word_vectors)\n",
        "word_vectors_tsne = tsne.transform(word_vectors)\n",
        "\n",
        "ss = StandardScaler().fit(word_vectors_tsne)\n",
        "word_vectors_tsne = ss.transform(word_vectors_tsne)"
      ],
      "execution_count": 0,
      "outputs": [
        {
          "output_type": "stream",
          "text": [
            "[t-SNE] Computing 91 nearest neighbors...\n",
            "[t-SNE] Indexed 1000 samples in 0.003s...\n",
            "[t-SNE] Computed neighbors for 1000 samples in 0.082s...\n",
            "[t-SNE] Computed conditional probabilities for sample 1000 / 1000\n",
            "[t-SNE] Mean sigma: 1.229689\n",
            "[t-SNE] Computed conditional probabilities in 0.051s\n",
            "[t-SNE] Iteration 50: error = 66.4840698, gradient norm = 0.2934253 (50 iterations in 15.692s)\n",
            "[t-SNE] Iteration 100: error = 65.2987976, gradient norm = 0.2817973 (50 iterations in 11.769s)\n",
            "[t-SNE] Iteration 150: error = 64.5632248, gradient norm = 0.2833901 (50 iterations in 17.775s)\n"
          ],
          "name": "stdout"
        }
      ]
    },
    {
      "cell_type": "code",
      "metadata": {
        "colab_type": "code",
        "id": "TzBpTdLFnosK",
        "colab": {}
      },
      "source": [
        "output_notebook()\n",
        "draw_vectors(word_vectors_tsne[:, 0], word_vectors_tsne[:, 1], token=words)"
      ],
      "execution_count": 0,
      "outputs": []
    },
    {
      "cell_type": "code",
      "metadata": {
        "id": "pfH3thaTAjuP",
        "colab_type": "code",
        "colab": {}
      },
      "source": [
        ""
      ],
      "execution_count": 0,
      "outputs": []
    }
  ]
}