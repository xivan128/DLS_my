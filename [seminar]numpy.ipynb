{
  "nbformat": 4,
  "nbformat_minor": 0,
  "metadata": {
    "colab": {
      "name": "[seminar]numpy.ipynb",
      "provenance": [],
      "collapsed_sections": [],
      "include_colab_link": true
    },
    "hide_input": false,
    "kernelspec": {
      "display_name": "Python 3",
      "language": "python",
      "name": "python3"
    },
    "language_info": {
      "codemirror_mode": {
        "name": "ipython",
        "version": 3
      },
      "file_extension": ".py",
      "mimetype": "text/x-python",
      "name": "python",
      "nbconvert_exporter": "python",
      "pygments_lexer": "ipython3",
      "version": "3.6.8"
    },
    "varInspector": {
      "cols": {
        "lenName": 16,
        "lenType": 16,
        "lenVar": 40
      },
      "kernels_config": {
        "python": {
          "delete_cmd_postfix": "",
          "delete_cmd_prefix": "del ",
          "library": "var_list.py",
          "varRefreshCmd": "print(var_dic_list())"
        },
        "r": {
          "delete_cmd_postfix": ") ",
          "delete_cmd_prefix": "rm(",
          "library": "var_list.r",
          "varRefreshCmd": "cat(var_dic_list()) "
        }
      },
      "types_to_exclude": [
        "module",
        "function",
        "builtin_function_or_method",
        "instance",
        "_Feature"
      ],
      "window_display": false
    }
  },
  "cells": [
    {
      "cell_type": "markdown",
      "metadata": {
        "id": "view-in-github",
        "colab_type": "text"
      },
      "source": [
        "<a href=\"https://colab.research.google.com/github/xivan128/DLS_my/blob/master/%5Bseminar%5Dnumpy.ipynb\" target=\"_parent\"><img src=\"https://colab.research.google.com/assets/colab-badge.svg\" alt=\"Open In Colab\"/></a>"
      ]
    },
    {
      "cell_type": "markdown",
      "metadata": {
        "colab_type": "text",
        "id": "LYCbBYAoK01P"
      },
      "source": [
        "<p style=\"align: center;\"><img align=center src=\"https://s8.hostingkartinok.com/uploads/images/2018/08/308b49fcfbc619d629fe4604bceb67ac.jpg\" width=500 height=450/></p>\n",
        "\n",
        "<h3 style=\"text-align: center;\"><b>Физтех-Школа Прикладной математики и информатики (ФПМИ) МФТИ</b></h3>\n"
      ]
    },
    {
      "cell_type": "markdown",
      "metadata": {
        "colab_type": "text",
        "id": "WCndMFM25mhM"
      },
      "source": [
        "---"
      ]
    },
    {
      "cell_type": "markdown",
      "metadata": {
        "colab_type": "text",
        "id": "Jv3wM2EJK01Q"
      },
      "source": [
        "<h2 style=\"text-align: center;\"><b>Python. Занятие 2: Numpy, Scipy</b></h2>"
      ]
    },
    {
      "cell_type": "markdown",
      "metadata": {
        "colab_type": "text",
        "id": "ZFb530GdK01R"
      },
      "source": [
        "<img align=left src=\"https://cdn.fedoramagazine.org/wp-content/uploads/2015/11/Python_logo.png\" width=400 height=250/>\n",
        "\n",
        "<img src=\"https://steemit-production-imageproxy-thumbnail.s3.amazonaws.com/DQmPzrCtkniAypHNkuGgEdqcmzzCxD6xCYKD7uFNDyZQLTv_1680x8400\" width=400 height=200 />"
      ]
    },
    {
      "cell_type": "markdown",
      "metadata": {
        "colab_type": "text",
        "id": "6FcX8uOqK01S"
      },
      "source": [
        "#### При подготовке ноутбука использовался сайт: http://www.inp.nsk.su/~grozin/python/"
      ]
    },
    {
      "cell_type": "markdown",
      "metadata": {
        "colab_type": "text",
        "id": "GB_0NqPUK01T"
      },
      "source": [
        "---"
      ]
    },
    {
      "cell_type": "markdown",
      "metadata": {
        "colab_type": "text",
        "id": "kBGnvjStK01T"
      },
      "source": [
        "## Библиотека NumPy"
      ]
    },
    {
      "cell_type": "markdown",
      "metadata": {
        "colab_type": "text",
        "id": "Iug83l7wK01U"
      },
      "source": [
        "Пакет **`NumPy`** предоставляет $n$-мерные однородные массивы (все элементы одного типа); в них нельзя вставить или удалить элемент в произвольном месте. В `numpy` реализовано много операций над массивами в целом. Если задачу можно решить, произведя некоторую последовательность операций над массивами, то это будет столь же эффективно, как в `C` или `matlab`, поскольку функции этой библиотеки реализованы на C, и мы просто вызываем из из питона."
      ]
    },
    {
      "cell_type": "code",
      "metadata": {
        "colab_type": "code",
        "id": "zB8-qzXEK01V",
        "colab": {}
      },
      "source": [
        "# стандартное название для импорта numpy - np\n",
        "import numpy as np\n",
        "import math"
      ],
      "execution_count": 0,
      "outputs": []
    },
    {
      "cell_type": "code",
      "metadata": {
        "colab_type": "code",
        "id": "2_IOYl5-K01Y",
        "colab": {}
      },
      "source": [
        "# from numpy import *\n",
        "# как и влюбом другом языке и библиотке, так делать нельзя. Вы очень быстро запутаетесь в функциях из numpy \n",
        "# и запутаете всех, кто читает ваш код"
      ],
      "execution_count": 0,
      "outputs": []
    },
    {
      "cell_type": "markdown",
      "metadata": {
        "colab_type": "text",
        "id": "f6y8_ITBK01Y"
      },
      "source": [
        "## Векторы и матрицы в numpy"
      ]
    },
    {
      "cell_type": "markdown",
      "metadata": {
        "colab_type": "text",
        "id": "3k5eaQgGHLJD"
      },
      "source": [
        "* **Одномерные массивы**. Я предполагаю, что почти все знают про обычные массивы и про операции над ними. Они выглядят следующим образом:"
      ]
    },
    {
      "cell_type": "code",
      "metadata": {
        "colab_type": "code",
        "id": "A8y4lFcdHLJD",
        "outputId": "e95ed3c8-a509-4cc3-f7cd-81374f7bafc6",
        "colab": {
          "base_uri": "https://localhost:8080/",
          "height": 34
        }
      },
      "source": [
        "x = [3, 4, 1]\n",
        "print(x)"
      ],
      "execution_count": 0,
      "outputs": [
        {
          "output_type": "stream",
          "text": [
            "[3, 4, 1]\n"
          ],
          "name": "stdout"
        }
      ]
    },
    {
      "cell_type": "markdown",
      "metadata": {
        "colab_type": "text",
        "id": "dHYKof4KK01b"
      },
      "source": [
        "Давайте преобразуем наш массив в __numpy__ массив:"
      ]
    },
    {
      "cell_type": "code",
      "metadata": {
        "colab_type": "code",
        "id": "rffXuWJaK01c",
        "outputId": "20b56f89-e112-419a-edac-5985ad6def6b",
        "colab": {
          "base_uri": "https://localhost:8080/",
          "height": 34
        }
      },
      "source": [
        "a = np.array(x)\n",
        "print(a, type(a))"
      ],
      "execution_count": 0,
      "outputs": [
        {
          "output_type": "stream",
          "text": [
            "[3 4 1] <class 'numpy.ndarray'>\n"
          ],
          "name": "stdout"
        }
      ]
    },
    {
      "cell_type": "markdown",
      "metadata": {
        "colab_type": "text",
        "id": "iLQtJmH0K01g"
      },
      "source": [
        "`print` печатает массивы в удобной форме."
      ]
    },
    {
      "cell_type": "code",
      "metadata": {
        "colab_type": "code",
        "id": "QGFfGuPtK01h",
        "outputId": "f997e0e8-6084-4477-d14d-cc4513b5e658",
        "colab": {
          "base_uri": "https://localhost:8080/",
          "height": 34
        }
      },
      "source": [
        "print(a/89)"
      ],
      "execution_count": 0,
      "outputs": [
        {
          "output_type": "stream",
          "text": [
            "[0.03370787 0.04494382 0.01123596]\n"
          ],
          "name": "stdout"
        }
      ]
    },
    {
      "cell_type": "markdown",
      "metadata": {
        "id": "Kxxjms2DaSBX",
        "colab_type": "text"
      },
      "source": [
        "* **Многомерные массивы**"
      ]
    },
    {
      "cell_type": "code",
      "metadata": {
        "colab_type": "code",
        "outputId": "edddd817-c99e-4d87-90de-02b1a6a802a5",
        "id": "9J22jldfaSBZ",
        "colab": {
          "base_uri": "https://localhost:8080/",
          "height": 34
        }
      },
      "source": [
        "# Простая матричка\n",
        "x = [[3, 4, 1],\n",
        "     [1, 2, 3]]\n",
        "print(x)"
      ],
      "execution_count": 0,
      "outputs": [
        {
          "output_type": "stream",
          "text": [
            "[[3, 4, 1], [1, 2, 3]]\n"
          ],
          "name": "stdout"
        }
      ]
    },
    {
      "cell_type": "code",
      "metadata": {
        "colab_type": "code",
        "outputId": "f938f4aa-495d-44f8-fe5d-268fe3fa53dc",
        "id": "wvbw-zhdaSBe",
        "colab": {
          "base_uri": "https://localhost:8080/",
          "height": 52
        }
      },
      "source": [
        "a = np.array(x)\n",
        "print(a)"
      ],
      "execution_count": 0,
      "outputs": [
        {
          "output_type": "stream",
          "text": [
            "[[3 4 1]\n",
            " [1 2 3]]\n"
          ],
          "name": "stdout"
        }
      ]
    },
    {
      "cell_type": "code",
      "metadata": {
        "colab_type": "code",
        "outputId": "0fede74c-f1d3-44bc-8c99-b5d25450fd5e",
        "scrolled": true,
        "id": "GPeALYOLaSBi",
        "colab": {
          "base_uri": "https://localhost:8080/",
          "height": 35
        }
      },
      "source": [
        "# Реально многомерный массив\n",
        "x = [\n",
        "        [ [1, 2, 3], [4, 5, 6]],\n",
        "        [ [7, 8, 9], [10, 11, 12]] \n",
        "    ]\n",
        "print(x)"
      ],
      "execution_count": 0,
      "outputs": [
        {
          "output_type": "stream",
          "text": [
            "[[[1, 2, 3], [4, 5, 6]], [[7, 8, 9], [10, 11, 12]]]\n"
          ],
          "name": "stdout"
        }
      ]
    },
    {
      "cell_type": "code",
      "metadata": {
        "colab_type": "code",
        "outputId": "60c38eba-0f91-4f9e-ae18-6915b60514f5",
        "id": "-SeTuAAjaSBl",
        "colab": {
          "base_uri": "https://localhost:8080/",
          "height": 35
        }
      },
      "source": [
        "a = np.array(x)\n",
        "print(a)"
      ],
      "execution_count": 0,
      "outputs": [
        {
          "output_type": "stream",
          "text": [
            "[[[ 1  2  3]\n",
            "  [ 4  5  6]]\n",
            "\n",
            " [[ 7  8  9]\n",
            "  [10 11 12]]]\n"
          ],
          "name": "stdout"
        }
      ]
    },
    {
      "cell_type": "markdown",
      "metadata": {
        "id": "tv2xp3kjaSBo",
        "colab_type": "text"
      },
      "source": [
        "Как мы видим, для numpy нет никакой разницы, сколько измерений у матрицы, все они представляются numpy.ndarray"
      ]
    },
    {
      "cell_type": "markdown",
      "metadata": {
        "id": "Tjm58y2OaSBq",
        "colab_type": "text"
      },
      "source": [
        "# Типы данных в numpy"
      ]
    },
    {
      "cell_type": "markdown",
      "metadata": {
        "colab_type": "text",
        "id": "6tBmi8DrHLJR"
      },
      "source": [
        "`numpy` предоставляет несколько типов для целых (`int16`, `int32`, `int64`) и чисел с плавающей точкой (`float32`, `float64`)."
      ]
    },
    {
      "cell_type": "code",
      "metadata": {
        "colab_type": "code",
        "id": "XROlITuVHLJR",
        "outputId": "1d02b2a0-2efb-4bd3-cb58-dedd17098fc6",
        "colab": {
          "base_uri": "https://localhost:8080/",
          "height": 34
        }
      },
      "source": [
        "a.dtype, a.dtype.name, a.itemsize"
      ],
      "execution_count": 0,
      "outputs": [
        {
          "output_type": "execute_result",
          "data": {
            "text/plain": [
              "(dtype('int64'), 'int64', 8)"
            ]
          },
          "metadata": {
            "tags": []
          },
          "execution_count": 10
        }
      ]
    },
    {
      "cell_type": "code",
      "metadata": {
        "colab_type": "code",
        "id": "bYMWEBdmHLJV",
        "outputId": "52aa386b-ba5c-4e15-b90e-4f05ad721cf8",
        "colab": {
          "base_uri": "https://localhost:8080/",
          "height": 34
        }
      },
      "source": [
        "b = np.array([0., 2, 1])\n",
        "b.dtype"
      ],
      "execution_count": 0,
      "outputs": [
        {
          "output_type": "execute_result",
          "data": {
            "text/plain": [
              "dtype('int64')"
            ]
          },
          "metadata": {
            "tags": []
          },
          "execution_count": 35
        }
      ]
    },
    {
      "cell_type": "markdown",
      "metadata": {
        "colab_type": "text",
        "id": "4gsvp2fjHLJY"
      },
      "source": [
        "Точно такой же массив."
      ]
    },
    {
      "cell_type": "code",
      "metadata": {
        "colab_type": "code",
        "id": "ZrJbtW3OHLJY",
        "outputId": "38905214-16ce-462a-b09c-6768cfe39cec",
        "colab": {
          "base_uri": "https://localhost:8080/",
          "height": 34
        }
      },
      "source": [
        "c = np.array([0.1, 2, 1], dtype=np.float64)\n",
        "print(c)"
      ],
      "execution_count": 0,
      "outputs": [
        {
          "output_type": "stream",
          "text": [
            "[0.1 2.  1. ]\n"
          ],
          "name": "stdout"
        }
      ]
    },
    {
      "cell_type": "markdown",
      "metadata": {
        "colab_type": "text",
        "id": "-U7vEzu-HLJe"
      },
      "source": [
        "Преобразование данных"
      ]
    },
    {
      "cell_type": "code",
      "metadata": {
        "colab_type": "code",
        "id": "51ZSoCJJHLJg",
        "outputId": "ba3a937b-6eaa-4eb1-c797-4247f71bd08e",
        "colab": {
          "base_uri": "https://localhost:8080/",
          "height": 69
        }
      },
      "source": [
        "print(c.dtype)\n",
        "print(c.astype(int))\n",
        "print(c.astype(str))"
      ],
      "execution_count": 0,
      "outputs": [
        {
          "output_type": "stream",
          "text": [
            "float64\n",
            "[0 2 1]\n",
            "['0.1' '2.0' '1.0']\n"
          ],
          "name": "stdout"
        }
      ]
    },
    {
      "cell_type": "markdown",
      "metadata": {
        "colab_type": "text",
        "id": "AhMuoHJ3HLJm"
      },
      "source": [
        "Так для чего нам нужны эти массивы, почему нам может не хватать возможностей обычных массивов?"
      ]
    },
    {
      "cell_type": "markdown",
      "metadata": {
        "colab_type": "text",
        "id": "49Hkkuc0K01k"
      },
      "source": [
        "# Методы массивов в numpy\n",
        "Класс `ndarray` имеет много методов."
      ]
    },
    {
      "cell_type": "code",
      "metadata": {
        "colab_type": "code",
        "id": "j7W2JXyH9Yy9",
        "outputId": "518bc6d7-056b-4f2d-8d4d-d712a81c5f96",
        "colab": {
          "base_uri": "https://localhost:8080/",
          "height": 54
        }
      },
      "source": [
        "print(dir(a))"
      ],
      "execution_count": 0,
      "outputs": [
        {
          "output_type": "stream",
          "text": [
            "['T', '__abs__', '__add__', '__and__', '__array__', '__array_finalize__', '__array_function__', '__array_interface__', '__array_prepare__', '__array_priority__', '__array_struct__', '__array_ufunc__', '__array_wrap__', '__bool__', '__class__', '__complex__', '__contains__', '__copy__', '__deepcopy__', '__delattr__', '__delitem__', '__dir__', '__divmod__', '__doc__', '__eq__', '__float__', '__floordiv__', '__format__', '__ge__', '__getattribute__', '__getitem__', '__gt__', '__hash__', '__iadd__', '__iand__', '__ifloordiv__', '__ilshift__', '__imatmul__', '__imod__', '__imul__', '__index__', '__init__', '__init_subclass__', '__int__', '__invert__', '__ior__', '__ipow__', '__irshift__', '__isub__', '__iter__', '__itruediv__', '__ixor__', '__le__', '__len__', '__lshift__', '__lt__', '__matmul__', '__mod__', '__mul__', '__ne__', '__neg__', '__new__', '__or__', '__pos__', '__pow__', '__radd__', '__rand__', '__rdivmod__', '__reduce__', '__reduce_ex__', '__repr__', '__rfloordiv__', '__rlshift__', '__rmatmul__', '__rmod__', '__rmul__', '__ror__', '__rpow__', '__rrshift__', '__rshift__', '__rsub__', '__rtruediv__', '__rxor__', '__setattr__', '__setitem__', '__setstate__', '__sizeof__', '__str__', '__sub__', '__subclasshook__', '__truediv__', '__xor__', 'all', 'any', 'argmax', 'argmin', 'argpartition', 'argsort', 'astype', 'base', 'byteswap', 'choose', 'clip', 'compress', 'conj', 'conjugate', 'copy', 'ctypes', 'cumprod', 'cumsum', 'data', 'diagonal', 'dot', 'dtype', 'dump', 'dumps', 'fill', 'flags', 'flat', 'flatten', 'getfield', 'imag', 'item', 'itemset', 'itemsize', 'max', 'mean', 'min', 'nbytes', 'ndim', 'newbyteorder', 'nonzero', 'partition', 'prod', 'ptp', 'put', 'ravel', 'real', 'repeat', 'reshape', 'resize', 'round', 'searchsorted', 'setfield', 'setflags', 'shape', 'size', 'sort', 'squeeze', 'std', 'strides', 'sum', 'swapaxes', 'take', 'tobytes', 'tofile', 'tolist', 'tostring', 'trace', 'transpose', 'var', 'view']\n"
          ],
          "name": "stdout"
        }
      ]
    },
    {
      "cell_type": "markdown",
      "metadata": {
        "id": "fkxB2f57aSCC",
        "colab_type": "text"
      },
      "source": [
        "## Одномерные массивы\n",
        "* числовые операции и нахождение статистик"
      ]
    },
    {
      "cell_type": "code",
      "metadata": {
        "id": "t43hJQPyaSCD",
        "colab_type": "code",
        "colab": {}
      },
      "source": [
        "x = [1, 2, 0, 3, 4]\n",
        "a = np.array(x)"
      ],
      "execution_count": 0,
      "outputs": []
    },
    {
      "cell_type": "code",
      "metadata": {
        "colab_type": "code",
        "id": "SLqJ9iQu8h9J",
        "outputId": "f476636b-6e49-47b3-bfca-fafe388035ef",
        "scrolled": true,
        "colab": {
          "base_uri": "https://localhost:8080/",
          "height": 35
        }
      },
      "source": [
        "# У массивов можно легко и быстро посчитать разные статистики\n",
        "a.std(), a.sum(), a.prod(), a.min(), a.max(), a.mean()"
      ],
      "execution_count": 0,
      "outputs": [
        {
          "output_type": "execute_result",
          "data": {
            "text/plain": [
              "(1.4142135623730951, 10, 0, 0, 4, 2.0)"
            ]
          },
          "metadata": {
            "tags": []
          },
          "execution_count": 16
        }
      ]
    },
    {
      "cell_type": "code",
      "metadata": {
        "id": "VRnGSSDXaSCK",
        "colab_type": "code",
        "outputId": "e4766cd4-b594-4441-cec0-d40c4479e3c3",
        "colab": {}
      },
      "source": [
        "# массивы можно умножать и складывать со скалярами и другими массивами, операции проходят поэлементно\n",
        "a * 2, a / 2, a + 1, a - 1"
      ],
      "execution_count": 0,
      "outputs": [
        {
          "output_type": "execute_result",
          "data": {
            "text/plain": [
              "(array([2, 4, 0, 6, 8]),\n",
              " array([0.5, 1. , 0. , 1.5, 2. ]),\n",
              " array([2, 3, 1, 4, 5]),\n",
              " array([ 0,  1, -1,  2,  3]))"
            ]
          },
          "metadata": {
            "tags": []
          },
          "execution_count": 17
        }
      ]
    },
    {
      "cell_type": "code",
      "metadata": {
        "id": "Hm-9q9XGaSCN",
        "colab_type": "code",
        "outputId": "6540aebb-b2ed-4f7c-e146-a94739bb4bb7",
        "colab": {}
      },
      "source": [
        "a + a, a * a, a / a, a ** 2"
      ],
      "execution_count": 0,
      "outputs": [
        {
          "output_type": "stream",
          "text": [
            "/usr/lib/python3/dist-packages/ipykernel_launcher.py:1: RuntimeWarning: invalid value encountered in true_divide\n",
            "  \"\"\"Entry point for launching an IPython kernel.\n"
          ],
          "name": "stderr"
        },
        {
          "output_type": "execute_result",
          "data": {
            "text/plain": [
              "(array([2, 4, 0, 6, 8]),\n",
              " array([ 1,  4,  0,  9, 16]),\n",
              " array([ 1.,  1., nan,  1.,  1.]),\n",
              " array([ 1,  4,  0,  9, 16]))"
            ]
          },
          "metadata": {
            "tags": []
          },
          "execution_count": 18
        }
      ]
    },
    {
      "cell_type": "code",
      "metadata": {
        "colab_type": "code",
        "id": "29ugcejkHLJs",
        "outputId": "a292434e-eec5-4b77-ac5f-628af98d21d0",
        "colab": {
          "base_uri": "https://localhost:8080/",
          "height": 51
        }
      },
      "source": [
        "# (с листами из питона так не получится, для них сложение означает конкатенацию)\n",
        "print(type(x))\n",
        "print(x)\n",
        "print(x + x)\n",
        "print(x * 2)\n",
        "print(x ** 2)"
      ],
      "execution_count": 0,
      "outputs": [
        {
          "output_type": "stream",
          "text": [
            "<class 'list'>\n",
            "[1, 2, 0, 3, 4]\n",
            "[1, 2, 0, 3, 4, 1, 2, 0, 3, 4]\n",
            "[1, 2, 0, 3, 4, 1, 2, 0, 3, 4]\n"
          ],
          "name": "stdout"
        },
        {
          "output_type": "error",
          "ename": "TypeError",
          "evalue": "unsupported operand type(s) for ** or pow(): 'list' and 'int'",
          "traceback": [
            "\u001b[0;31m---------------------------------------------------------------------------\u001b[0m",
            "\u001b[0;31mTypeError\u001b[0m                                 Traceback (most recent call last)",
            "\u001b[0;32m<ipython-input-19-5204a47c1fd4>\u001b[0m in \u001b[0;36m<module>\u001b[0;34m()\u001b[0m\n\u001b[1;32m      4\u001b[0m \u001b[0mprint\u001b[0m\u001b[0;34m(\u001b[0m\u001b[0mx\u001b[0m \u001b[0;34m+\u001b[0m \u001b[0mx\u001b[0m\u001b[0;34m)\u001b[0m\u001b[0;34m\u001b[0m\u001b[0;34m\u001b[0m\u001b[0m\n\u001b[1;32m      5\u001b[0m \u001b[0mprint\u001b[0m\u001b[0;34m(\u001b[0m\u001b[0mx\u001b[0m \u001b[0;34m*\u001b[0m \u001b[0;36m2\u001b[0m\u001b[0;34m)\u001b[0m\u001b[0;34m\u001b[0m\u001b[0;34m\u001b[0m\u001b[0m\n\u001b[0;32m----> 6\u001b[0;31m \u001b[0mprint\u001b[0m\u001b[0;34m(\u001b[0m\u001b[0mx\u001b[0m \u001b[0;34m**\u001b[0m \u001b[0;36m2\u001b[0m\u001b[0;34m)\u001b[0m\u001b[0;34m\u001b[0m\u001b[0;34m\u001b[0m\u001b[0m\n\u001b[0m",
            "\u001b[0;31mTypeError\u001b[0m: unsupported operand type(s) for ** or pow(): 'list' and 'int'"
          ]
        }
      ]
    },
    {
      "cell_type": "markdown",
      "metadata": {
        "id": "8Fg3G3MgaSCU",
        "colab_type": "text"
      },
      "source": [
        "* Поэлементные операции"
      ]
    },
    {
      "cell_type": "code",
      "metadata": {
        "id": "FCXExpERaSCV",
        "colab_type": "code",
        "outputId": "c17acabf-9a43-41c1-a6ab-7978c434a03e",
        "colab": {}
      },
      "source": [
        "# В numpy есть почти функции, которых хватает для построения почти любого расчета\n",
        "np.exp(a), np.sin(a), np.cos(a), np.round(a) # и много других, лучше просто загуглить, когда вам что-то понадобится"
      ],
      "execution_count": 0,
      "outputs": [
        {
          "output_type": "execute_result",
          "data": {
            "text/plain": [
              "(array([ 2.71828183,  7.3890561 ,  1.        , 20.08553692, 54.59815003]),\n",
              " array([ 0.84147098,  0.90929743,  0.        ,  0.14112001, -0.7568025 ]),\n",
              " array([ 0.54030231, -0.41614684,  1.        , -0.9899925 , -0.65364362]),\n",
              " array([1, 2, 0, 3, 4]))"
            ]
          },
          "metadata": {
            "tags": []
          },
          "execution_count": 20
        }
      ]
    },
    {
      "cell_type": "markdown",
      "metadata": {
        "id": "9-yZuXHFaSCY",
        "colab_type": "text"
      },
      "source": [
        "* сортировка/добавление/удаление элементов массива"
      ]
    },
    {
      "cell_type": "code",
      "metadata": {
        "colab_type": "code",
        "id": "FZ442SUWHLLF",
        "outputId": "5c8257c8-aff5-4224-eb2f-3581e9ed9cbd",
        "colab": {
          "base_uri": "https://localhost:8080/",
          "height": 51
        }
      },
      "source": [
        "b = np.arange(9, -1,-1)\n",
        "print(f'sorted b {np.sort(b)}')\n",
        "print(f'original b {b}')\n",
        "b.sort()\n",
        "print(f'original b after inplace sort {b}')"
      ],
      "execution_count": 0,
      "outputs": [
        {
          "output_type": "stream",
          "text": [
            "sorted b [0 1 2 3 4 5 6 7 8 9]\n",
            "original b [9 8 7 6 5 4 3 2 1 0]\n",
            "original b after inplace sort [0 1 2 3 4 5 6 7 8 9]\n"
          ],
          "name": "stdout"
        }
      ]
    },
    {
      "cell_type": "markdown",
      "metadata": {
        "colab_type": "text",
        "id": "JtLygbXuHLLH"
      },
      "source": [
        "Функции delete, insert и append не меняют массив на месте, а возвращают новый массив, в котором удалены, вставлены в середину или добавлены в конец какие-то элементы.\n"
      ]
    },
    {
      "cell_type": "code",
      "metadata": {
        "colab_type": "code",
        "id": "FR2hIiO6HLLH",
        "outputId": "c5b7567f-7665-4fdd-830c-69e266f38f4d",
        "colab": {
          "base_uri": "https://localhost:8080/",
          "height": 34
        }
      },
      "source": [
        "a = np.arange(10, -1, -1)\n",
        "a = np.delete(a, [5, 7])\n",
        "print(a)"
      ],
      "execution_count": 0,
      "outputs": [
        {
          "output_type": "stream",
          "text": [
            "[10  9  8  7  6  4  2  1  0]\n"
          ],
          "name": "stdout"
        }
      ]
    },
    {
      "cell_type": "code",
      "metadata": {
        "colab_type": "code",
        "id": "TXpfhNR4HLLJ",
        "outputId": "99349b70-d601-4a14-a9fb-70edbe2bfd2a",
        "colab": {
          "base_uri": "https://localhost:8080/",
          "height": 34
        }
      },
      "source": [
        "a = np.insert(a, [2, 3], [-100, -200])\n",
        "print(a)"
      ],
      "execution_count": 0,
      "outputs": [
        {
          "output_type": "stream",
          "text": [
            "[  10    9 -100    8 -200    7    6    4    2    1    0]\n"
          ],
          "name": "stdout"
        }
      ]
    },
    {
      "cell_type": "code",
      "metadata": {
        "colab_type": "code",
        "id": "edUJplmjHLLM",
        "outputId": "1cf09b88-e2fe-4a34-a059-318fdf7fc86d",
        "colab": {
          "base_uri": "https://localhost:8080/",
          "height": 34
        }
      },
      "source": [
        "a = np.append(a, [1, 2, 3])\n",
        "print(a)"
      ],
      "execution_count": 0,
      "outputs": [
        {
          "output_type": "stream",
          "text": [
            "[  10    9 -100    8 -200    7    6    4    2    1    0    1    2    3]\n"
          ],
          "name": "stdout"
        }
      ]
    },
    {
      "cell_type": "markdown",
      "metadata": {
        "id": "9s-fpupQaSCl",
        "colab_type": "text"
      },
      "source": [
        "## Многомерные массивы\n",
        "\n",
        "В случае многомерных массивов работает все, что мы только что попробовали для одномерных, но появляются и новые возможности.\n",
        "\n",
        "* работа с shape массива\n",
        "\n",
        "У многомерны массивов есть понятие осей (их еще можно назвать измерениями). Так как одни и те же данные могут храниться в массивах разной формы, в numpy есть методы, чтобы эту форму менять"
      ]
    },
    {
      "cell_type": "markdown",
      "metadata": {
        "colab_type": "text",
        "id": "4nnvpsEIK01s"
      },
      "source": [
        "`ndarray.shape` — размеры массива, его форма. Это кортеж натуральных чисел, показывающий длину массива по каждой оси. Для матрицы из n строк и m столбов, shape будет (n,m). "
      ]
    },
    {
      "cell_type": "markdown",
      "metadata": {
        "colab_type": "text",
        "id": "aeRIBlpSK01s"
      },
      "source": [
        "В $n$-мерном случае возвращается кортеж размеров по каждой координате."
      ]
    },
    {
      "cell_type": "code",
      "metadata": {
        "id": "k65UpbDEaSCp",
        "colab_type": "code",
        "outputId": "53bd7a7b-b156-41cf-cf15-df0be22b7b67",
        "colab": {
          "base_uri": "https://localhost:8080/",
          "height": 87
        }
      },
      "source": [
        "x = [[1, 2, 3],\n",
        "     [4, 5, 6]]\n",
        "a = np.array(x)\n",
        "print('shape():', a.shape,'\\nndim():', a.ndim, '\\nsize():', a.size, '\\nlen():', len(a))"
      ],
      "execution_count": 0,
      "outputs": [
        {
          "output_type": "stream",
          "text": [
            "shape(): (2, 3) \n",
            "ndim(): 2 \n",
            "size(): 6 \n",
            "len(): 2\n"
          ],
          "name": "stdout"
        }
      ]
    },
    {
      "cell_type": "markdown",
      "metadata": {
        "colab_type": "text",
        "id": "Hq1rOe4FK018"
      },
      "source": [
        "**Вопрос:** \n",
        " >Как связаны элементы кортежа shape, ndim, size?"
      ]
    },
    {
      "cell_type": "markdown",
      "metadata": {
        "colab_type": "text",
        "id": "KQrw6IV-p-S1"
      },
      "source": [
        "**Ответ:**"
      ]
    },
    {
      "cell_type": "markdown",
      "metadata": {
        "colab_type": "text",
        "id": "tUA07amuo1jt"
      },
      "source": [
        "**Вопрос:**\n",
        ">Каковы значения shape, ndim, size, len для картинки RGB 160x100? \n",
        "\n",
        ">А для массива из 1000 таких картинок?"
      ]
    },
    {
      "cell_type": "markdown",
      "metadata": {
        "colab_type": "text",
        "id": "_LuF70JEK018"
      },
      "source": [
        "**Ответ:**"
      ]
    },
    {
      "cell_type": "markdown",
      "metadata": {
        "id": "F7WqCNImaSCx",
        "colab_type": "text"
      },
      "source": [
        "Для смены shape есть методы reshape, flatten, ravel"
      ]
    },
    {
      "cell_type": "code",
      "metadata": {
        "id": "Knm6SxbraSCy",
        "colab_type": "code",
        "outputId": "34627276-dc09-42d9-d431-12436737878d",
        "colab": {
          "base_uri": "https://localhost:8080/",
          "height": 139
        }
      },
      "source": [
        "# reshape\n",
        "print(a.reshape(3, 2))\n",
        "# вместо одной из осей можно просто вставить -1, тогда numpy попытается сам понять, какое там должно быть число\n",
        "print(a.reshape(-1, 2))\n",
        "# если такое число не получится найти, то будет ошибка\n",
        "print(a.reshape(-1))"
      ],
      "execution_count": 0,
      "outputs": [
        {
          "output_type": "stream",
          "text": [
            "[[1 2]\n",
            " [3 4]\n",
            " [5 6]]\n",
            "[[1 2]\n",
            " [3 4]\n",
            " [5 6]]\n",
            "[1 2 3 4 5 6]\n"
          ],
          "name": "stdout"
        }
      ]
    },
    {
      "cell_type": "code",
      "metadata": {
        "id": "H9Ts_O-7aSC1",
        "colab_type": "code",
        "outputId": "8f4de8cd-4cc7-44a6-ebdf-5e9721372a47",
        "colab": {}
      },
      "source": [
        "# flatten и ravel очень похожи, они вытягивают матрицу любой размерности в строчку\n",
        "# Единственно отличие в том, что flatten возвращает копию массива, вытянутую в строчку\n",
        "# а ravel - просто view(т.е. не происходит реального копирования значений)\n",
        "# Пример снизу показывает это отличие\n",
        "flattened = a.flatten()\n",
        "flattened[0] = 1000\n",
        "print(a)\n",
        "raveled = a.ravel()\n",
        "raveled[0] = 1000\n",
        "print(a)"
      ],
      "execution_count": 0,
      "outputs": [
        {
          "output_type": "stream",
          "text": [
            "[[1 2 3]\n",
            " [4 5 6]]\n",
            "[[1000    2    3]\n",
            " [   4    5    6]]\n"
          ],
          "name": "stdout"
        }
      ]
    },
    {
      "cell_type": "markdown",
      "metadata": {
        "id": "mZwb98wiaSC3",
        "colab_type": "text"
      },
      "source": [
        "* Подсчет статистик по осям"
      ]
    },
    {
      "cell_type": "code",
      "metadata": {
        "id": "J1Ue3z9FaSC4",
        "colab_type": "code",
        "outputId": "bb435aa0-02e7-40a8-be90-c55cac72ef38",
        "colab": {}
      },
      "source": [
        "print(a)"
      ],
      "execution_count": 0,
      "outputs": [
        {
          "output_type": "stream",
          "text": [
            "[[1000    2    3]\n",
            " [   4    5    6]]\n"
          ],
          "name": "stdout"
        }
      ]
    },
    {
      "cell_type": "code",
      "metadata": {
        "colab_type": "code",
        "outputId": "f476636b-6e49-47b3-bfca-fafe388035ef",
        "scrolled": true,
        "id": "lMFOHDVTaSC6",
        "colab": {
          "base_uri": "https://localhost:8080/",
          "height": 35
        }
      },
      "source": [
        "# Если не написать axis, то статистика посчиатется по всем массиву\n",
        "# Если axis=1, то для трехмерной матрицы суммирование (например) будет идти по элементам с индексами (i, *, j)\n",
        "# Если axis=(1, 2), то для трехмерной матрицы суммирование (например) будет идти по элементам с индексами (i, *, *)\n",
        "a.std(axis=0), a.sum(axis=0), a.prod(axis=0), a.min(axis=0), a.max(axis=0), a.mean(axis=0)"
      ],
      "execution_count": 0,
      "outputs": [
        {
          "output_type": "execute_result",
          "data": {
            "text/plain": [
              "(array([498. ,   1.5,   1.5]),\n",
              " array([1004,    7,    9]),\n",
              " array([4000,   10,   18]),\n",
              " array([4, 2, 3]),\n",
              " array([1000,    5,    6]),\n",
              " array([502. ,   3.5,   4.5]))"
            ]
          },
          "metadata": {
            "tags": []
          },
          "execution_count": 29
        }
      ]
    },
    {
      "cell_type": "code",
      "metadata": {
        "colab_type": "code",
        "outputId": "f476636b-6e49-47b3-bfca-fafe388035ef",
        "scrolled": true,
        "id": "f8E9einlaSC8",
        "colab": {
          "base_uri": "https://localhost:8080/",
          "height": 35
        }
      },
      "source": [
        "# Посчитаем, итерируясь по 1 оси\n",
        "a.std(axis=1), a.sum(axis=1), a.prod(axis=1), a.min(axis=1), a.max(axis=1), a.mean(axis=1)"
      ],
      "execution_count": 0,
      "outputs": [
        {
          "output_type": "execute_result",
          "data": {
            "text/plain": [
              "(array([470.22618671,   0.81649658]),\n",
              " array([1005,   15]),\n",
              " array([6000,  120]),\n",
              " array([2, 4]),\n",
              " array([1000,    6]),\n",
              " array([335.,   5.]))"
            ]
          },
          "metadata": {
            "tags": []
          },
          "execution_count": 30
        }
      ]
    },
    {
      "cell_type": "markdown",
      "metadata": {
        "id": "IBZg2BrkaSC-",
        "colab_type": "text"
      },
      "source": [
        "## Булевы массивы\n",
        "Булевы массивы не настолько особенны, чтобы выделять их в отдельную категорию, но у них есть несколько интересных свойств, которые нам помогут. Булевы массивы естественно возникают в нашей программе при сравнении каких-то двух массивов в numpy (==,>,>=,<,<=)."
      ]
    },
    {
      "cell_type": "code",
      "metadata": {
        "id": "tTYLjXS-aSC-",
        "colab_type": "code",
        "outputId": "9f99abd5-65a1-4b23-a896-b07b0afb535a",
        "colab": {}
      },
      "source": [
        "a = np.array([1, 2, 3])\n",
        "b = np.array([1, 2, 0])\n",
        "\n",
        "a == b, a > b, a >= b, a < b, a <= b"
      ],
      "execution_count": 0,
      "outputs": [
        {
          "output_type": "execute_result",
          "data": {
            "text/plain": [
              "(array([ True,  True, False]),\n",
              " array([False, False,  True]),\n",
              " array([ True,  True,  True]),\n",
              " array([False, False, False]),\n",
              " array([ True,  True, False]))"
            ]
          },
          "metadata": {
            "tags": []
          },
          "execution_count": 31
        }
      ]
    },
    {
      "cell_type": "markdown",
      "metadata": {
        "id": "zAIjHDPJaSDB",
        "colab_type": "text"
      },
      "source": [
        "Посмотрим, что мы можем делать с такими массивами"
      ]
    },
    {
      "cell_type": "code",
      "metadata": {
        "id": "NDJw37SAaSDC",
        "colab_type": "code",
        "outputId": "23fb05d8-5c8f-4a83-9052-a39d10df7861",
        "colab": {
          "base_uri": "https://localhost:8080/",
          "height": 87
        }
      },
      "source": [
        "a = np.array([True, False, True])\n",
        "b = np.array([False, False, True])\n",
        "\n",
        "# Логические поэлементные операции\n",
        "print(f'a and b {a & b}')\n",
        "print(f'a or b {a | b}')\n",
        "print(f'not a {~a}')\n",
        "print(f'a xor b {a ^ b}')"
      ],
      "execution_count": 0,
      "outputs": [
        {
          "output_type": "stream",
          "text": [
            "a and b [False False  True]\n",
            "a or b [ True False  True]\n",
            "not a [False  True False]\n",
            "a xor b [ True False False]\n"
          ],
          "name": "stdout"
        }
      ]
    },
    {
      "cell_type": "code",
      "metadata": {
        "id": "6cSvHdOpaSDE",
        "colab_type": "code",
        "outputId": "aaab1d3f-ece8-42c8-9466-ebeeb27aa904",
        "colab": {}
      },
      "source": [
        "# Логические операции над всеми элементами массива, в них тоже можно использовать параметр axis\n",
        "a.any(), a.all()"
      ],
      "execution_count": 0,
      "outputs": [
        {
          "output_type": "execute_result",
          "data": {
            "text/plain": [
              "(True, False)"
            ]
          },
          "metadata": {
            "tags": []
          },
          "execution_count": 33
        }
      ]
    },
    {
      "cell_type": "code",
      "metadata": {
        "id": "7XZ8pcHiaSDI",
        "colab_type": "code",
        "outputId": "b54d4f24-10d1-416a-d8ce-802fc1212815",
        "colab": {}
      },
      "source": [
        "# Если к булевому массиву применить функции, предназначенные только для чисел, \n",
        "# то перед применением все True сконвертируются в 1, а False в 0\n",
        "# Здесь также можно добавить параметр axis\n",
        "a.mean(), a.max(), a.sum(), a.std()"
      ],
      "execution_count": 0,
      "outputs": [
        {
          "output_type": "execute_result",
          "data": {
            "text/plain": [
              "(0.6666666666666666, True, 2, 0.4714045207910317)"
            ]
          },
          "metadata": {
            "tags": []
          },
          "execution_count": 34
        }
      ]
    },
    {
      "cell_type": "markdown",
      "metadata": {
        "id": "cak7YP_NaSDL",
        "colab_type": "text"
      },
      "source": [
        "**Задание на булевы массивы:**\n",
        "> Пусть у нас есть два одномерных массива y_pred - предсказанный нашей моделью класс, и y_true - настоящий класс. Посчитайте accuracy нашего классификатора на этих данных (долю случаев, в которых реальный класс совпал с предсказанием)"
      ]
    },
    {
      "cell_type": "code",
      "metadata": {
        "id": "K5g7mFm5aSDL",
        "colab_type": "code",
        "outputId": "1a367c5d-4213-4787-bb84-07bd8b15f02d",
        "colab": {
          "base_uri": "https://localhost:8080/",
          "height": 34
        }
      },
      "source": [
        "y_pred = np.array([1, 2, 1, 2, 1, 1])\n",
        "y_true = np.array([1, 2, 1, 1, 1, 1])\n",
        "\n",
        "(y_pred == y_true).mean()"
      ],
      "execution_count": 0,
      "outputs": [
        {
          "output_type": "execute_result",
          "data": {
            "text/plain": [
              "0.8333333333333334"
            ]
          },
          "metadata": {
            "tags": []
          },
          "execution_count": 42
        }
      ]
    },
    {
      "cell_type": "markdown",
      "metadata": {
        "id": "WUyvxPIXaSDO",
        "colab_type": "text"
      },
      "source": [
        "# Полезные функции из numpy"
      ]
    },
    {
      "cell_type": "markdown",
      "metadata": {
        "id": "jjNg7ndbaSDP",
        "colab_type": "text"
      },
      "source": [
        "Также в numpy есть много полезных методов для получения готовых массивов какого-то вида"
      ]
    },
    {
      "cell_type": "markdown",
      "metadata": {
        "colab_type": "text",
        "id": "-ihFsBq-HLJ3"
      },
      "source": [
        "* Функция **arange** подобна range. Аргументы могут быть с плавающей точкой. Следует избегать ситуаций, когда (конец−начало)/шаг - целое число, потому что в этом случае включение последнего элемента зависит от ошибок округления. Лучше, чтобы конец диапазона был где-то посредине шага."
      ]
    },
    {
      "cell_type": "code",
      "metadata": {
        "colab_type": "code",
        "id": "XyLV0bszHLJ3",
        "outputId": "2cbdc3c7-50c2-4c80-a29a-4a662ba0c28b",
        "colab": {
          "base_uri": "https://localhost:8080/",
          "height": 87
        }
      },
      "source": [
        "# поиграемся с питоновским методом range\n",
        "print(list(range(8)))\n",
        "print(*range(0, 8))\n",
        "print(*[2,5])\n",
        "print(2,5)"
      ],
      "execution_count": 0,
      "outputs": [
        {
          "output_type": "stream",
          "text": [
            "[0, 1, 2, 3, 4, 5, 6, 7]\n",
            "0 1 2 3 4 5 6 7\n",
            "2 5\n",
            "2 5\n"
          ],
          "name": "stdout"
        }
      ]
    },
    {
      "cell_type": "code",
      "metadata": {
        "colab_type": "code",
        "id": "ajsJU8KyHLJ8",
        "outputId": "9a71cc05-13ee-41d4-a811-d42b43bda7ad",
        "colab": {
          "base_uri": "https://localhost:8080/",
          "height": 166
        }
      },
      "source": [
        "# в нем нельзя использовать не целый шаг\n",
        "print(*range(0, 8, 0.5))"
      ],
      "execution_count": 0,
      "outputs": [
        {
          "output_type": "error",
          "ename": "TypeError",
          "evalue": "'float' object cannot be interpreted as an integer",
          "traceback": [
            "\u001b[0;31m---------------------------------------------------------------------------\u001b[0m",
            "\u001b[0;31mTypeError\u001b[0m                                 Traceback (most recent call last)",
            "\u001b[0;32m<ipython-input-37-dd5a2c3993fe>\u001b[0m in \u001b[0;36m<module>\u001b[0;34m()\u001b[0m\n\u001b[1;32m      1\u001b[0m \u001b[0;31m# в нем нельзя использовать не целый шаг\u001b[0m\u001b[0;34m\u001b[0m\u001b[0;34m\u001b[0m\u001b[0;34m\u001b[0m\u001b[0m\n\u001b[0;32m----> 2\u001b[0;31m \u001b[0mprint\u001b[0m\u001b[0;34m(\u001b[0m\u001b[0;34m*\u001b[0m\u001b[0mrange\u001b[0m\u001b[0;34m(\u001b[0m\u001b[0;36m0\u001b[0m\u001b[0;34m,\u001b[0m \u001b[0;36m8\u001b[0m\u001b[0;34m,\u001b[0m \u001b[0;36m0.5\u001b[0m\u001b[0;34m)\u001b[0m\u001b[0;34m)\u001b[0m\u001b[0;34m\u001b[0m\u001b[0;34m\u001b[0m\u001b[0m\n\u001b[0m",
            "\u001b[0;31mTypeError\u001b[0m: 'float' object cannot be interpreted as an integer"
          ]
        }
      ]
    },
    {
      "cell_type": "code",
      "metadata": {
        "colab_type": "code",
        "id": "t8qoTrmZHLJ_",
        "outputId": "73fb5eb6-0c4d-4ea9-a7b2-5e39306ca6de",
        "colab": {
          "base_uri": "https://localhost:8080/",
          "height": 51
        }
      },
      "source": [
        "# перейдем к arange\n",
        "# здесь не целый шаг использовать уже можно\n",
        "print(type(np.arange(0, 8)))\n",
        "print(np.arange(0, -8, -0.5))"
      ],
      "execution_count": 0,
      "outputs": [
        {
          "output_type": "stream",
          "text": [
            "<class 'numpy.ndarray'>\n",
            "[ 0.  -0.5 -1.  -1.5 -2.  -2.5 -3.  -3.5 -4.  -4.5 -5.  -5.5 -6.  -6.5\n",
            " -7.  -7.5]\n"
          ],
          "name": "stdout"
        }
      ]
    },
    {
      "cell_type": "code",
      "metadata": {
        "id": "yzlqxNrXaSDX",
        "colab_type": "code",
        "outputId": "a5aeb796-65f7-4dad-cd95-40bc7faf428c",
        "colab": {}
      },
      "source": [
        "print(np.arange(0, 8, 0.5))"
      ],
      "execution_count": 0,
      "outputs": [
        {
          "output_type": "stream",
          "text": [
            "[0.  0.5 1.  1.5 2.  2.5 3.  3.5 4.  4.5 5.  5.5 6.  6.5 7.  7.5]\n"
          ],
          "name": "stdout"
        }
      ]
    },
    {
      "cell_type": "markdown",
      "metadata": {
        "colab_type": "text",
        "id": "ouxSb-QvHLKB"
      },
      "source": [
        "Но самое главное:"
      ]
    },
    {
      "cell_type": "code",
      "metadata": {
        "colab_type": "code",
        "id": "aaFIwlCqHLKC",
        "outputId": "b7fdbeb6-c3b1-4dbe-a6f9-d7081d012484",
        "colab": {
          "base_uri": "https://localhost:8080/",
          "height": 17475
        }
      },
      "source": [
        "%time np.arange(0, 50000000)\n",
        "%time list(range(0, 50000000))\n",
        "%time range(0, 50000000)"
      ],
      "execution_count": 0,
      "outputs": [
        {
          "output_type": "stream",
          "text": [
            "CPU times: user 72.6 ms, sys: 105 ms, total: 178 ms\n",
            "Wall time: 177 ms\n",
            "CPU times: user 661 ms, sys: 438 ms, total: 1.1 s\n",
            "Wall time: 1.09 s\n",
            "CPU times: user 3 µs, sys: 1e+03 ns, total: 4 µs\n",
            "Wall time: 6.2 µs\n"
          ],
          "name": "stdout"
        },
        {
          "output_type": "execute_result",
          "data": {
            "text/plain": [
              "range(0, 50000000)"
            ]
          },
          "metadata": {
            "tags": []
          },
          "execution_count": 40
        }
      ]
    },
    {
      "cell_type": "markdown",
      "metadata": {
        "id": "94th67WKaSDb",
        "colab_type": "text"
      },
      "source": [
        "**Вопрос на знание питона**: почему просто range занял 12 мкс, даже меньше, чем numpy?"
      ]
    },
    {
      "cell_type": "markdown",
      "metadata": {
        "colab_type": "text",
        "id": "r_i9uX70HLKF"
      },
      "source": [
        "* Еще один метод, похожий на arange это **linspace**. С его помощью можно создавать последовательности чисел с постоянным шагом. Начало и конец диапазона включаются; последний аргумент - число точек."
      ]
    },
    {
      "cell_type": "code",
      "metadata": {
        "colab_type": "code",
        "id": "1R3y2u7kHLKF",
        "outputId": "7cee796a-63d8-496a-853a-a51b3b6f8ca7",
        "colab": {
          "base_uri": "https://localhost:8080/",
          "height": 121
        }
      },
      "source": [
        "%time a = np.linspace(0, 8, 8)\n",
        "%time print(a)"
      ],
      "execution_count": 0,
      "outputs": [
        {
          "output_type": "stream",
          "text": [
            "CPU times: user 151 µs, sys: 0 ns, total: 151 µs\n",
            "Wall time: 115 µs\n",
            "[0.         1.14285714 2.28571429 3.42857143 4.57142857 5.71428571\n",
            " 6.85714286 8.        ]\n",
            "CPU times: user 315 µs, sys: 0 ns, total: 315 µs\n",
            "Wall time: 243 µs\n"
          ],
          "name": "stdout"
        }
      ]
    },
    {
      "cell_type": "markdown",
      "metadata": {
        "colab_type": "text",
        "id": "7pykEjWGHLKI"
      },
      "source": [
        "* **Быстродействие**. Массивы, разумеется, можно использовать в `for` циклах. Но при этом теряется главное преимущество `numpy` - быстродействие. Всегда, когда это возможно, лучше использовать операции, определенные в numpy."
      ]
    },
    {
      "cell_type": "code",
      "metadata": {
        "colab_type": "code",
        "id": "XOcvgxP8HLKI",
        "outputId": "e309527a-d73b-4097-b32a-6df9a5cbdf9d",
        "colab": {
          "base_uri": "https://localhost:8080/",
          "height": 190
        }
      },
      "source": [
        "%%time \n",
        "res = a + a"
      ],
      "execution_count": 0,
      "outputs": [
        {
          "output_type": "stream",
          "text": [
            "CPU times: user 15 µs, sys: 0 ns, total: 15 µs\n",
            "Wall time: 18.1 µs\n"
          ],
          "name": "stdout"
        }
      ]
    },
    {
      "cell_type": "code",
      "metadata": {
        "colab_type": "code",
        "id": "33yWW6tzHLKK",
        "outputId": "5af65bc5-b350-4d95-997c-17a7903b702a",
        "colab": {
          "base_uri": "https://localhost:8080/",
          "height": 86
        }
      },
      "source": [
        "%%time\n",
        "res = []\n",
        "for value in a:\n",
        "    res = value + value"
      ],
      "execution_count": 0,
      "outputs": [
        {
          "output_type": "stream",
          "text": [
            "CPU times: user 33 µs, sys: 15 µs, total: 48 µs\n",
            "Wall time: 56.7 µs\n"
          ],
          "name": "stdout"
        }
      ]
    },
    {
      "cell_type": "markdown",
      "metadata": {
        "id": "XWLsgd8uaSDj",
        "colab_type": "text"
      },
      "source": [
        "(в совсем простых операциях, таких как сложение двух чисел, питон не уступает в скорости C++ или C, а поэтому использование numpy не дает ввыигрыша, но в более тяжелых вычислениях разница становится колоссальнной)"
      ]
    },
    {
      "cell_type": "markdown",
      "metadata": {
        "colab_type": "text",
        "id": "rXe3ZDApHLL-"
      },
      "source": [
        "* Еще один способ создавать стандартные массивы - __`numpy.eye(N, M=None, ...)`__, __`numpy.zeros(shape, ...)`__, __`numpy.ones(shape, ...)`__.\n",
        "\n",
        "Первая функция создает единичную матрицу размера $N \\times M$; если $M$ не задан, то $M = N$. \n",
        "\n",
        "Вторая и третья функции создают матрицы, состоящие целиком из нулей или единиц соответственно. В качестве первого аргумента необходимо задать размерность массива — кортеж целых чисел. В двумерном случае это набор из двух чисел: количество строк и столбцов матрицы.\n",
        "\n",
        "__Примеры:__"
      ]
    },
    {
      "cell_type": "code",
      "metadata": {
        "colab_type": "code",
        "id": "2j4wk0IJHLL_",
        "outputId": "bff268e8-5b08-46ce-80c4-b808a9053bf9",
        "colab": {
          "base_uri": "https://localhost:8080/",
          "height": 122
        }
      },
      "source": [
        "b = np.eye(5)\n",
        "print(\"Единичная матрица:\\n\", b)"
      ],
      "execution_count": 0,
      "outputs": [
        {
          "output_type": "stream",
          "text": [
            "Единичная матрица:\n",
            " [[1. 0. 0. 0. 0.]\n",
            " [0. 1. 0. 0. 0.]\n",
            " [0. 0. 1. 0. 0.]\n",
            " [0. 0. 0. 1. 0.]\n",
            " [0. 0. 0. 0. 1.]]\n"
          ],
          "name": "stdout"
        }
      ]
    },
    {
      "cell_type": "code",
      "metadata": {
        "colab_type": "code",
        "id": "wskPIk0pHLME",
        "outputId": "224bd2a8-7ea8-4000-ecfd-730007617dcb",
        "colab": {
          "base_uri": "https://localhost:8080/",
          "height": 156
        }
      },
      "source": [
        "c = np.ones((7, 5))\n",
        "print(\"Матрица, состоящая из одних единиц:\\n\", c)"
      ],
      "execution_count": 0,
      "outputs": [
        {
          "output_type": "stream",
          "text": [
            "Матрица, состоящая из одних единиц:\n",
            " [[1. 1. 1. 1. 1.]\n",
            " [1. 1. 1. 1. 1.]\n",
            " [1. 1. 1. 1. 1.]\n",
            " [1. 1. 1. 1. 1.]\n",
            " [1. 1. 1. 1. 1.]\n",
            " [1. 1. 1. 1. 1.]\n",
            " [1. 1. 1. 1. 1.]]\n"
          ],
          "name": "stdout"
        }
      ]
    },
    {
      "cell_type": "markdown",
      "metadata": {
        "colab_type": "text",
        "id": "p_VsgozbHLMF"
      },
      "source": [
        "__Обратите внимание: размерность массива задается не двумя аргументами функции, а одним — кортежем!__ \n",
        "\n",
        "Вот так —  __`np.ones(7, 5)`__ — создать массив не получится, так как функции в качестве параметра `shape` передается `7`, а не кортеж `(7, 5)`."
      ]
    },
    {
      "cell_type": "markdown",
      "metadata": {
        "id": "_EWNyOMzBHWd",
        "colab_type": "text"
      },
      "source": [
        "**Задание на создание матриц:**\n",
        "> Создайте матрицу размера 4х5, у которой все элементы стоящие на диагонали равны -1, а все остальные равны 0.5"
      ]
    },
    {
      "cell_type": "code",
      "metadata": {
        "id": "lT-TsytjBGky",
        "colab_type": "code",
        "colab": {}
      },
      "source": [
        "<ваш код здесь>"
      ],
      "execution_count": 0,
      "outputs": []
    },
    {
      "cell_type": "markdown",
      "metadata": {
        "colab_type": "text",
        "id": "ULmaIAMTHLKP"
      },
      "source": [
        "# Slices, Fancy Indexing and stuff"
      ]
    },
    {
      "cell_type": "markdown",
      "metadata": {
        "id": "Aax0h2xWaSDp",
        "colab_type": "text"
      },
      "source": [
        "* Обращение по слайсам\n",
        "\n",
        "Так же как и для обычных листов, для numpy массивов доступно обращение по слайсам (a[2:5:2], 2:5:2 - слайс). Но есть одно отличие. В numpy можно писать несколько слайсов через запятую, чтобы сделать _срез_ сразу по нескольким осям - a[2:5, 1:4]. "
      ]
    },
    {
      "cell_type": "code",
      "metadata": {
        "id": "QwEvyLoNaSDq",
        "colab_type": "code",
        "outputId": "5762a8ca-abdc-47a2-9492-58ad4861eedb",
        "colab": {}
      },
      "source": [
        "a = np.array([\n",
        "                [1, 2, 3, 4],\n",
        "                [5, 6, 7, 8],\n",
        "                [9, 10, 11, 12]\n",
        "             ])\n",
        "print(a)\n",
        "print(a[0:2, 1:3])"
      ],
      "execution_count": 0,
      "outputs": [
        {
          "output_type": "stream",
          "text": [
            "[[ 1  2  3  4]\n",
            " [ 5  6  7  8]\n",
            " [ 9 10 11 12]]\n",
            "[[2 3]\n",
            " [6 7]]\n"
          ],
          "name": "stdout"
        }
      ]
    },
    {
      "cell_type": "markdown",
      "metadata": {
        "colab_type": "text",
        "id": "KdzPmxUaHLL5"
      },
      "source": [
        "* Обращение по слайсам с добавлением новых осей. \n",
        "\n",
        "В NumPy к размерностям объектов можно добавлять фиктивные оси с помощью np.newaxis. Для того, чтобы понять, как это сделать, рассмотрим пример:"
      ]
    },
    {
      "cell_type": "code",
      "metadata": {
        "colab_type": "code",
        "id": "-hUON9TIHLL5",
        "outputId": "b6f760ea-048a-4d8d-8a89-7e9933e21e19",
        "colab": {
          "base_uri": "https://localhost:8080/",
          "height": 86
        }
      },
      "source": [
        "print('Вектор a с newaxis --> вектор-строка:\\n', a[np.newaxis, :])\n",
        "print('Полученная размерность:', a[np.newaxis, :].shape)"
      ],
      "execution_count": 0,
      "outputs": [
        {
          "output_type": "stream",
          "text": [
            "Вектор a с newaxis --> вектор-строка:\n",
            " [[[ 1  2  3  4]\n",
            "  [ 5  6  7  8]\n",
            "  [ 9 10 11 12]]]\n",
            "Полученная размерность: (1, 3, 4)\n"
          ],
          "name": "stdout"
        }
      ]
    },
    {
      "cell_type": "code",
      "metadata": {
        "colab_type": "code",
        "id": "RpftbYJQHLL6",
        "outputId": "ddd5207f-1570-4723-db12-53dac7dce0de",
        "colab": {
          "base_uri": "https://localhost:8080/",
          "height": 104
        }
      },
      "source": [
        "print('Вектор a с newaxis --> вектор-столбец:\\n', a[:, np.newaxis])\n",
        "print('Полученная размерность:', a[:, np.newaxis].shape)"
      ],
      "execution_count": 0,
      "outputs": [
        {
          "output_type": "stream",
          "text": [
            "Вектор a с newaxis --> вектор-столбец:\n",
            " [[[ 1  2  3  4]]\n",
            "\n",
            " [[ 5  6  7  8]]\n",
            "\n",
            " [[ 9 10 11 12]]]\n",
            "Полученная размерность: (3, 1, 4)\n"
          ],
          "name": "stdout"
        }
      ]
    },
    {
      "cell_type": "markdown",
      "metadata": {
        "id": "gqyenIEhaSDy",
        "colab_type": "text"
      },
      "source": [
        "* Обращение по индексам\n",
        "\n",
        "в numpy можно обращаться сразу к нескольким элементам массива, которые не идут подряд, передав в качестве аргумента list или numpy array индексов"
      ]
    },
    {
      "cell_type": "code",
      "metadata": {
        "id": "aN79z1QtaSDz",
        "colab_type": "code",
        "outputId": "fc242f5e-9a53-42d5-d116-2cb0483cb6a2",
        "colab": {}
      },
      "source": [
        "a = np.array([0, 1, 2, 3])\n",
        "a[0], a[[0, 1, 1, 2]], a[np.array([0, 1, 1, 2])]"
      ],
      "execution_count": 0,
      "outputs": [
        {
          "output_type": "execute_result",
          "data": {
            "text/plain": [
              "(0, array([0, 1, 1, 2]), array([0, 1, 1, 2]))"
            ]
          },
          "metadata": {
            "tags": []
          },
          "execution_count": 49
        }
      ]
    },
    {
      "cell_type": "code",
      "metadata": {
        "id": "a9aN9JaLaSD1",
        "colab_type": "code",
        "outputId": "c8dafae0-f3b6-43a9-9464-e1363832d163",
        "colab": {}
      },
      "source": [
        "# многомерный случай\n",
        "z = np.array([[1,2], [3,4]])\n",
        "print(z)\n",
        "# можно передать лист с индексами для каждого из измерений. \n",
        "# В данном случае выберутся элементы с индексами (0, 0) и (1, 1). Результат - одномерный массив\n",
        "print(z[[0,1], [0,1]])"
      ],
      "execution_count": 0,
      "outputs": [
        {
          "output_type": "stream",
          "text": [
            "[[1 2]\n",
            " [3 4]]\n",
            "[1 4]\n"
          ],
          "name": "stdout"
        }
      ]
    },
    {
      "cell_type": "markdown",
      "metadata": {
        "id": "nb8G_LUdaSD3",
        "colab_type": "text"
      },
      "source": [
        "* Обращение по булевому массиву"
      ]
    },
    {
      "cell_type": "code",
      "metadata": {
        "colab_type": "code",
        "id": "VP7UZPrnHLKS",
        "outputId": "510b166a-bdc5-4247-9f35-fb5d9cb06d6c",
        "colab": {
          "base_uri": "https://localhost:8080/",
          "height": 34
        }
      },
      "source": [
        "print(a)\n",
        "print(a[[True, False, True, True]])\n",
        "# Как мы уже выяснили, в результате сравнения numpy массивов получается булев массив, \n",
        "# его очень удобно использовать, чтобы обращаться к элементам, удовлетворяющим какому-то условию\n",
        "print(a[a > 1])"
      ],
      "execution_count": 0,
      "outputs": [
        {
          "output_type": "stream",
          "text": [
            "[0 1 2 3]\n",
            "[0 2 3]\n",
            "[2 3]\n"
          ],
          "name": "stdout"
        }
      ]
    },
    {
      "cell_type": "markdown",
      "metadata": {
        "colab_type": "text",
        "id": "SDRu54bhaSD5"
      },
      "source": [
        "В NumPy к размерностям объектов можно добавлять фиктивные оси с помощью np.newaxis. Для того, чтобы понять, как это сделать, рассмотрим пример:"
      ]
    },
    {
      "cell_type": "code",
      "metadata": {
        "colab_type": "code",
        "outputId": "b6f760ea-048a-4d8d-8a89-7e9933e21e19",
        "id": "kk0otQblaSD7",
        "colab": {
          "base_uri": "https://localhost:8080/",
          "height": 86
        }
      },
      "source": [
        "print('Вектор a с newaxis --> вектор-строка:\\n', a[np.newaxis, :])\n",
        "print('Полученная размерность:', a[np.newaxis, :].shape)"
      ],
      "execution_count": 0,
      "outputs": [
        {
          "output_type": "stream",
          "text": [
            "Вектор a с newaxis --> вектор-строка:\n",
            " [[0 1 2 3]]\n",
            "Полученная размерность: (1, 4)\n"
          ],
          "name": "stdout"
        }
      ]
    },
    {
      "cell_type": "code",
      "metadata": {
        "colab_type": "code",
        "outputId": "ddd5207f-1570-4723-db12-53dac7dce0de",
        "id": "vNqRyCAYaSD9",
        "colab": {
          "base_uri": "https://localhost:8080/",
          "height": 104
        }
      },
      "source": [
        "print('Вектор a с newaxis --> вектор-столбец:\\n', a[:, np.newaxis])\n",
        "print('Полученная размерность:', a[:, np.newaxis].shape)"
      ],
      "execution_count": 0,
      "outputs": [
        {
          "output_type": "stream",
          "text": [
            "Вектор a с newaxis --> вектор-столбец:\n",
            " [[0]\n",
            " [1]\n",
            " [2]\n",
            " [3]]\n",
            "Полученная размерность: (4, 1)\n"
          ],
          "name": "stdout"
        }
      ]
    },
    {
      "cell_type": "markdown",
      "metadata": {
        "id": "sl_dxkHfaSEB",
        "colab_type": "text"
      },
      "source": [
        "* Присвоение значений во view\n",
        "\n",
        "Когда мы используем слайсы для выборки каких-то элементов массива, нам возвращается не новый массив с этими элементами, а просто объект view, который ссылается на какие-то ячейки в реальном массиве. Поэтому мы можем сделать так:"
      ]
    },
    {
      "cell_type": "code",
      "metadata": {
        "id": "b_Li8FGLaSEB",
        "colab_type": "code",
        "outputId": "dd8b9cfa-1814-4dbe-9422-4ea657de9507",
        "colab": {}
      },
      "source": [
        "a = np.array([1, 2, 3])\n",
        "b = a[0:2]\n",
        "print(b)\n",
        "b[0] = 100\n",
        "print(b)\n",
        "print(a)"
      ],
      "execution_count": 0,
      "outputs": [
        {
          "output_type": "stream",
          "text": [
            "[1 2]\n",
            "[100   2]\n",
            "[100   2   3]\n"
          ],
          "name": "stdout"
        }
      ]
    },
    {
      "cell_type": "markdown",
      "metadata": {
        "id": "PfdoN87ZaSED",
        "colab_type": "text"
      },
      "source": [
        "Изменив элемент во view b, мы поменяли элемент и в массиве а. Если же обратиться по списку координат или булевому массиву, так не получится"
      ]
    },
    {
      "cell_type": "code",
      "metadata": {
        "id": "brYHL8v4aSED",
        "colab_type": "code",
        "outputId": "b4b93c29-269e-432e-9dd2-ab4c7559103b",
        "colab": {}
      },
      "source": [
        "a = np.array([1, 2, 3])\n",
        "b = a[[0, 1]]\n",
        "print(b)\n",
        "b[0] = 100\n",
        "print(b)\n",
        "print(a)"
      ],
      "execution_count": 0,
      "outputs": [
        {
          "output_type": "stream",
          "text": [
            "[1 2]\n",
            "[100   2]\n",
            "[1 2 3]\n"
          ],
          "name": "stdout"
        }
      ]
    },
    {
      "cell_type": "code",
      "metadata": {
        "id": "x-PVgDYAaSEF",
        "colab_type": "code",
        "outputId": "bdfcc80b-9ed4-446f-f2d1-e5c8d8f31cf9",
        "colab": {}
      },
      "source": [
        "a = np.array([1, 2, 3])\n",
        "b = a[[True, True, False]]\n",
        "print(b)\n",
        "b[0] = 100\n",
        "print(b)\n",
        "print(a)"
      ],
      "execution_count": 0,
      "outputs": [
        {
          "output_type": "stream",
          "text": [
            "[1 2]\n",
            "[100   2]\n",
            "[1 2 3]\n"
          ],
          "name": "stdout"
        }
      ]
    },
    {
      "cell_type": "markdown",
      "metadata": {
        "id": "TR5bSBAsaSEH",
        "colab_type": "text"
      },
      "source": [
        "Означает ли это, что не сработают выражения вида:\n",
        "> a[[0, 1]] = 100\n",
        "\n",
        "> a[[True, True, False]] = 100\n",
        "\n",
        "Присваивания сработают, потому что в данном случае копия массива создаваться не будет, вместо этого вызовется магический метод питона \\_\\_setitem\\_\\_. Очень удобная особенность питона, про которую не стоит забывать."
      ]
    },
    {
      "cell_type": "code",
      "metadata": {
        "id": "dqLwgnxYaSEH",
        "colab_type": "code",
        "outputId": "af8db2da-395b-4f26-a9e7-ce1413aa6670",
        "colab": {}
      },
      "source": [
        "a = np.array([1, 2, 3])\n",
        "a[[True, True, False]] = 100\n",
        "print(a)"
      ],
      "execution_count": 0,
      "outputs": [
        {
          "output_type": "stream",
          "text": [
            "[100 100   3]\n"
          ],
          "name": "stdout"
        }
      ]
    },
    {
      "cell_type": "markdown",
      "metadata": {
        "id": "4px-96mmaSEK",
        "colab_type": "text"
      },
      "source": [
        "Если же слева будет не просто обращение по индексу, а двойное обращение по индексу, то питону придется вычислить значение \n",
        "> a[[True, True, False]]\n",
        "\n",
        "тем самым создав копию, и только потом взять у него нулевой элемент. Поэтому 0 присвоится в массив-копию, который тут же уничтожится."
      ]
    },
    {
      "cell_type": "code",
      "metadata": {
        "id": "HUryf9tWaSEL",
        "colab_type": "code",
        "outputId": "c17d0b11-192c-49b7-fd06-1ba2705680ca",
        "colab": {}
      },
      "source": [
        "a = np.array([1, 2, 3])\n",
        "a[[True, True, False]][0] = 100\n",
        "print(a)"
      ],
      "execution_count": 0,
      "outputs": [
        {
          "output_type": "stream",
          "text": [
            "[1 2 3]\n"
          ],
          "name": "stdout"
        }
      ]
    },
    {
      "cell_type": "markdown",
      "metadata": {
        "id": "qPgkWQN2CMOf",
        "colab_type": "text"
      },
      "source": [
        "**Задание на slicing:**\n",
        "> Создайте матрицу 4х4, у которой элементы i=4-j равны 1, а остальные - нулю"
      ]
    },
    {
      "cell_type": "code",
      "metadata": {
        "id": "1v0h7fi6CcN2",
        "colab_type": "code",
        "colab": {}
      },
      "source": [
        ""
      ],
      "execution_count": 0,
      "outputs": []
    },
    {
      "cell_type": "markdown",
      "metadata": {
        "id": "AM3HRmx5aSEM",
        "colab_type": "text"
      },
      "source": [
        "# Линейная Алгебра\n",
        "\n",
        "До этого мы рассматривали разные операции numpy, которые не связаны напрямую с линейной алгеброй. Пришло время это изменить)"
      ]
    },
    {
      "cell_type": "markdown",
      "metadata": {
        "colab_type": "text",
        "id": "WfqfXImaHLKg"
      },
      "source": [
        "* Скалярное произведение \n",
        "$a~\\cdot~b = (a_1, a_2, .., a_n) \\cdot (b_1, b_2, .., b_n) = a_1b_1 + a_2b_2 + .. + b_nb_n = \\sum_{i=1}^{n} a_ib_i$:\n"
      ]
    },
    {
      "cell_type": "code",
      "metadata": {
        "colab_type": "code",
        "id": "47c57Q62EQmw",
        "outputId": "105e904f-b3d6-42e5-ff3a-62deb0c0fd5b",
        "colab": {
          "base_uri": "https://localhost:8080/",
          "height": 34
        }
      },
      "source": [
        "a = np.array([1, 2, 3])\n",
        "b = np.array([2, 3, 4])\n",
        "print(a,b)"
      ],
      "execution_count": 0,
      "outputs": [
        {
          "output_type": "stream",
          "text": [
            "[1 2 3] [2 3 4]\n"
          ],
          "name": "stdout"
        }
      ]
    },
    {
      "cell_type": "code",
      "metadata": {
        "colab_type": "code",
        "id": "YXx9wDsyHLKi",
        "outputId": "fc33aa7f-3e35-4f87-e10d-0fdbab58afc8",
        "colab": {
          "base_uri": "https://localhost:8080/",
          "height": 34
        }
      },
      "source": [
        "print(np.dot(a, b))"
      ],
      "execution_count": 0,
      "outputs": [
        {
          "output_type": "stream",
          "text": [
            "20\n"
          ],
          "name": "stdout"
        }
      ]
    },
    {
      "cell_type": "code",
      "metadata": {
        "colab_type": "code",
        "id": "JY03g_bEHLLe",
        "colab": {}
      },
      "source": [
        "* Векторы и матрицы"
      ],
      "execution_count": 0,
      "outputs": []
    },
    {
      "cell_type": "code",
      "metadata": {
        "id": "HKDz1cB9aSEU",
        "colab_type": "code",
        "colab": {}
      },
      "source": [
        "b = np.array([\n",
        "    [1, 2, 3],\n",
        "    [4, 5, 6]\n",
        "])"
      ],
      "execution_count": 0,
      "outputs": []
    },
    {
      "cell_type": "markdown",
      "metadata": {
        "colab_type": "text",
        "id": "FFiel6s3HLLp"
      },
      "source": [
        "Наш 2-мерный массив __b__, также его можно назвать матрицей, имеет 2 строки и 3 столбца.\n",
        "То есть наша матрица состоит из 2 вектор-строк:"
      ]
    },
    {
      "cell_type": "code",
      "metadata": {
        "colab_type": "code",
        "id": "LxQ6e7GCHLLq",
        "outputId": "1f3a3b5b-4df0-4a1f-a375-4102e5de9684",
        "colab": {
          "base_uri": "https://localhost:8080/",
          "height": 86
        }
      },
      "source": [
        "print(b)\n",
        "b[0:2,0:1]"
      ],
      "execution_count": 0,
      "outputs": [
        {
          "output_type": "stream",
          "text": [
            "[[1 2 3]\n",
            " [4 5 6]]\n"
          ],
          "name": "stdout"
        },
        {
          "output_type": "execute_result",
          "data": {
            "text/plain": [
              "array([[1],\n",
              "       [4]])"
            ]
          },
          "metadata": {
            "tags": []
          },
          "execution_count": 62
        }
      ]
    },
    {
      "cell_type": "code",
      "metadata": {
        "colab_type": "code",
        "id": "q1V4QuJvHLLs",
        "outputId": "a1db4bfd-a61b-448d-9508-fbc8ae525c44",
        "colab": {
          "base_uri": "https://localhost:8080/",
          "height": 34
        }
      },
      "source": [
        "b[1:2]"
      ],
      "execution_count": 0,
      "outputs": [
        {
          "output_type": "execute_result",
          "data": {
            "text/plain": [
              "array([[4, 5, 6]])"
            ]
          },
          "metadata": {
            "tags": []
          },
          "execution_count": 63
        }
      ]
    },
    {
      "cell_type": "markdown",
      "metadata": {
        "colab_type": "text",
        "id": "UX0T5yRzHLLv"
      },
      "source": [
        "Обычно в линейной алгебре под любым вектором подразумевается вектор-столбец. Наша матрица содержит 3 вектор-стобца:"
      ]
    },
    {
      "cell_type": "code",
      "metadata": {
        "colab_type": "code",
        "id": "0kWqkkhmHLLv",
        "outputId": "3f9c8c75-0367-4753-9e2d-d5268b411fef",
        "colab": {
          "base_uri": "https://localhost:8080/",
          "height": 51
        }
      },
      "source": [
        "b[:, 0:1]"
      ],
      "execution_count": 0,
      "outputs": [
        {
          "output_type": "execute_result",
          "data": {
            "text/plain": [
              "array([[1],\n",
              "       [4]])"
            ]
          },
          "metadata": {
            "tags": []
          },
          "execution_count": 64
        }
      ]
    },
    {
      "cell_type": "code",
      "metadata": {
        "colab_type": "code",
        "id": "CxUwuDqUHLLx",
        "outputId": "0c5b15f6-4094-45ae-89ee-1a7c7168b2b5",
        "colab": {
          "base_uri": "https://localhost:8080/",
          "height": 51
        }
      },
      "source": [
        "b[:, 1:2]"
      ],
      "execution_count": 0,
      "outputs": [
        {
          "output_type": "execute_result",
          "data": {
            "text/plain": [
              "array([[2],\n",
              "       [5]])"
            ]
          },
          "metadata": {
            "tags": []
          },
          "execution_count": 65
        }
      ]
    },
    {
      "cell_type": "code",
      "metadata": {
        "colab_type": "code",
        "id": "ulY47VBJHLL1",
        "outputId": "384c2e4f-c7da-41e2-c384-480d98209c7c",
        "colab": {
          "base_uri": "https://localhost:8080/",
          "height": 51
        }
      },
      "source": [
        "b[:, 2:3]"
      ],
      "execution_count": 0,
      "outputs": [
        {
          "output_type": "execute_result",
          "data": {
            "text/plain": [
              "array([[3],\n",
              "       [6]])"
            ]
          },
          "metadata": {
            "tags": []
          },
          "execution_count": 66
        }
      ]
    },
    {
      "cell_type": "markdown",
      "metadata": {
        "colab_type": "text",
        "id": "j5YLEr1YHLMe"
      },
      "source": [
        "## Операции с матрицами"
      ]
    },
    {
      "cell_type": "code",
      "metadata": {
        "colab_type": "code",
        "id": "LuHvQIYYHLMe",
        "colab": {}
      },
      "source": [
        "A = np.array([[1, 0], [0, 1]])\n",
        "B = np.array([[4, 1], [2, 2]])"
      ],
      "execution_count": 0,
      "outputs": []
    },
    {
      "cell_type": "markdown",
      "metadata": {
        "colab_type": "text",
        "id": "Y7CJCuL5HLMl"
      },
      "source": [
        "__Напоминание теории.__ __Транспонированной матрицей__ $A^{T}$ называется матрица, полученная из исходной матрицы $A$ заменой строк на столбцы. Формально: элементы матрицы $A^{T}$ определяются как $a^{T}_{ij} = a_{ji}$, где $a^{T}_{ij}$ — элемент матрицы $A^{T}$, стоящий на пересечении строки с номером $i$ и столбца с номером $j$.\n",
        "\n",
        "В `NumPy` транспонированная матрица вычисляется с помощью функции __`numpy.transpose()`__ или с помощью _метода_ __`array.T`__, где __`array`__ — нужный двумерный массив."
      ]
    },
    {
      "cell_type": "code",
      "metadata": {
        "colab_type": "code",
        "id": "Q6G6FzQ3HLMl",
        "colab": {}
      },
      "source": [
        "a = np.array([[1, 2], [3, 4]])\n",
        "b = np.transpose(a)\n",
        "c = a.T"
      ],
      "execution_count": 0,
      "outputs": []
    },
    {
      "cell_type": "code",
      "metadata": {
        "colab_type": "code",
        "id": "_dBqecA2HLMn",
        "outputId": "72036b75-e0ca-431b-fb08-3f777b03c990",
        "colab": {
          "base_uri": "https://localhost:8080/",
          "height": 173
        }
      },
      "source": [
        "print(\"Матрица:\\n\", a)\n",
        "print(\"Транспонирование функцией:\\n\", b)\n",
        "print(\"Транспонирование методом:\\n\",  c)"
      ],
      "execution_count": 0,
      "outputs": [
        {
          "output_type": "stream",
          "text": [
            "Матрица:\n",
            " [[1 2]\n",
            " [3 4]]\n",
            "Транспонирование функцией:\n",
            " [[1 3]\n",
            " [2 4]]\n",
            "Транспонирование методом:\n",
            " [[1 3]\n",
            " [2 4]]\n"
          ],
          "name": "stdout"
        }
      ]
    },
    {
      "cell_type": "markdown",
      "metadata": {
        "colab_type": "text",
        "id": "gPABHln8HLMp"
      },
      "source": [
        "__Напоминание теории.__ Операция __умножения__ определена для двух матриц, таких что число столбцов первой равно числу строк второй. \n",
        "\n",
        "Пусть матрицы $A$ и $B$ таковы, что $A \\in \\mathbb{R}^{n \\times k}$ и $B \\in \\mathbb{R}^{k \\times m}$. __Произведением__ матриц $A$ и $B$ называется матрица $C$, такая что $c_{ij} = \\sum_{r=1}^{k} a_{ir}b_{rj}$, где $c_{ij}$ — элемент матрицы $C$, стоящий на пересечении строки с номером $i$ и столбца с номером $j$.\n",
        "\n",
        "В `NumPy` произведение матриц вычисляется с помощью функции __`numpy.dot(a, b, ...)`__ или с помощью _метода_ __`array1.dot(array2)`__, где __`array1`__ и __`array2`__ — перемножаемые матрицы."
      ]
    },
    {
      "cell_type": "code",
      "metadata": {
        "colab_type": "code",
        "id": "nvmP9mmLHLMq",
        "colab": {}
      },
      "source": [
        "y = np.array([1, 0])\n",
        "z = np.dot(A, y)"
      ],
      "execution_count": 0,
      "outputs": []
    },
    {
      "cell_type": "code",
      "metadata": {
        "colab_type": "code",
        "id": "YIsxb9UdK06n",
        "outputId": "ed7841fa-2091-42b9-f7cd-682d839beeaf",
        "colab": {
          "base_uri": "https://localhost:8080/",
          "height": 34
        }
      },
      "source": [
        "y = np.linalg.solve(A, z)\n",
        "print(y)"
      ],
      "execution_count": 0,
      "outputs": [
        {
          "output_type": "stream",
          "text": [
            "[1. 0.]\n"
          ],
          "name": "stdout"
        }
      ]
    },
    {
      "cell_type": "markdown",
      "metadata": {
        "colab_type": "text",
        "id": "4t6WW1poHLMs"
      },
      "source": [
        "#### Линейная алгебра (модуль `np.linalg`)zxxz"
      ]
    },
    {
      "cell_type": "code",
      "metadata": {
        "colab_type": "code",
        "id": "UyCMO5DvHLMt",
        "outputId": "79e1fd37-1b5d-4216-a3c9-97474350d30f",
        "colab": {
          "base_uri": "https://localhost:8080/",
          "height": 51
        }
      },
      "source": [
        "A = np.array([[1, 0], [0, 1]])\n",
        "x = np.array([[4, 1], [2, 2]])\n",
        "b = np.dot(A, x)\n",
        "print(b)"
      ],
      "execution_count": 0,
      "outputs": [
        {
          "output_type": "stream",
          "text": [
            "[[4 1]\n",
            " [2 2]]\n"
          ],
          "name": "stdout"
        }
      ]
    },
    {
      "cell_type": "markdown",
      "metadata": {
        "colab_type": "text",
        "id": "Fse23NT-HLMu"
      },
      "source": [
        "* Решение линейной системы __$Ax=b$__:"
      ]
    },
    {
      "cell_type": "code",
      "metadata": {
        "colab_type": "code",
        "id": "zzseRnnjHLMv",
        "outputId": "687f7733-98e6-442d-f155-db758c49e57b",
        "colab": {
          "base_uri": "https://localhost:8080/",
          "height": 52
        }
      },
      "source": [
        "x = np.linalg.solve(A, b)\n",
        "print(x)"
      ],
      "execution_count": 0,
      "outputs": [
        {
          "output_type": "stream",
          "text": [
            "[[4. 1.]\n",
            " [2. 2.]]\n"
          ],
          "name": "stdout"
        }
      ]
    },
    {
      "cell_type": "markdown",
      "metadata": {
        "colab_type": "text",
        "id": "GV6WaYJ3K06x"
      },
      "source": [
        "### Библиотека SciPy"
      ]
    },
    {
      "cell_type": "markdown",
      "metadata": {
        "colab_type": "text",
        "id": "rfbdWyb7K06x"
      },
      "source": [
        "* Оптимизация функции (нахождение минимума/максимума):"
      ]
    },
    {
      "cell_type": "code",
      "metadata": {
        "colab_type": "code",
        "id": "8UhGZKOEK06y",
        "colab": {}
      },
      "source": [
        "from scipy.optimize import minimize"
      ],
      "execution_count": 0,
      "outputs": []
    },
    {
      "cell_type": "markdown",
      "metadata": {
        "colab_type": "text",
        "id": "9adfxLQHK06y"
      },
      "source": [
        "Обязательно посмотрите документацию, сходу не очевидно, как именно использовать:"
      ]
    },
    {
      "cell_type": "code",
      "metadata": {
        "colab_type": "code",
        "id": "_vpG937gK06y",
        "colab": {}
      },
      "source": [
        "?minimize"
      ],
      "execution_count": 0,
      "outputs": []
    },
    {
      "cell_type": "markdown",
      "metadata": {
        "colab_type": "text",
        "id": "tOHJi6hZK06z"
      },
      "source": [
        "Опмтимизируем (минимизируем) простую функцию:"
      ]
    },
    {
      "cell_type": "code",
      "metadata": {
        "colab_type": "code",
        "id": "7cyblRsMK06z",
        "colab": {}
      },
      "source": [
        "def f(x):\n",
        "    return x ** 2"
      ],
      "execution_count": 0,
      "outputs": []
    },
    {
      "cell_type": "code",
      "metadata": {
        "colab_type": "code",
        "id": "jg1vmj6oyRhB",
        "outputId": "85960198-4cea-4668-d2d1-da57919d0506",
        "colab": {
          "base_uri": "https://localhost:8080/",
          "height": 265
        }
      },
      "source": [
        "%matplotlib inline\n",
        "import matplotlib.pyplot as plt\n",
        "\n",
        "x = np.arange(-3, 3, .1)\n",
        "y = f(x)\n",
        "\n",
        "plt.plot(x,y)\n",
        "plt.show()"
      ],
      "execution_count": 0,
      "outputs": [
        {
          "output_type": "display_data",
          "data": {
            "image/png": "[encoded data removed]",
            "text/plain": [
              "<Figure size 432x288 with 1 Axes>"
            ]
          },
          "metadata": {
            "tags": []
          }
        }
      ]
    },
    {
      "cell_type": "code",
      "metadata": {
        "colab_type": "code",
        "id": "8AQZT2IDK060",
        "colab": {}
      },
      "source": [
        "res = minimize(f, x0=100)"
      ],
      "execution_count": 0,
      "outputs": []
    },
    {
      "cell_type": "code",
      "metadata": {
        "colab_type": "code",
        "id": "u5-yXZoDK060",
        "outputId": "d9776bd2-b92d-4b31-e8e9-a6a91bd013c3",
        "colab": {
          "base_uri": "https://localhost:8080/",
          "height": 191
        }
      },
      "source": [
        "res"
      ],
      "execution_count": 0,
      "outputs": [
        {
          "output_type": "execute_result",
          "data": {
            "text/plain": [
              "      fun: 5.552074997367714e-17\n",
              " hess_inv: array([[0.50000004]])\n",
              "      jac: array([-1.28826571e-12])\n",
              "  message: 'Optimization terminated successfully.'\n",
              "     nfev: 21\n",
              "      nit: 4\n",
              "     njev: 7\n",
              "   status: 0\n",
              "  success: True\n",
              "        x: array([-7.45122473e-09])"
            ]
          },
          "metadata": {
            "tags": []
          },
          "execution_count": 79
        }
      ]
    },
    {
      "cell_type": "markdown",
      "metadata": {
        "colab_type": "text",
        "id": "JPQkniL8K061"
      },
      "source": [
        "Тут нужно смотреть на 4 строчки: `fun, message, success и x`  \n",
        "`fun` - значние функции в точке минимума  \n",
        "`message` - служебное сообщение об окончании процесса (может быть \"успешно\", как здесь, или сообщение о том, что что-то пошло не так (\"не сошлось\"))  \n",
        "`success` - True, если успешно сошлось (но лучше всегда всё же смотреть и `message`)  \n",
        "`x` - точка, в которой достигается минимум"
      ]
    },
    {
      "cell_type": "markdown",
      "metadata": {
        "colab_type": "text",
        "id": "JutOzQrlK062"
      },
      "source": [
        "Можно в аргумент `method` подавать разные ключевые слова для смены метода оптимизации, подробнее о них лучше читать документацию или погуглить."
      ]
    },
    {
      "cell_type": "markdown",
      "metadata": {
        "colab_type": "text",
        "id": "eNfjwNPcK062"
      },
      "source": [
        "* Интегрирование:"
      ]
    },
    {
      "cell_type": "code",
      "metadata": {
        "colab_type": "code",
        "id": "v07dtKwdK062",
        "colab": {}
      },
      "source": [
        "from scipy.integrate import quad, odeint\n",
        "from scipy.special import erf"
      ],
      "execution_count": 0,
      "outputs": []
    },
    {
      "cell_type": "code",
      "metadata": {
        "colab_type": "code",
        "id": "5JAJF-RHK063",
        "colab": {}
      },
      "source": [
        "def f(x):\n",
        "    return np.exp(-x ** 2)"
      ],
      "execution_count": 0,
      "outputs": []
    },
    {
      "cell_type": "code",
      "metadata": {
        "colab_type": "code",
        "id": "VpncsF4KylNB",
        "outputId": "a538513e-015f-4a6a-ce7d-498bc057bb1f",
        "colab": {
          "base_uri": "https://localhost:8080/",
          "height": 265
        }
      },
      "source": [
        "%matplotlib inline\n",
        "import matplotlib.pyplot as plt\n",
        "\n",
        "x = np.arange(-3, 3, .1)\n",
        "y = f(x)\n",
        "\n",
        "plt.plot(x,y)\n",
        "plt.show()"
      ],
      "execution_count": 0,
      "outputs": [
        {
          "output_type": "display_data",
          "data": {
            "image/png": "[encoded data removed]",
            "text/plain": [
              "<Figure size 432x288 with 1 Axes>"
            ]
          },
          "metadata": {
            "tags": []
          }
        }
      ]
    },
    {
      "cell_type": "markdown",
      "metadata": {
        "colab_type": "text",
        "id": "EI4PK884K063"
      },
      "source": [
        "Адаптивное численное интегрирование (может быть до бесконечности). `err` - оценка ошибки."
      ]
    },
    {
      "cell_type": "code",
      "metadata": {
        "colab_type": "code",
        "id": "rMrrAR8EK063",
        "outputId": "fb5a17ac-9f39-4ecd-fbe1-8b803cebc575",
        "colab": {
          "base_uri": "https://localhost:8080/",
          "height": 35
        }
      },
      "source": [
        "res, err = quad(f, 0, np.inf)\n",
        "print(np.sqrt(np.pi) / 2, res, err)"
      ],
      "execution_count": 0,
      "outputs": [
        {
          "output_type": "stream",
          "text": [
            "0.8862269254527579 0.8862269254527579 7.101318390472462e-09\n"
          ],
          "name": "stdout"
        }
      ]
    },
    {
      "cell_type": "code",
      "metadata": {
        "colab_type": "code",
        "id": "nUGcUPBBK064",
        "outputId": "d7629e07-0c14-4d73-87a7-10596e5556cd",
        "colab": {
          "base_uri": "https://localhost:8080/",
          "height": 35
        }
      },
      "source": [
        "res, err = quad(f, 0, 1)\n",
        "print(np.sqrt(np.pi) / 2 * erf(1), res, err)"
      ],
      "execution_count": 0,
      "outputs": [
        {
          "output_type": "stream",
          "text": [
            "0.7468241328124269 0.7468241328124271 8.291413475940725e-15\n"
          ],
          "name": "stdout"
        }
      ]
    },
    {
      "cell_type": "markdown",
      "metadata": {
        "colab_type": "text",
        "id": "JqUN04vPK065"
      },
      "source": [
        "## Список материалов для самостоятельного изучения"
      ]
    },
    {
      "cell_type": "markdown",
      "metadata": {
        "colab_type": "text",
        "id": "a6m68ZUgK065"
      },
      "source": [
        "*Статья на Хабре по основам NumPy - https://habr.com/post/121031/*  \n",
        "\n",
        "*100 задач по NumPy для любителей посидеть вечерком за чашечкой программирования* - https://pythonworld.ru/numpy/100-exercises.html  \n",
        "\n",
        "*Очень крутой, продвинутый ноутбук по NumPy* - https://nbviewer.jupyter.org/github/vlad17/np-learn/blob/master/presentation.ipynb\n",
        "\n",
        "*Штука, которая вам в будущем может пригодиться ;)* - https://stackoverflow.com/questions/27948363/numpy-broadcast-to-perform-euclidean-distance-vectorized/35814006  \n",
        "\n",
        "*Лекции по SciPy и NumPy* - http://www.scipy-lectures.org/index.html"
      ]
    },
    {
      "cell_type": "code",
      "metadata": {
        "id": "IQqrKhgjaSFD",
        "colab_type": "code",
        "colab": {}
      },
      "source": [
        "from PIL import Image\n",
        "import requests\n",
        "from io import BytesIO\n",
        "\n",
        "url = 'https://s8.hostingkartinok.com/uploads/images/2018/08/308b49fcfbc619d629fe4604bceb67ac.jpg'\n",
        "\n",
        "response = requests.get(url)\n",
        "img = Image.open(BytesIO(response.content))"
      ],
      "execution_count": 0,
      "outputs": []
    },
    {
      "cell_type": "code",
      "metadata": {
        "id": "gNvRYxevHy3N",
        "colab_type": "code",
        "outputId": "a0bbbbfa-e44a-4f72-9112-9e2573072018",
        "colab": {
          "base_uri": "https://localhost:8080/",
          "height": 34
        }
      },
      "source": [
        "img = np.array(img)\n",
        "img.shape"
      ],
      "execution_count": 0,
      "outputs": [
        {
          "output_type": "execute_result",
          "data": {
            "text/plain": [
              "(851, 1024, 3)"
            ]
          },
          "metadata": {
            "tags": []
          },
          "execution_count": 20
        }
      ]
    },
    {
      "cell_type": "code",
      "metadata": {
        "id": "dwDVnMM5GoUl",
        "colab_type": "code",
        "outputId": "efcb919e-3c01-4523-8f45-923bfc2658da",
        "colab": {
          "base_uri": "https://localhost:8080/",
          "height": 286
        }
      },
      "source": [
        "from matplotlib import pyplot as plt\n",
        "plt.imshow(img)"
      ],
      "execution_count": 0,
      "outputs": [
        {
          "output_type": "execute_result",
          "data": {
            "text/plain": [
              "<matplotlib.image.AxesImage at 0x7f9992d8e1d0>"
            ]
          },
          "metadata": {
            "tags": []
          },
          "execution_count": 21
        },
        {
          "output_type": "display_data",
          "data": {
            "image/png": "[encoded data removed]",
            "text/plain": [
              "<Figure size 432x288 with 1 Axes>"
            ]
          },
          "metadata": {
            "tags": []
          }
        }
      ]
    },
    {
      "cell_type": "code",
      "metadata": {
        "id": "dBD8QGRpGsQE",
        "colab_type": "code",
        "outputId": "9fb18697-6538-4e98-a2eb-b13ef93188fc",
        "colab": {
          "base_uri": "https://localhost:8080/",
          "height": 286
        }
      },
      "source": [
        "img2 = img[:, :, ::-1]\n",
        "plt.imshow(img2)"
      ],
      "execution_count": 0,
      "outputs": [
        {
          "output_type": "execute_result",
          "data": {
            "text/plain": [
              "<matplotlib.image.AxesImage at 0x7f9992cea940>"
            ]
          },
          "metadata": {
            "tags": []
          },
          "execution_count": 22
        },
        {
          "output_type": "display_data",
          "data": {
            "image/png": "[encoded data removed]",
            "text/plain": [
              "<Figure size 432x288 with 1 Axes>"
            ]
          },
          "metadata": {
            "tags": []
          }
        }
      ]
    },
    {
      "cell_type": "code",
      "metadata": {
        "id": "Tj1XJf5KH3y0",
        "colab_type": "code",
        "outputId": "d5becef0-00bc-47e6-a3ad-80c186f2c8e5",
        "colab": {
          "base_uri": "https://localhost:8080/",
          "height": 286
        }
      },
      "source": [
        "img3 = img[:, ::-1]\n",
        "plt.imshow(img3)"
      ],
      "execution_count": 0,
      "outputs": [
        {
          "output_type": "execute_result",
          "data": {
            "text/plain": [
              "<matplotlib.image.AxesImage at 0x7f9992c35ba8>"
            ]
          },
          "metadata": {
            "tags": []
          },
          "execution_count": 25
        },
        {
          "output_type": "display_data",
          "data": {
            "image/png": "[encoded data removed]",
            "text/plain": [
              "<Figure size 432x288 with 1 Axes>"
            ]
          },
          "metadata": {
            "tags": []
          }
        }
      ]
    },
    {
      "cell_type": "code",
      "metadata": {
        "id": "vRga1T60H7cg",
        "colab_type": "code",
        "outputId": "cb6f7927-0219-4ebb-b058-8bdc3a9ffad5",
        "colab": {
          "base_uri": "https://localhost:8080/",
          "height": 34
        }
      },
      "source": [
        "batch = np.concatenate([img[None, :, :, :], img2[None, :, :, :], img3[None, :, :, :]])\n",
        "batch.shape"
      ],
      "execution_count": 0,
      "outputs": [
        {
          "output_type": "execute_result",
          "data": {
            "text/plain": [
              "(3, 851, 1024, 3)"
            ]
          },
          "metadata": {
            "tags": []
          },
          "execution_count": 28
        }
      ]
    },
    {
      "cell_type": "code",
      "metadata": {
        "id": "0HSbP-ZwIEoS",
        "colab_type": "code",
        "colab": {}
      },
      "source": [
        ""
      ],
      "execution_count": 0,
      "outputs": []
    }
  ]
}