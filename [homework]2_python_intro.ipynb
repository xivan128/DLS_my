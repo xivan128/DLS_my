{
  "nbformat": 4,
  "nbformat_minor": 0,
  "metadata": {
    "kernelspec": {
      "display_name": "Python 3",
      "language": "python",
      "name": "python3"
    },
    "language_info": {
      "codemirror_mode": {
        "name": "ipython",
        "version": 3
      },
      "file_extension": ".py",
      "mimetype": "text/x-python",
      "name": "python",
      "nbconvert_exporter": "python",
      "pygments_lexer": "ipython3",
      "version": "3.7.3"
    },
    "colab": {
      "name": "[homework]2_python_intro.ipynb",
      "provenance": [],
      "include_colab_link": true
    }
  },
  "cells": [
    {
      "cell_type": "markdown",
      "metadata": {
        "id": "view-in-github",
        "colab_type": "text"
      },
      "source": [
        "<a href=\"https://colab.research.google.com/github/xivan128/DLS_my/blob/master/%5Bhomework%5D2_python_intro.ipynb\" target=\"_parent\"><img src=\"https://colab.research.google.com/assets/colab-badge.svg\" alt=\"Open In Colab\"/></a>"
      ]
    },
    {
      "cell_type": "markdown",
      "metadata": {
        "id": "xdiBsake8Nr7",
        "colab_type": "text"
      },
      "source": [
        "<p style=\"align: center;\"><img align=center src=\"https://s8.hostingkartinok.com/uploads/images/2018/08/308b49fcfbc619d629fe4604bceb67ac.jpg\" width=500 height=450/></p>\n",
        "\n",
        "<h3 style=\"text-align: center;\"><b>\"Глубокое обучение\". Продвинутый поток</b></h3>\n",
        "\n",
        "<h2 style=\"text-align: center;\"><b>Домашнее задание 1. Основы Python</b></h2>\n",
        "\n",
        "Вам предлагается решить задачи ниже. Решения нм"
      ]
    },
    {
      "cell_type": "code",
      "metadata": {
        "id": "gpfmM8Yr8NsG",
        "colab_type": "code",
        "colab": {}
      },
      "source": [
        ""
      ],
      "execution_count": 0,
      "outputs": []
    },
    {
      "cell_type": "markdown",
      "metadata": {
        "id": "5q0DSQac8Nse",
        "colab_type": "text"
      },
      "source": [
        "### Двойной факториал\n",
        "Дано натуральное $N < 100$. Выведите число $N!!$ — произведение всех нечётных натуральных чисел, не превосходящих $N$."
      ]
    },
    {
      "cell_type": "code",
      "metadata": {
        "id": "B7EQCH_W8Nsl",
        "colab_type": "code",
        "colab": {}
      },
      "source": [
        "N = 25\n",
        "\n",
        "#YOUR CODE\n",
        "\n",
        "N_double_fact = #YOUR CODE\n",
        "\n",
        "assert N_double_fact == 7905853580625, \"Something is wrong! Please try again\""
      ],
      "execution_count": 0,
      "outputs": []
    },
    {
      "cell_type": "markdown",
      "metadata": {
        "id": "NneMigVc8Nsx",
        "colab_type": "text"
      },
      "source": [
        "### Хитрая сортировка\n",
        "\n",
        "Пусть у нас есть следующий список, в котором элементы -- tuple из строк:\n",
        "\n",
        "``items = [('one', 'two'), ('three', 'four'), ('five', 'six'), ('string', 'a')]``\n",
        "\n",
        "Мы хотим отсортировать этот список по последней букве второго элемента каждого ``tuple``, т.е. получить такой список:\n",
        "\n",
        "``sorted_items = [('string', 'a'), ('one', 'two'), ('three', 'four'), ('five', 'six')]``.\n",
        "Что нужно вставить вместо \"###\" в следующем выражении, чтобы получить сортировку?\n",
        "\n",
        "``sorted_items = sorted(items, key=lambda x: ###)``"
      ]
    },
    {
      "cell_type": "code",
      "metadata": {
        "id": "ITgB8OPc8Ns2",
        "colab_type": "code",
        "colab": {}
      },
      "source": [
        "items = [('one', 'two'), ('three', 'four'), ('five', 'six'), ('string', 'a')]\n",
        "\n",
        "sorted_items = sorted(items, key=lambda x: <YOUR CODE>)\n",
        "                      \n",
        "assert sorted_items == [('string', 'a'), ('one', 'two'), ('three', 'four'), ('five', 'six')], \\\n",
        "\"Something is wrong! Please try again\""
      ],
      "execution_count": 0,
      "outputs": []
    },
    {
      "cell_type": "markdown",
      "metadata": {
        "id": "C-v5hf0h8NtC",
        "colab_type": "text"
      },
      "source": [
        "### Слайсы\n",
        "\n",
        "Дан код:\n",
        "\n",
        "``x = [1, 2, 3, 4, 5]``\n",
        "\n",
        "``x[###] = [-1, -3, -5]``\n",
        "\n",
        "``print(x)``\n",
        "\n",
        "Напишите слайс вместо ###, чтобы на экран вывелось:\n",
        "\n",
        "``[-5, 2, -3, 4, -1]``"
      ]
    },
    {
      "cell_type": "code",
      "metadata": {
        "id": "zq95KynP8NtH",
        "colab_type": "code",
        "outputId": "0f9f9a69-e243-4deb-98ca-3f6714d1a96d",
        "colab": {
          "base_uri": "https://localhost:8080/",
          "height": 35
        }
      },
      "source": [
        "x = [1, 2, 3, 4, 5]\n",
        "x[::-2] = [-1, -3, -5]\n",
        "print(x)\n",
        "#assert x == [-5, 2, -3, 4, -1]"
      ],
      "execution_count": 0,
      "outputs": [
        {
          "output_type": "stream",
          "text": [
            "[-5, 2, -3, 4, -1]\n"
          ],
          "name": "stdout"
        }
      ]
    },
    {
      "cell_type": "markdown",
      "metadata": {
        "id": "9H4yciPd8NtU",
        "colab_type": "text"
      },
      "source": [
        "### Создание массивов\n",
        "Дан массив $A[0,\\ldots,N-1]$. Напишите функцию, принимающую один обязательный аргумент A и один опциональный аргумент ``erase``, по умолчанию равный 1. Возвратите массив $B[0,\\ldots, N-1]$, где $B_i = A_0 + \\ldots + A_{i}$ --- массив частичных сумм массива A. удалите из массива все элементы, равные erase. Постарайтесь сделать это за линейное время без использования Numpy."
      ]
    },
    {
      "cell_type": "code",
      "metadata": {
        "id": "XD7LDM3S8NtZ",
        "colab_type": "code",
        "colab": {
          "base_uri": "https://localhost:8080/",
          "height": 228
        },
        "outputId": "910cd1da-7506-4a51-eec1-1a0ce808a88c"
      },
      "source": [
        "def cumsum_and_erase(A, erase=1):\n",
        "    B=A\n",
        "    sum=0\n",
        "    flag=0\n",
        "    for i in range(len(A)):\n",
        "      sum+=A[i]\n",
        "      B[i-flag]=sum\n",
        "      if(B[i]==erase):\n",
        "        flag+=1 \n",
        "    return B\n",
        "\n",
        "A = [5, 1, 4, 5, 14]\n",
        "B = cumsum_and_erase(A, erase=10)\n",
        "print(B)\n",
        "assert B == [5, 6, 15, 29], \"Something is wrong! Please try again\""
      ],
      "execution_count": 10,
      "outputs": [
        {
          "output_type": "stream",
          "text": [
            "[5, 6, 15, 29, 14]\n"
          ],
          "name": "stdout"
        },
        {
          "output_type": "error",
          "ename": "AssertionError",
          "evalue": "ignored",
          "traceback": [
            "\u001b[0;31m---------------------------------------------------------------------------\u001b[0m",
            "\u001b[0;31mAssertionError\u001b[0m                            Traceback (most recent call last)",
            "\u001b[0;32m<ipython-input-10-c2a0e5889f3e>\u001b[0m in \u001b[0;36m<module>\u001b[0;34m()\u001b[0m\n\u001b[1;32m     13\u001b[0m \u001b[0mB\u001b[0m \u001b[0;34m=\u001b[0m \u001b[0mcumsum_and_erase\u001b[0m\u001b[0;34m(\u001b[0m\u001b[0mA\u001b[0m\u001b[0;34m,\u001b[0m \u001b[0merase\u001b[0m\u001b[0;34m=\u001b[0m\u001b[0;36m10\u001b[0m\u001b[0;34m)\u001b[0m\u001b[0;34m\u001b[0m\u001b[0;34m\u001b[0m\u001b[0m\n\u001b[1;32m     14\u001b[0m \u001b[0mprint\u001b[0m\u001b[0;34m(\u001b[0m\u001b[0mB\u001b[0m\u001b[0;34m)\u001b[0m\u001b[0;34m\u001b[0m\u001b[0;34m\u001b[0m\u001b[0m\n\u001b[0;32m---> 15\u001b[0;31m \u001b[0;32massert\u001b[0m \u001b[0mB\u001b[0m \u001b[0;34m==\u001b[0m \u001b[0;34m[\u001b[0m\u001b[0;36m5\u001b[0m\u001b[0;34m,\u001b[0m \u001b[0;36m6\u001b[0m\u001b[0;34m,\u001b[0m \u001b[0;36m15\u001b[0m\u001b[0;34m,\u001b[0m \u001b[0;36m29\u001b[0m\u001b[0;34m]\u001b[0m\u001b[0;34m,\u001b[0m \u001b[0;34m\"Something is wrong! Please try again\"\u001b[0m\u001b[0;34m\u001b[0m\u001b[0;34m\u001b[0m\u001b[0m\n\u001b[0m",
            "\u001b[0;31mAssertionError\u001b[0m: Something is wrong! Please try again"
          ]
        }
      ]
    },
    {
      "cell_type": "markdown",
      "metadata": {
        "id": "Dd1rSHhX8Ntk",
        "colab_type": "text"
      },
      "source": [
        "### Обработка текста\n",
        "Дан список текстов, слова в которых разделены пробелами (можно считать, что знаков препинания нет). Часть слов является \"мусорными\": в них присутствуют цифры и спецсимволы. Отфильтруйте такие слова из каждого текста. Используйте функции ``str.split``, ``str.isalpha``, ``list.join``, а также [генератор filter](http://pythonicway.com/python-functinal-programming)."
      ]
    },
    {
      "cell_type": "code",
      "metadata": {
        "id": "z9wuqLw68Ntr",
        "colab_type": "code",
        "colab": {}
      },
      "source": [
        "sentences = ['1 thousand devils', 'My name is 9Pasha', 'Room #125 costs $100']\n",
        "\n",
        "def process(sentences):\n",
        "    #YOUR CODE\n",
        "    \n",
        "    result = #YOUR CODE\n",
        "    return result\n",
        "\n",
        "assert process(sentences) == ['thousand devils', 'My name is', 'Room costs'], \\\n",
        "\"Something is wrong! Please try again\""
      ],
      "execution_count": 0,
      "outputs": []
    },
    {
      "cell_type": "markdown",
      "metadata": {
        "id": "1DThUA7p8Nt8",
        "colab_type": "text"
      },
      "source": [
        "### Собственный класс \"Нейрон\"\n",
        "Реализуйте класс \"Нейрон\", у которого будет несколько методов: \n",
        "\n",
        "* ``__init__``. Принимает на вход массив весов нейрона --- $w = (w_1, \\ldots, w_n)$, а также функцию активации $f$ (по умолчанию $f(x) = x$). Сохраняет веса и функцию внутри класса.\n",
        "\n",
        "* ``forward``. Принимает на вход массив $x = (x_1, \\ldots, x_N)$ --- входы нейрона. Возвращает $f(w_1x_1 + \\ldots + w_nx_n)$.\n",
        "\n",
        "* ``backlog``. Возвращает последний массив $x$, который подавался функции ``forward`` на вход. "
      ]
    },
    {
      "cell_type": "code",
      "metadata": {
        "id": "ujY8AcLn8Nt-",
        "colab_type": "code",
        "colab": {}
      },
      "source": [
        "class Neuron:\n",
        "    \n",
        "    def __init__(self, w, f = lambda x: x):\n",
        "        #YOUR CODE HERE\n",
        "    \n",
        "    def forward(self, x):\n",
        "        #YOUR CODE HERE\n",
        "        \n",
        "    def backlog(self):\n",
        "        #YOUR CODE HERE"
      ],
      "execution_count": 0,
      "outputs": []
    },
    {
      "cell_type": "code",
      "metadata": {
        "id": "LmH4UURJ8NuM",
        "colab_type": "code",
        "colab": {}
      },
      "source": [
        "import math\n",
        "\n",
        "w = [0.5, 1., -1., 2.]\n",
        "\n",
        "neuron = Neuron([0.5, 1., -1., 2.], lambda x: 1. / (1 + math.exp(x)))\n",
        "\n",
        "x = [1, 2, 3, 4]\n",
        "\n",
        "assert abs(neuron.forward(x) - 0.0005527) < 1e-6, \"Something is wrong! Please try again\"\n",
        "\n",
        "assert neuron.backlog() == x, \"Something is wrong! Please try again\"\n",
        "\n",
        "y = [0, 0, 0, 0]\n",
        "\n",
        "assert abs(neuron.forward(y) - 0.5) < 1e-6, \"Something is wrong! Please try again\""
      ],
      "execution_count": 0,
      "outputs": []
    }
  ]
}