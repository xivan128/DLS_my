{
  "nbformat": 4,
  "nbformat_minor": 0,
  "metadata": {
    "colab": {
      "name": "Copy of [homework,prodv]pandas.ipynb",
      "provenance": [],
      "collapsed_sections": [],
      "include_colab_link": true
    },
    "kernelspec": {
      "display_name": "Python 3",
      "language": "python",
      "name": "python3"
    }
  },
  "cells": [
    {
      "cell_type": "markdown",
      "metadata": {
        "id": "view-in-github",
        "colab_type": "text"
      },
      "source": [
        "<a href=\"https://colab.research.google.com/github/xivan128/DLS_my/blob/master/%5Bhomework%2Cprodv%5Dpandas.ipynb\" target=\"_parent\"><img src=\"https://colab.research.google.com/assets/colab-badge.svg\" alt=\"Open In Colab\"/></a>"
      ]
    },
    {
      "cell_type": "markdown",
      "metadata": {
        "id": "ka8EsSp8YNED",
        "colab_type": "text"
      },
      "source": [
        "<p style=\"align: center;\"><img src=\"https://static.tildacdn.com/tild6636-3531-4239-b465-376364646465/Deep_Learning_School.png\", width=600, height=300></p>\n",
        "\n",
        "<h3 style=\"text-align: center;\"><b>Физтех-Школа Прикладной математики и информатики (ФПМИ) МФТИ</b></h3>"
      ]
    },
    {
      "cell_type": "markdown",
      "metadata": {
        "id": "W3HlSElnYNED",
        "colab_type": "text"
      },
      "source": [
        "<h2 style=\"text-align: center;\"><b>Библиотека <a href=\"http://pandas.pydata.org/\">pandas</a>: домашнее задание</b></h2>"
      ]
    },
    {
      "cell_type": "markdown",
      "metadata": {
        "id": "Bq6fzJZDYNEE",
        "colab_type": "text"
      },
      "source": [
        "Перед этим заданием необходимо просмотреть и прорешать соответствующий семинар. Он полезный, правда!"
      ]
    },
    {
      "cell_type": "code",
      "metadata": {
        "id": "Rl48-GqCYNEF",
        "colab_type": "code",
        "colab": {}
      },
      "source": [
        "#!pip install pandas"
      ],
      "execution_count": 0,
      "outputs": []
    },
    {
      "cell_type": "code",
      "metadata": {
        "id": "fNjo9Tk7YNEI",
        "colab_type": "code",
        "colab": {}
      },
      "source": [
        "import pandas as pd\n",
        "import numpy as np"
      ],
      "execution_count": 0,
      "outputs": []
    },
    {
      "cell_type": "markdown",
      "metadata": {
        "id": "fZaQFimMYNEK",
        "colab_type": "text"
      },
      "source": [
        "<img src=\"http://www.keepcalmstudio.com/_gallery/1500/kcs_dd487f3f.png\" width=300 height=300>"
      ]
    },
    {
      "cell_type": "markdown",
      "metadata": {
        "id": "1xPaEni5YNEL",
        "colab_type": "text"
      },
      "source": [
        "### Даю DATA: https://www.kaggle.com/mehdidag/black-friday"
      ]
    },
    {
      "cell_type": "code",
      "metadata": {
        "id": "my6fQWvBYNEM",
        "colab_type": "code",
        "colab": {}
      },
      "source": [
        "data = pd.read_csv('BlackFriday.csv')"
      ],
      "execution_count": 0,
      "outputs": []
    },
    {
      "cell_type": "markdown",
      "metadata": {
        "id": "Tvo9H9BpYNEN",
        "colab_type": "text"
      },
      "source": [
        "Посмотрим, что же такое переменная `data`:"
      ]
    },
    {
      "cell_type": "code",
      "metadata": {
        "id": "45ckp1neYNEO",
        "colab_type": "code",
        "outputId": "d0c84cae-b083-4b27-c021-f621a469d826",
        "colab": {
          "base_uri": "https://localhost:8080/",
          "height": 575
        }
      },
      "source": [
        "data"
      ],
      "execution_count": 5,
      "outputs": [
        {
          "output_type": "execute_result",
          "data": {
            "text/html": [
              "<div>\n",
              "<style scoped>\n",
              "    .dataframe tbody tr th:only-of-type {\n",
              "        vertical-align: middle;\n",
              "    }\n",
              "\n",
              "    .dataframe tbody tr th {\n",
              "        vertical-align: top;\n",
              "    }\n",
              "\n",
              "    .dataframe thead th {\n",
              "        text-align: right;\n",
              "    }\n",
              "</style>\n",
              "<table border=\"1\" class=\"dataframe\">\n",
              "  <thead>\n",
              "    <tr style=\"text-align: right;\">\n",
              "      <th></th>\n",
              "      <th>User_ID</th>\n",
              "      <th>Product_ID</th>\n",
              "      <th>Gender</th>\n",
              "      <th>Age</th>\n",
              "      <th>Occupation</th>\n",
              "      <th>City_Category</th>\n",
              "      <th>Stay_In_Current_City_Years</th>\n",
              "      <th>Marital_Status</th>\n",
              "      <th>Product_Category_1</th>\n",
              "      <th>Product_Category_2</th>\n",
              "      <th>Product_Category_3</th>\n",
              "      <th>Purchase</th>\n",
              "    </tr>\n",
              "  </thead>\n",
              "  <tbody>\n",
              "    <tr>\n",
              "      <th>0</th>\n",
              "      <td>1000001</td>\n",
              "      <td>P00069042</td>\n",
              "      <td>F</td>\n",
              "      <td>0-17</td>\n",
              "      <td>10.0</td>\n",
              "      <td>A</td>\n",
              "      <td>2</td>\n",
              "      <td>0.0</td>\n",
              "      <td>3.0</td>\n",
              "      <td>NaN</td>\n",
              "      <td>NaN</td>\n",
              "      <td>8370.0</td>\n",
              "    </tr>\n",
              "    <tr>\n",
              "      <th>1</th>\n",
              "      <td>1000001</td>\n",
              "      <td>P00248942</td>\n",
              "      <td>F</td>\n",
              "      <td>0-17</td>\n",
              "      <td>10.0</td>\n",
              "      <td>A</td>\n",
              "      <td>2</td>\n",
              "      <td>0.0</td>\n",
              "      <td>1.0</td>\n",
              "      <td>6.0</td>\n",
              "      <td>14.0</td>\n",
              "      <td>15200.0</td>\n",
              "    </tr>\n",
              "    <tr>\n",
              "      <th>2</th>\n",
              "      <td>1000001</td>\n",
              "      <td>P00087842</td>\n",
              "      <td>F</td>\n",
              "      <td>0-17</td>\n",
              "      <td>10.0</td>\n",
              "      <td>A</td>\n",
              "      <td>2</td>\n",
              "      <td>0.0</td>\n",
              "      <td>12.0</td>\n",
              "      <td>NaN</td>\n",
              "      <td>NaN</td>\n",
              "      <td>1422.0</td>\n",
              "    </tr>\n",
              "    <tr>\n",
              "      <th>3</th>\n",
              "      <td>1000001</td>\n",
              "      <td>P00085442</td>\n",
              "      <td>F</td>\n",
              "      <td>0-17</td>\n",
              "      <td>10.0</td>\n",
              "      <td>A</td>\n",
              "      <td>2</td>\n",
              "      <td>0.0</td>\n",
              "      <td>12.0</td>\n",
              "      <td>14.0</td>\n",
              "      <td>NaN</td>\n",
              "      <td>1057.0</td>\n",
              "    </tr>\n",
              "    <tr>\n",
              "      <th>4</th>\n",
              "      <td>1000002</td>\n",
              "      <td>P00285442</td>\n",
              "      <td>M</td>\n",
              "      <td>55+</td>\n",
              "      <td>16.0</td>\n",
              "      <td>C</td>\n",
              "      <td>4+</td>\n",
              "      <td>0.0</td>\n",
              "      <td>8.0</td>\n",
              "      <td>NaN</td>\n",
              "      <td>NaN</td>\n",
              "      <td>7969.0</td>\n",
              "    </tr>\n",
              "    <tr>\n",
              "      <th>...</th>\n",
              "      <td>...</td>\n",
              "      <td>...</td>\n",
              "      <td>...</td>\n",
              "      <td>...</td>\n",
              "      <td>...</td>\n",
              "      <td>...</td>\n",
              "      <td>...</td>\n",
              "      <td>...</td>\n",
              "      <td>...</td>\n",
              "      <td>...</td>\n",
              "      <td>...</td>\n",
              "      <td>...</td>\n",
              "    </tr>\n",
              "    <tr>\n",
              "      <th>90349</th>\n",
              "      <td>1001899</td>\n",
              "      <td>P00287842</td>\n",
              "      <td>F</td>\n",
              "      <td>46-50</td>\n",
              "      <td>6.0</td>\n",
              "      <td>A</td>\n",
              "      <td>1</td>\n",
              "      <td>1.0</td>\n",
              "      <td>8.0</td>\n",
              "      <td>18.0</td>\n",
              "      <td>NaN</td>\n",
              "      <td>7789.0</td>\n",
              "    </tr>\n",
              "    <tr>\n",
              "      <th>90350</th>\n",
              "      <td>1001899</td>\n",
              "      <td>P00177342</td>\n",
              "      <td>F</td>\n",
              "      <td>46-50</td>\n",
              "      <td>6.0</td>\n",
              "      <td>A</td>\n",
              "      <td>1</td>\n",
              "      <td>1.0</td>\n",
              "      <td>8.0</td>\n",
              "      <td>NaN</td>\n",
              "      <td>NaN</td>\n",
              "      <td>8047.0</td>\n",
              "    </tr>\n",
              "    <tr>\n",
              "      <th>90351</th>\n",
              "      <td>1001899</td>\n",
              "      <td>P00117142</td>\n",
              "      <td>F</td>\n",
              "      <td>46-50</td>\n",
              "      <td>6.0</td>\n",
              "      <td>A</td>\n",
              "      <td>1</td>\n",
              "      <td>1.0</td>\n",
              "      <td>2.0</td>\n",
              "      <td>17.0</td>\n",
              "      <td>NaN</td>\n",
              "      <td>13067.0</td>\n",
              "    </tr>\n",
              "    <tr>\n",
              "      <th>90352</th>\n",
              "      <td>1001899</td>\n",
              "      <td>P00156442</td>\n",
              "      <td>F</td>\n",
              "      <td>46-50</td>\n",
              "      <td>6.0</td>\n",
              "      <td>A</td>\n",
              "      <td>1</td>\n",
              "      <td>1.0</td>\n",
              "      <td>8.0</td>\n",
              "      <td>NaN</td>\n",
              "      <td>NaN</td>\n",
              "      <td>6007.0</td>\n",
              "    </tr>\n",
              "    <tr>\n",
              "      <th>90353</th>\n",
              "      <td>1001899</td>\n",
              "      <td>P00089542</td>\n",
              "      <td>F</td>\n",
              "      <td>46-</td>\n",
              "      <td>NaN</td>\n",
              "      <td>NaN</td>\n",
              "      <td>NaN</td>\n",
              "      <td>NaN</td>\n",
              "      <td>NaN</td>\n",
              "      <td>NaN</td>\n",
              "      <td>NaN</td>\n",
              "      <td>NaN</td>\n",
              "    </tr>\n",
              "  </tbody>\n",
              "</table>\n",
              "<p>90354 rows × 12 columns</p>\n",
              "</div>"
            ],
            "text/plain": [
              "       User_ID Product_ID  ... Product_Category_3 Purchase\n",
              "0      1000001  P00069042  ...                NaN   8370.0\n",
              "1      1000001  P00248942  ...               14.0  15200.0\n",
              "2      1000001  P00087842  ...                NaN   1422.0\n",
              "3      1000001  P00085442  ...                NaN   1057.0\n",
              "4      1000002  P00285442  ...                NaN   7969.0\n",
              "...        ...        ...  ...                ...      ...\n",
              "90349  1001899  P00287842  ...                NaN   7789.0\n",
              "90350  1001899  P00177342  ...                NaN   8047.0\n",
              "90351  1001899  P00117142  ...                NaN  13067.0\n",
              "90352  1001899  P00156442  ...                NaN   6007.0\n",
              "90353  1001899  P00089542  ...                NaN      NaN\n",
              "\n",
              "[90354 rows x 12 columns]"
            ]
          },
          "metadata": {
            "tags": []
          },
          "execution_count": 5
        }
      ]
    },
    {
      "cell_type": "markdown",
      "metadata": {
        "id": "kz3j5sAJvIWJ",
        "colab_type": "text"
      },
      "source": [
        ""
      ]
    },
    {
      "cell_type": "code",
      "metadata": {
        "id": "_ZViE_-9rlxa",
        "colab_type": "code",
        "colab": {}
      },
      "source": [
        "data2 = data.groupby(['Gender','Age']).size().unstack(fill_value=0)"
      ],
      "execution_count": 0,
      "outputs": []
    },
    {
      "cell_type": "markdown",
      "metadata": {
        "id": "23DCj0Pav-uU",
        "colab_type": "text"
      },
      "source": [
        ""
      ]
    },
    {
      "cell_type": "code",
      "metadata": {
        "id": "f0SspKW5YNEU",
        "colab_type": "code",
        "outputId": "6006e15a-50fd-4a26-8844-ea44c65baf90",
        "colab": {
          "base_uri": "https://localhost:8080/",
          "height": 35
        }
      },
      "source": [
        "type(data)"
      ],
      "execution_count": 0,
      "outputs": [
        {
          "output_type": "execute_result",
          "data": {
            "text/plain": [
              "pandas.core.frame.DataFrame"
            ]
          },
          "metadata": {
            "tags": []
          },
          "execution_count": 151
        }
      ]
    },
    {
      "cell_type": "code",
      "metadata": {
        "id": "e04BVkLJuykq",
        "colab_type": "code",
        "outputId": "c7babd9a-72fe-4b67-ae8f-f50749b4bdb8",
        "colab": {
          "base_uri": "https://localhost:8080/",
          "height": 143
        }
      },
      "source": [
        "data2"
      ],
      "execution_count": 0,
      "outputs": [
        {
          "output_type": "execute_result",
          "data": {
            "text/html": [
              "<div>\n",
              "<style scoped>\n",
              "    .dataframe tbody tr th:only-of-type {\n",
              "        vertical-align: middle;\n",
              "    }\n",
              "\n",
              "    .dataframe tbody tr th {\n",
              "        vertical-align: top;\n",
              "    }\n",
              "\n",
              "    .dataframe thead th {\n",
              "        text-align: right;\n",
              "    }\n",
              "</style>\n",
              "<table border=\"1\" class=\"dataframe\">\n",
              "  <thead>\n",
              "    <tr style=\"text-align: right;\">\n",
              "      <th>Age</th>\n",
              "      <th>0-17</th>\n",
              "      <th>18-25</th>\n",
              "      <th>26-35</th>\n",
              "      <th>36-45</th>\n",
              "      <th>46-50</th>\n",
              "      <th>51-55</th>\n",
              "      <th>55+</th>\n",
              "    </tr>\n",
              "    <tr>\n",
              "      <th>Gender</th>\n",
              "      <th></th>\n",
              "      <th></th>\n",
              "      <th></th>\n",
              "      <th></th>\n",
              "      <th></th>\n",
              "      <th></th>\n",
              "      <th></th>\n",
              "    </tr>\n",
              "  </thead>\n",
              "  <tbody>\n",
              "    <tr>\n",
              "      <th>F</th>\n",
              "      <td>4953</td>\n",
              "      <td>24057</td>\n",
              "      <td>49348</td>\n",
              "      <td>26420</td>\n",
              "      <td>12856</td>\n",
              "      <td>9634</td>\n",
              "      <td>4929</td>\n",
              "    </tr>\n",
              "    <tr>\n",
              "      <th>M</th>\n",
              "      <td>9754</td>\n",
              "      <td>73577</td>\n",
              "      <td>165342</td>\n",
              "      <td>81079</td>\n",
              "      <td>31670</td>\n",
              "      <td>27984</td>\n",
              "      <td>15974</td>\n",
              "    </tr>\n",
              "  </tbody>\n",
              "</table>\n",
              "</div>"
            ],
            "text/plain": [
              "Age     0-17  18-25   26-35  36-45  46-50  51-55    55+\n",
              "Gender                                                 \n",
              "F       4953  24057   49348  26420  12856   9634   4929\n",
              "M       9754  73577  165342  81079  31670  27984  15974"
            ]
          },
          "metadata": {
            "tags": []
          },
          "execution_count": 152
        }
      ]
    },
    {
      "cell_type": "markdown",
      "metadata": {
        "id": "8Euq1CYeYNEX",
        "colab_type": "text"
      },
      "source": [
        "---"
      ]
    },
    {
      "cell_type": "markdown",
      "metadata": {
        "id": "kwm98nkcYNEY",
        "colab_type": "text"
      },
      "source": [
        "#### Вопрос"
      ]
    },
    {
      "cell_type": "markdown",
      "metadata": {
        "id": "sd8GKDI2YNEZ",
        "colab_type": "text"
      },
      "source": [
        "О чём данные? (Hint: https://www.kaggle.com/mehdidag/black-friday/home)"
      ]
    },
    {
      "cell_type": "markdown",
      "metadata": {
        "id": "S-CQd-BfYNEa",
        "colab_type": "text"
      },
      "source": [
        "---"
      ]
    },
    {
      "cell_type": "markdown",
      "metadata": {
        "id": "3q3tNGOrYNEa",
        "colab_type": "text"
      },
      "source": [
        "#### Основное задание (в тесте надо будет вставлять ответы для этих пунктов):"
      ]
    },
    {
      "cell_type": "markdown",
      "metadata": {
        "id": "--kzTfO2YNEb",
        "colab_type": "text"
      },
      "source": [
        "*Примечание:* не бойтесь гуглить и заглядывать в \"Полезные ссылки\" для того, чтобы выполнить какие-то задания. Возможно, на семинаре не было какого-то нужного метода, но он находится в поисковике за 2 минуты."
      ]
    },
    {
      "cell_type": "markdown",
      "metadata": {
        "id": "WXRRMZe7YNEb",
        "colab_type": "text"
      },
      "source": [
        "**0).** Сколько всего возрастных категорий?  "
      ]
    },
    {
      "cell_type": "markdown",
      "metadata": {
        "id": "H4UpHEFbYNEf",
        "colab_type": "text"
      },
      "source": [
        "**1).** Сколько строк с мужчинами из категории города A? (речь не об уникальных ID мужчин, а о количестве строк)  "
      ]
    },
    {
      "cell_type": "code",
      "metadata": {
        "id": "QvbBZrkpYNEg",
        "colab_type": "code",
        "colab": {}
      },
      "source": [
        "data3 = data.groupby(['Gender','City_Category']).size().unstack(fill_value=0)"
      ],
      "execution_count": 0,
      "outputs": []
    },
    {
      "cell_type": "code",
      "metadata": {
        "id": "wcDkgWcvwiSw",
        "colab_type": "code",
        "outputId": "74dca4bf-25b1-4b32-d241-fa6a869e016f",
        "colab": {
          "base_uri": "https://localhost:8080/",
          "height": 35
        }
      },
      "source": [
        "#data3=pd.DataFrame(data2)\n",
        "data3['A']['M']"
      ],
      "execution_count": 0,
      "outputs": [
        {
          "output_type": "execute_result",
          "data": {
            "text/plain": [
              "109831"
            ]
          },
          "metadata": {
            "tags": []
          },
          "execution_count": 154
        }
      ]
    },
    {
      "cell_type": "markdown",
      "metadata": {
        "id": "PDC06O38YNEi",
        "colab_type": "text"
      },
      "source": [
        "**2).** Сколько женщин от 46 до 50, потративших (столбец Purchase) больше 20000 (условных единиц, в данном случае)?   (речь не об уникальных ID, а о количестве строк)  "
      ]
    },
    {
      "cell_type": "code",
      "metadata": {
        "id": "eQoVMMqhxbCR",
        "colab_type": "code",
        "colab": {
          "base_uri": "https://localhost:8080/",
          "height": 34
        },
        "outputId": "b9114776-20e8-4c76-ea7e-185c4f652f0d"
      },
      "source": [
        "((data.Age == \"46-50\") & (data.Purchase > 20000)& (data.Gender == \"F\")).sum()"
      ],
      "execution_count": 15,
      "outputs": [
        {
          "output_type": "execute_result",
          "data": {
            "text/plain": [
              "270"
            ]
          },
          "metadata": {
            "tags": []
          },
          "execution_count": 15
        }
      ]
    },
    {
      "cell_type": "markdown",
      "metadata": {
        "id": "oQNZ-8egYNEm",
        "colab_type": "text"
      },
      "source": [
        "**3).** Сколько NaN'ов в столбце Product_Category_3?  "
      ]
    },
    {
      "cell_type": "code",
      "metadata": {
        "id": "nwxjErPQYNEn",
        "colab_type": "code",
        "colab": {
          "base_uri": "https://localhost:8080/",
          "height": 34
        },
        "outputId": "3ad75850-8c06-4c1d-aa8e-6a0f495d9b66"
      },
      "source": [
        "data=pd.DataFrame(data)\n",
        "data[\"Product_Category_3\"].isna().sum()"
      ],
      "execution_count": 7,
      "outputs": [
        {
          "output_type": "execute_result",
          "data": {
            "text/plain": [
              "62855"
            ]
          },
          "metadata": {
            "tags": []
          },
          "execution_count": 7
        }
      ]
    },
    {
      "cell_type": "markdown",
      "metadata": {
        "id": "DxR8KgxBYNEs",
        "colab_type": "text"
      },
      "source": [
        "**4).** Какую долю (вещественное число от 0 до 1, округлить до 4-го знака) от всех покупателей составляют ВМЕСТЕ мужчины от 26 до 35 лет и женщины старше 36 лет (то есть нужно учесть несколько возрастных категорий)? (речь не об уникальных ID, а о количестве таких строк)  "
      ]
    },
    {
      "cell_type": "code",
      "metadata": {
        "id": "ICK0SOJJYNEt",
        "colab_type": "code",
        "colab": {}
      },
      "source": [
        "Males=((data.Age==\"26-35\") & (data.Gender==\"M\")).sum()\n",
        "Females= data['Age'].isin(['36-45', '46-50', '51-55', '55+']) & (data.Gender==\"F\")\n"
      ],
      "execution_count": 0,
      "outputs": []
    },
    {
      "cell_type": "code",
      "metadata": {
        "id": "XPepXDqD59dO",
        "colab_type": "code",
        "colab": {
          "base_uri": "https://localhost:8080/",
          "height": 34
        },
        "outputId": "2c1c3653-9e82-4d53-ba44-9cd16f8dc1cd"
      },
      "source": [
        "q=Females.sum()+Males\n",
        "q/537576"
      ],
      "execution_count": 10,
      "outputs": [
        {
          "output_type": "execute_result",
          "data": {
            "text/plain": [
              "0.40772095480452997"
            ]
          },
          "metadata": {
            "tags": []
          },
          "execution_count": 10
        }
      ]
    },
    {
      "cell_type": "markdown",
      "metadata": {
        "id": "Vv1xTr2YYNEw",
        "colab_type": "text"
      },
      "source": [
        "---"
      ]
    },
    {
      "cell_type": "markdown",
      "metadata": {
        "id": "ElI6jhXnYNEx",
        "colab_type": "text"
      },
      "source": [
        "Больше про pandas можно найти по этом полезным ссылкам:"
      ]
    },
    {
      "cell_type": "markdown",
      "metadata": {
        "id": "itKnSrTFYNEx",
        "colab_type": "text"
      },
      "source": [
        "* Официальные туториалы: http://pandas.pydata.org/pandas-docs/stable/tutorials.html"
      ]
    },
    {
      "cell_type": "markdown",
      "metadata": {
        "id": "5anYf9hGYNEy",
        "colab_type": "text"
      },
      "source": [
        "* Статья на Хабре от [OpenDataScience сообщества](http://ods.ai/)**:** https://habr.com/company/ods/blog/322626/"
      ]
    },
    {
      "cell_type": "markdown",
      "metadata": {
        "id": "RtVuI14DYNEz",
        "colab_type": "text"
      },
      "source": [
        "* Подробный гайд: https://media.readthedocs.org/pdf/pandasguide/latest/pandasguide.pdf"
      ]
    },
    {
      "cell_type": "markdown",
      "metadata": {
        "id": "MySaKecMYNE0",
        "colab_type": "text"
      },
      "source": [
        "Главное в работе с новыми библиотеками -- не бояться тыкать в разные функции, смотреть типы возвращаемых объектов и активно пользоваться Яндексом, а ещё лучше понимать всё из docstring'а (`Shift+Tab` при нахождении курсора внутри скобок функции)."
      ]
    }
  ]
}